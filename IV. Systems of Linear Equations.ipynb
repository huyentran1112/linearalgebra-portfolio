{
 "cells": [
  {
   "cell_type": "code",
   "execution_count": 4,
   "metadata": {},
   "outputs": [],
   "source": [
    "# Basic imports\n",
    "import numpy as np\n",
    "import pandas as pd\n",
    "import matplotlib.pyplot as plt\n",
    "import matplotlib\n",
    "from mpl_toolkits.mplot3d import Axes3D\n",
    "from matplotlib import ticker\n",
    "\n",
    "# Display options\n",
    "from IPython.display import display\n",
    "pd.options.display.max_columns = None\n",
    "\n",
    "np.set_printoptions(threshold=30)\n",
    "\n",
    "# Plots style\n",
    "from cycler import cycler\n",
    "\n",
    "matplotlib.rcParams['lines.linewidth'] = 3\n",
    "matplotlib.rcParams['lines.markersize'] = 10\n",
    "\n",
    "matplotlib.rcParams['xtick.labelsize'] = 12\n",
    "matplotlib.rcParams['xtick.color'] = '#A9A9A9'\n",
    "matplotlib.rcParams['ytick.labelsize'] = 12\n",
    "matplotlib.rcParams['ytick.color'] = '#A9A9A9'\n",
    "\n",
    "matplotlib.rcParams['grid.color'] = '#ffffff'\n",
    "\n",
    "matplotlib.rcParams['axes.facecolor'] = '#ffffff'\n",
    "\n",
    "matplotlib.rcParams['axes.spines.left'] = False\n",
    "matplotlib.rcParams['axes.spines.right'] = False\n",
    "matplotlib.rcParams['axes.spines.top'] = False\n",
    "matplotlib.rcParams['axes.spines.bottom'] = False\n",
    "\n",
    "matplotlib.rcParams['axes.prop_cycle'] = cycler(color=['#2EBCE7', '#84EE29', '#FF8177'])"
   ]
  },
  {
   "cell_type": "markdown",
   "metadata": {},
   "source": [
    "## Systems of Linear Equations\n",
    "\n",
    "In this chapter, you'll be able to use what you learned about vectors and matrices, and linear combinations. This will allow you to convert data into systems of linear equations. At the end of the chapter, you'll see how you can use systems of linear equations and linear algebra to solve a lienar regression problem. \n",
    "\n",
    "Linear equations are formalizations of the relationship between variables. Take the example of linear relationship between two variables x and y define by the following equation: \n",
    "$$\n",
    "y = 2x + 1\n",
    "$$\n",
    "You can represent this relationship in a Cartesian plane:"
   ]
  },
  {
   "cell_type": "code",
   "execution_count": 3,
   "metadata": {},
   "outputs": [
    {
     "data": {
      "image/png": "[encoded data removed]",
      "text/plain": [
       "<Figure size 432x288 with 1 Axes>"
      ]
     },
     "metadata": {
      "needs_background": "dark"
     },
     "output_type": "display_data"
    }
   ],
   "source": [
    "# create x and y vectors \n",
    "x = np.linspace(-2, 2, 100)\n",
    "y = 2 * x + 1\n",
    "plt.plot(x, y)\n",
    "\n",
    "# [...] Add axes and styles \n",
    ", zorder = 0 \n",
    "\n",
    "# Assure that ticks are displayed with a specific step \n",
    "ax = plt.gca()\n",
    "ax.xaxis.set_major_locator(ticker.MultipleLocator(2))\n",
    "ax.yaxis.set_major_locator(ticker.MultipleLocator(2))\n",
    "\n",
    "# draw axes \n",
    "plt.axhline(0, c='#d6d6d6', zorder = 0)\n",
    "plt.axvline(0, c='#d6d6d6', zorder = 0)\n",
    "\n",
    "# assure x and y axis have the same scale\n",
    "plt.axis('equal')\n",
    "plt.xlabel('x')\n",
    "plt.ylabel('y')\n",
    "plt.show()"
   ]
  },
  {
   "cell_type": "markdown",
   "metadata": {},
   "source": [
    "Plot of the equation y = 2x + 1\n",
    "\n",
    "Remember that each point on the line corresponds to a solution of this equation: if you replace x and y with the coordinates of a point on the line in this equation, the equality is satisfied. This means that there is an infinite number of solutions (every point in the line). \n",
    "\n",
    "It is also possible to consider more than one linear equation using the same variables: this is a system of equations. "
   ]
  },
  {
   "cell_type": "markdown",
   "metadata": {},
   "source": [
    "### 4.1 System of linear equations\n",
    "A system of equation is a set of equations describing the relationship between variables. \n",
    "\n",
    "$$\n",
    "\\begin{cases}\n",
    "y = 2x + 1\\\\\\\\\n",
    "y = -0.5x + 3\n",
    "\\end{cases}\n",
    "$$\n",
    "\n",
    "You have two linear equations and they both characterize the relationship between the variable x and y. This is a system with two equations and two variables (also called unknowns in this context). \n",
    "\n",
    "You can consider systems of linear equations (each row of the system) as multiple equations, each corresponding to a line. This is called a row picture. \n",
    "\n",
    "You can also consider the system as different columns corresponding to coefficients scaling the variables. This is caleld the column picture. "
   ]
  },
  {
   "cell_type": "markdown",
   "metadata": {},
   "source": [
    "#### 4.1.1 Row Picture \n",
    "With the row picture, each row of the system corresponds to an equation. In the previous example, there are two equations describing the relationship between two variables x and y. "
   ]
  },
  {
   "cell_type": "markdown",
   "metadata": {},
   "source": [
    "##### Graphical Representation of the Row Picture\n",
    "Let's represent the two equations graphically: "
   ]
  },
  {
   "cell_type": "code",
   "execution_count": 4,
   "metadata": {},
   "outputs": [
    {
     "data": {
      "image/png": "[encoded data removed]",
      "text/plain": [
       "<Figure size 432x288 with 1 Axes>"
      ]
     },
     "metadata": {
      "needs_background": "dark"
     },
     "output_type": "display_data"
    }
   ],
   "source": [
    "# create x and y vectors \n",
    "x = np.linspace(-2, 2, 100)\n",
    "y = 2*x + 1\n",
    "y1 = -0.5*x + 3\n",
    "plt.plot(x, y)\n",
    "plt.plot(x, y1)\n",
    "\n",
    "#[...]\n",
    "\n",
    "# Assure that ticks are displayed with a specific step \n",
    "ax = plt.gca()\n",
    "ax.xaxis.set_major_locator(ticker.MultipleLocator(2))\n",
    "ax.yaxis.set_major_locator(ticker.MultipleLocator(2))\n",
    "\n",
    "# draw axes \n",
    "plt.axhline(0, c='#d6d6d6', zorder=0)\n",
    "plt.axvline(0, c='#d6d6d6', zorder=0)\n",
    "\n",
    "# assure x and y axis have the same scale \n",
    "plt.axis('equal')\n",
    "plt.xlabel('x')\n",
    "plt.ylabel('y')\n",
    "plt.show()"
   ]
  },
  {
   "cell_type": "markdown",
   "metadata": {},
   "source": [
    "Representation of the two equations from our system. "
   ]
  },
  {
   "cell_type": "markdown",
   "metadata": {},
   "source": [
    "Having more than one equation means that the values of x and y must satisfy more equations. Remember that the x and y from the first equation are the same as the x and y from the second equation. \n",
    "\n",
    "All points on the blue line satisfy the first equation and all points on the green line satisfy the second equation. This means that only the point on both lines satisfies the two equations. The system of equations is solved when x and y take the values corresponding to the coordinates of the line intersection. \n",
    "\n",
    "In this example, this point has an x-coordinate of 0.8 and a y-coordinate of 2.6. If you replace these values in the system of equations, you have: \n",
    "$$\n",
    "\\begin{cases}\n",
    "2.6 = 2 \\cdot 0.8 + 1\\\\\\\\\n",
    "2.6 = (-0.5) \\cdot 0.8 + 3\n",
    "\\end{cases}\n",
    "$$\n",
    "This is a geometrical way of solving the system of equations. The linear system is solved for $x=0.8$ and $y=2.6$."
   ]
  },
  {
   "cell_type": "markdown",
   "metadata": {},
   "source": [
    "#### 4.1.2 Column Picture \n",
    "Viewing the system as columns is called the column picture: you consider your system as unknown values (x and y) that scale vectors. \n",
    "\n",
    "To better see this, let's rearrange the equations to have the variables on one side and the constants on the other side. For the first, you have: \n",
    "$$\n",
    "\\begin{aligned}\n",
    "y = 2x + 1 \\\\\\\\\n",
    "y - 2x = 1\n",
    "\\end{aligned}\n",
    "$$\n",
    "and for the second:\n",
    "\n",
    "$$\n",
    "\\begin{aligned}\n",
    "y = -0.5x + 3 \\\\\\\\\n",
    "y + 0.5x = 3\n",
    "\\end{aligned}\n",
    "$$"
   ]
  },
  {
   "cell_type": "markdown",
   "metadata": {},
   "source": [
    "You can see how to convert the two equations into a single vector equation. \n",
    "\n",
    "Considering the system of equations as column vectors scaled by the variables x and y. \n",
    "\n",
    "You have the vector equation. There are two column vectors on the left-hand side and one column vector on the right-hand side. As you saw, this corresponds to a linear combination of the following vectors: \n",
    "\n",
    "$$\n",
    "\\begin{bmatrix}\n",
    "    1 \\\\\\\\\n",
    "    1\n",
    "\\end{bmatrix}\n",
    "$$\n",
    "and\n",
    "\n",
    "$$\n",
    "\\begin{bmatrix}\n",
    "    -2 \\\\\\\\\n",
    "    0.5\n",
    "\\end{bmatrix}\n",
    "$$\n",
    "With the column picture, you replace multiple equations with a single vector equation. In this perspective, you want to find the linear combination of the left-hand side vectors that gives you the right-hand side vector.\n",
    "\n",
    "The solution in the column picture is the same. Row and column pictures are just two different ways to consider the system of equations:\n",
    "\n",
    "$$\n",
    "\\begin{aligned}\n",
    "2.6 \\begin{bmatrix}\n",
    "    1 \\\\\\\\\n",
    "    1\n",
    "\\end{bmatrix} +\n",
    "0.8 \\begin{bmatrix}\n",
    "    -2 \\\\\\\\\n",
    "    0.5\n",
    "\\end{bmatrix}\n",
    "=\\begin{bmatrix}\n",
    "    2.6 \\cdot 1 \\\\\\\\\n",
    "    2.6 \\cdot 1\n",
    "\\end{bmatrix} +\n",
    "\\begin{bmatrix}\n",
    "    0.8 \\cdot (-2) \\\\\\\\\n",
    "    0.8 \\cdot 0.5\n",
    "\\end{bmatrix} \\\\\\\\\n",
    "=\\begin{bmatrix}\n",
    "    2.6 \\\\\\\\\n",
    "    2.6\n",
    "\\end{bmatrix} +\n",
    "\\begin{bmatrix}\n",
    "    -1.6 \\\\\\\\\n",
    "    0.4\n",
    "\\end{bmatrix} \\\\\\\\\n",
    "=\\begin{bmatrix}\n",
    "    2.6 - 1.6 \\\\\\\\\n",
    "    2.6 + 0.4\n",
    "\\end{bmatrix}=\\begin{bmatrix}\n",
    "    1 \\\\\\\\\n",
    "    3\n",
    "\\end{bmatrix}\n",
    "\\end{aligned}\n",
    "$$\n",
    "It works: you get the right-hand side vector if you use the solution you found geometrically."
   ]
  },
  {
   "cell_type": "markdown",
   "metadata": {},
   "source": [
    "##### Graphical Representation of the Column Picture"
   ]
  },
  {
   "cell_type": "markdown",
   "metadata": {},
   "source": [
    "Let's represent the system of equations considering it as a linear combination of vectors. Let's take again the previous example: \n",
    "$$\n",
    "y \\begin{bmatrix}\n",
    "    1 \\\\\\\\\n",
    "    1\n",
    "\\end{bmatrix} +\n",
    "x \\begin{bmatrix}\n",
    "    -2 \\\\\\\\\n",
    "    0.5\n",
    "\\end{bmatrix} =\n",
    "\\begin{bmatrix}\n",
    "    1 \\\\\\\\\n",
    "    3\n",
    "\\end{bmatrix}\n",
    "$$"
   ]
  },
  {
   "cell_type": "markdown",
   "metadata": {},
   "source": [
    "The graphical representation of the two vectors from the left-hand side (the vectors you want to combine, in blue and red in the picture) and the vector from the right-hand side of the equation (the vector you want to obtain from the linear combination, in green in picture). \n",
    "\n",
    "You can reach the right-hand side vector by combining the left-hand side vectors. If you scale the vectors with the value 2.6 and 0.8, the linear combination gets you to the vector on the right-hand side of the equation. "
   ]
  },
  {
   "cell_type": "markdown",
   "metadata": {},
   "source": [
    "#### 4.1.3 Number of Solutions\n",
    "In some linear systems, there is not a unique solution. Actually, linear systems of equations can have either: \n",
    "- No solution. \n",
    "- One solution. \n",
    "- An infinite number of solutions. \n",
    "\n",
    "Let's consider these three possibilities (with the row picture and the column picture) to see how it is impossible for a linear system to have more than one solution and less than an infinite number of solutions. "
   ]
  },
  {
   "cell_type": "markdown",
   "metadata": {},
   "source": [
    "##### Example 1. No Solution\n",
    "Let's take the following system of equations, still with two equations and two variabels: \n",
    "$$\n",
    "\\begin{cases}\n",
    "y = 2x + 1\\\\\\\\\n",
    "y = 2x + 3\n",
    "\\end{cases}\n",
    "$$\n",
    "We’ll start by representing these equations:"
   ]
  },
  {
   "cell_type": "code",
   "execution_count": 5,
   "metadata": {},
   "outputs": [
    {
     "data": {
      "image/png": "[encoded data removed]",
      "text/plain": [
       "<Figure size 432x288 with 1 Axes>"
      ]
     },
     "metadata": {
      "needs_background": "dark"
     },
     "output_type": "display_data"
    }
   ],
   "source": [
    "# create x and y vectors \n",
    "x = np.linspace (-2, 2, 100)\n",
    "y = 2 *x + 1\n",
    "y1 = 2 *x + 3\n",
    "\n",
    "plt.plot(x, y)\n",
    "plt.plot(x, y1)\n",
    "\n",
    "#[...] Add axes, styles...\n",
    "# Assure that ticks are displayed with a specific step \n",
    "ax = plt.gca()\n",
    "ax.xaxis.set_major_locator(ticker.MultipleLocator(2))\n",
    "ax.yaxis.set_major_locator(ticker.MultipleLocator(2))\n",
    "\n",
    "# draw axes \n",
    "plt.axhline(0, c='#d6d6d6', zorder = 0)\n",
    "plt.axvline(0, c='#d6d6d6', zorder = 0)\n",
    "\n",
    "# assure x and y axis have the same scale \n",
    "plt.axis('equal')\n",
    "plt.xlabel('x')\n",
    "plt.ylabel('y')\n",
    "plt.show()"
   ]
  },
  {
   "cell_type": "markdown",
   "metadata": {},
   "source": [
    "Parallel equation lines. \n",
    "\n",
    "There is no point that is on both the blue and green lines. This means that this system of equations has no solution. \n",
    "\n",
    "You can also understand graphically why there is no solution through the column picture. Let's write the systems of equations as follows: \n",
    "$$\n",
    "\\begin{cases}\n",
    "y - 2x = 1\\\\\\\\\n",
    "y - 2x = 3\n",
    "\\end{cases}\n",
    "$$\n",
    "Writing it as a linear combination of column vectors, you have:\n",
    "\n",
    "$$\n",
    "y \\begin{bmatrix}\n",
    "    1 \\\\\\\\\n",
    "    1\n",
    "\\end{bmatrix} +\n",
    "x \\begin{bmatrix}\n",
    "    2 \\\\\\\\\n",
    "    2\n",
    "\\end{bmatrix} =\n",
    "\\begin{bmatrix}\n",
    "    1 \\\\\\\\\n",
    "    3\n",
    "\\end{bmatrix}\n",
    "$$\n",
    "The column vectors of the system. You can see that it is impossible to reach the endpoint of the green vector by combining the blue and the red vectors. The reason is that these vectors are linearly dependent. The vector to reach is outside of the span of the vectors you combine."
   ]
  },
  {
   "cell_type": "markdown",
   "metadata": {},
   "source": [
    "##### Example 2. Infinite Number of Solutions\n",
    "You can encounter another situation where the system has an infinite number of solutions. Let's consider the following systems: \n",
    "$$\n",
    "\\begin{cases}\n",
    "y = 2x + 1\\\\\\\\\n",
    "2y = 4x + 2\n",
    "\\end{cases}\n",
    "$$"
   ]
  },
  {
   "cell_type": "code",
   "execution_count": 6,
   "metadata": {},
   "outputs": [
    {
     "data": {
      "image/png": "[encoded data removed]",
      "text/plain": [
       "<Figure size 432x288 with 1 Axes>"
      ]
     },
     "metadata": {
      "needs_background": "dark"
     },
     "output_type": "display_data"
    }
   ],
   "source": [
    "# create x and y vectors \n",
    "x = np.linspace(-2, 2, 100)\n",
    "y = 2*x + 1\n",
    "y1 = (4*x + 2)/2\n",
    "\n",
    "plt.plot(x, y)\n",
    "plt.plot(x, y1, alpha=0.3)\n",
    "#[...] Add axes, styles...\n",
    "\n",
    "# Assure that ticks are displayed with a specific step \n",
    "ax = plt.gca()\n",
    "ax.xaxis.set_major_locator(ticker.MultipleLocator(2))\n",
    "ax.yaxis.set_major_locator(ticker.MultipleLocator(2))\n",
    "\n",
    "# draw axes \n",
    "plt.axhline(0, c='#d6d6d6', zorder=0)\n",
    "plt.axvline(0, c='#d6d6d6', zorder=0)\n",
    "\n",
    "# assure x and y axis have the same scale\n",
    "plt.axis('equal')\n",
    "plt.xlabel('x')\n",
    "plt.xlabel('y')\n",
    "plt.show()"
   ]
  },
  {
   "cell_type": "markdown",
   "metadata": {},
   "source": [
    "The equation lines are overlapping."
   ]
  },
  {
   "cell_type": "markdown",
   "metadata": {},
   "source": [
    "Since the equations are the same, an infinite number of points are on both lines and thus, there is an infinite number of solutions for this system of linear equations. This is for instance similar to the case with a single equaiton and two variables. "
   ]
  },
  {
   "cell_type": "markdown",
   "metadata": {},
   "source": [
    "From the column picture perspective, you have: \n",
    "$$\n",
    "\\begin{cases}\n",
    "y - 2x = 1\\\\\\\\\n",
    "2y - 4x = 2\n",
    "\\end{cases}\n",
    "$$\n",
    "and with the vector notation:\n",
    "\n",
    "$$\n",
    "y \\begin{bmatrix}\n",
    "    1 \\\\\\\\\n",
    "    2\n",
    "\\end{bmatrix} +\n",
    "x \\begin{bmatrix}\n",
    "    2 \\\\\\\\\n",
    "    4\n",
    "\\end{bmatrix} =\n",
    "\\begin{bmatrix}\n",
    "    1 \\\\\\\\\n",
    "    2\n",
    "\\end{bmatrix}\n",
    "$$\n",
    "The corresponding vectors graphically represented. You can see that there is an infinite number of ways to reach the endpoint of the green vector with combinations of the blue and red vectors.\n",
    "\n",
    "Since both vectors go in the same direction, there is an infinite number of linear combinations allowing you to reach the right-hand side vector."
   ]
  },
  {
   "cell_type": "markdown",
   "metadata": {},
   "source": [
    "##### Summary\n",
    "To summarize, you can have three possible situations, shown with two equations and two variables. \n",
    "\n",
    "It is impossible to have two lines crossing more than once and less than an infinite number of times. \n",
    "\n",
    "The principle holds for more dimensions. For instance, with three planes in $setR^3$, at least two can be parallel (no solution), the three can intersect (one solution), or the three can be superposed (infinite number of solutions). "
   ]
  },
  {
   "cell_type": "markdown",
   "metadata": {},
   "source": [
    "#### 3.1.4 Representation of Linear Equations with Matrices"
   ]
  },
  {
   "cell_type": "markdown",
   "metadata": {},
   "source": [
    "Now that you can write vector equations using the column picture, you can go further and use a matrix to store the column vectors. "
   ]
  },
  {
   "cell_type": "markdown",
   "metadata": {},
   "source": [
    "Let's take again the following linear system: \n",
    "$$\n",
    "y \\begin{bmatrix}\n",
    "    1 \\\\\\\\\n",
    "    1\n",
    "\\end{bmatrix} + x \\begin{bmatrix}\n",
    "    -2 \\\\\\\\\n",
    "    0.5\n",
    "\\end{bmatrix} = \\begin{bmatrix}\n",
    "    1 \\\\\\\\\n",
    "    3\n",
    "\\end{bmatrix}\n",
    "$$\n",
    "You can write linear combinations as a matrix-vector product. The matrix corresponds to the two column vectors from the left-hand side concatenated:\n",
    "\n",
    "$$\n",
    "\\begin{bmatrix}\n",
    "    1  -2 \\\\\\\\\n",
    "    1  0.5\n",
    "\\end{bmatrix}\n",
    "$$\n",
    "And the vector corresponds to the coefficients weighting the column vectors of the matrix (here, $x$ and $y$):\n",
    "\n",
    "$$\n",
    "\\begin{bmatrix}\n",
    "    y \\\\\\\\\n",
    "    x\n",
    "\\end{bmatrix}\n",
    "$$\n",
    "Your linear system becomes the following matrix equation:\n",
    "\n",
    "$$\n",
    "\\begin{bmatrix}\n",
    "    1  -2 \\\\\\\\\n",
    "    1  0.5\n",
    "\\end{bmatrix}\n",
    "\\begin{bmatrix}\n",
    "    y \\\\\\\\\n",
    "    x\n",
    "\\end{bmatrix}\n",
    "= \\begin{bmatrix}\n",
    "    1 \\\\\\\\\n",
    "    3\n",
    "\\end{bmatrix}\n",
    "$$"
   ]
  },
  {
   "cell_type": "markdown",
   "metadata": {},
   "source": [
    "##### Notation\n",
    "This leads to the following notation widely used to write linear systems: \n",
    "$$\n",
    "mA vx = vb\n",
    "$$\n",
    "with $mA$ the matrix containing the column vectors, $vx$ the vector of coefficients and $vb$ the resulting vector, that we'll call the target vector. It allows you to go from calculus, where equations are considered separately, to lienar algebra, where every piece of the linear system are represented as vectors and matrices. This abstraction is very powerful and brings vector space theory to solve systems of linear equations. \n",
    "\n",
    "With the column picture, you want to find the coefficients of the linear combination of the column vectors on the left-hand side of the equation. The solution exists only if the target vector is within their span. "
   ]
  },
  {
   "cell_type": "markdown",
   "metadata": {},
   "source": [
    "### 4.2 System Shape\n",
    "Now that you can represent linear systems of equations as matrix equations, you'll be able to leverage what you learn about matrices in this context. \n",
    "\n",
    "The properties of the matrix $mA$ in the system $mA vx=vb$ gives some information about the system and the number of solutions depends of the shape of $mA$."
   ]
  },
  {
   "cell_type": "markdown",
   "metadata": {},
   "source": [
    "#### 4.2.1 Overdetermined Systems of Equations\n",
    "If $mA$ has more rows than columns, the system has more equations than unknowns. It is called an overdetermined system. The consequences is that there is often no soltuion to such systems. \n",
    "\n",
    "To see why, let's consider the case of a matrix $mA$ of shape (3,2). With the row picture, you have three equations and two unknowns. There is no solution because the three lines will generally not intersect in a common points. \n",
    "\n",
    "An overdetermined system with two unknowns and three equations. There is usually no solution. \n",
    "\n",
    "Let's take another example: a matrix $mA$ with a shape (4,3). The row picture shows four planes in three dimensions. \n",
    "\n",
    "You can see by looking at the plane intersections that there is no point at the intersection of all planes. This means that there is no solution in this system of linear equations. \n",
    "\n",
    "The principle is the same for a larger number of dimensions."
   ]
  },
  {
   "cell_type": "markdown",
   "metadata": {},
   "source": [
    "#### 4.2.2 Underdetermined Systems of Equations"
   ]
  },
  {
   "cell_type": "markdown",
   "metadata": {},
   "source": [
    "When the system has fewer equations than unknowns ($mA$ has less rows than columns) it is called underdetermined. In this case, there is often an infinite number of solutions. In some particular cases, an underdetermined system can have no solution. \n",
    "\n",
    "Let's take the following system as an example: \n",
    "$$\n",
    "y = -3x - 4\n",
    "$$\n",
    "\n",
    "There is a single equation and two unknowns, so the system is underdetermined. Since there is only one equation, all points on the line is a solution, there is an infinite number of points on the line, so there is an infinite number of solutions. \n",
    "\n",
    "Let's take another example: \n",
    "$$\n",
    "\\begin{cases}\n",
    "z = -2x + 3y + 5\\\\\\\\\n",
    "z = 4x + y + 2\n",
    "\\end{cases}\n",
    "$$\n",
    "In this system, there are two equations and three unknowns: it is underdetermined.\n",
    "\n",
    "Let's set another example showing a particular case of an underdetermined system of equations: \n",
    "$$\n",
    "\\begin{cases}\n",
    "z = x + y\\\\\\\\\n",
    "z = x + y + 10\n",
    "\\end{cases}\n",
    "$$\n",
    "\n",
    "You can see that the two planes are parallel: there is no point at the intersection of these two planesm abd thus, the system has no solution. \n",
    "\n",
    "Even if overdetermined systems has often no solution and underdetermined systems have an infinite number of solutions, there are special situations where this is not the case. "
   ]
  },
  {
   "cell_type": "markdown",
   "metadata": {},
   "source": [
    "### 4.3  Projections\n",
    "You saw how to express a system of linear equations with the form $mAvx$ = $vb$. However, how can you find a solution or approximate a solution when none exists? The matrix form of the system of equations sometimes allows you to express the solution using the inverse of the matrix $mA$. \n",
    "\n",
    "You will see that there is a solution if the target vector is in the column space of $mA$. If it is not the case, you need to project the target vector to the column space to approximate a solution. \n",
    "\n",
    "You will learn how to do these projection and it will lead you to understand a major equation in machine learning and data science: the normal equation. "
   ]
  },
  {
   "cell_type": "markdown",
   "metadata": {},
   "source": [
    "#### 4.3.1 Solving Systems of Equations\n",
    "\n",
    "Finding the inverse of a matrix allows you to solve systems of linear equations. As you learned, the multiplication of a matrix iwth its inverse gives the identity matrix (mAmI = mA). Since a matrix multiplied by its inverse gives you the identity matrix ($mA^{-1} mA = mI$), you can use the inverse to isolate an element in a matrix equation. If the matrix $mA$ has an inverse, you can multiply each side of the linear system by $mA-1$: \n",
    "$$\n",
    "\\begin{aligned}\n",
    "mA vx = vb \\\\\\\\\n",
    "mA^{-1}mA vx = mA^{-1}vb \\\\\\\\\n",
    "vx = mA^{-1}vb\n",
    "\\end{aligned}\n",
    "$$\n"
   ]
  },
  {
   "cell_type": "markdown",
   "metadata": {},
   "source": [
    "This is like with standard equations where you multiply or divide each side to isolate the variable you're interested in. However, be careful and remember that, with matrices and vectors, the order of the multiplication matters. \n",
    "\n",
    "In the matrix equation, you know $mA$ and $vb$ and you want to find $vx$. If $mA$ has an inverse, the equation is solved. \n",
    "\n",
    "The matrix $mA$ gives information about the system of equations. For instance, if $mA$ is invertible (its inverse exists), you know that the set of equations has one and only one solution. In addition, a square matrix $mA$ is singular if and only if its determinant is equal to zero, so if $mA$ has a non-zero determinant, the system of linear equations has a single solution. "
   ]
  },
  {
   "cell_type": "markdown",
   "metadata": {},
   "source": [
    "#### 4.3.2 Projections to Approximate Unsolvable Systems \n",
    "A linear system $mA vx=vb$ is solvable only if the target vector $vb$ is included in the column space of $mA$ (the space corresponding to all possible linear combinations of the column vectors of the matrix. Solving the system $mA vx=vb$ means finding a linear combination of the columns of $mA$ equal to $vb$, the solution being $vx$.\n",
    "\n",
    "However, some sets of linear equations have no solution. This is often the case with overdetermined system of equations, where the matrix $mA$ has more rows than column $(m>n)$. \n",
    "\n",
    "Let's take an example with the following set of equations: \n",
    "$$\n",
    "\\begin{cases}\n",
    "y = 2x + 1 \\\\\\\\\n",
    "y = x - 0.5 \\\\\\\\\n",
    "y = -2x\n",
    "\\end{cases}\n",
    "$$"
   ]
  },
  {
   "cell_type": "code",
   "execution_count": 8,
   "metadata": {},
   "outputs": [
    {
     "data": {
      "image/png": "[encoded data removed]",
      "text/plain": [
       "<Figure size 432x288 with 1 Axes>"
      ]
     },
     "metadata": {
      "needs_background": "dark"
     },
     "output_type": "display_data"
    }
   ],
   "source": [
    "# create x and y vectors\n",
    "x = np.linspace(-2, 2, 100)\n",
    "y = 2 * x + 1\n",
    "y1 =  x - 0.5\n",
    "y2 = -2 * x\n",
    "\n",
    "plt.plot(x, y)\n",
    "plt.plot(x, y1)\n",
    "plt.plot(x, y2)\n",
    "# [...] Add axes, styles etc.\n",
    "\n",
    "# Assure that ticks are displayed with a specific step\n",
    "ax = plt.gca()\n",
    "ax.xaxis.set_major_locator(ticker.MultipleLocator(2))\n",
    "ax.yaxis.set_major_locator(ticker.MultipleLocator(2))\n",
    "\n",
    "# draw axes\n",
    "plt.axhline(0, c='#d6d6d6', zorder=0)\n",
    "plt.axvline(0, c='#d6d6d6', zorder=0)\n",
    "\n",
    "# assure x and y axis have the same scale\n",
    "plt.axis('equal')\n",
    "plt.xlabel(\"x\")\n",
    "plt.ylabel(\"y\")\n",
    "plt.show()"
   ]
  },
  {
   "cell_type": "markdown",
   "metadata": {},
   "source": [
    "Row picture of a unsolvable system of equations"
   ]
  },
  {
   "cell_type": "markdown",
   "metadata": {},
   "source": [
    "The three lines do not intersect in a common point. Writing the system with all variables on the left-hand side, you have: \n",
    "$$\n",
    "\\begin{cases}\n",
    "-2x + y = 1 \\\\\\\\\n",
    "-x + y = 0.5 \\\\\\\\\n",
    "2x + y = 0\n",
    "\\end{cases}\n",
    "$$\n",
    "\n",
    "The matrix form is $mAvx$ = $vb$, with the following $mA, vx$ and $vb$:\n",
    "$$\n",
    "\\begin{aligned}\n",
    "mA vx &= vb \\\\\\\\\n",
    "\\begin{bmatrix}\n",
    "    -2  1 \\\\\\\\\n",
    "    -1  1 \\\\\\\\\n",
    "    2  1\n",
    "\\end{bmatrix}\n",
    "\\begin{bmatrix}\n",
    "    x \\\\\\\\\n",
    "    y\n",
    "\\end{bmatrix}\n",
    "= \\begin{bmatrix}\n",
    "    1 \\\\\\\\\n",
    "    0.5 \\\\\\\\\n",
    "    0\n",
    "\\end{bmatrix}\n",
    "\\end{aligned}\n",
    "$$\n",
    "\n",
    "Note that we used the letter x and y because we represented the equations in a Cartesian plane: the vector $vx$ contains both values x and y.\n",
    "\n",
    "Let's represent the column vectors of $mA$ as geometric vectors. They are: \n",
    "$$\n",
    "\\begin{bmatrix}\n",
    "    -2 \\\\\\\\\n",
    "    -1 \\\\\\\\\n",
    "    2\n",
    "\\end{bmatrix}\n",
    "$$\n",
    "and\n",
    "\n",
    "$$\n",
    "\\begin{bmatrix}\n",
    "    1 \\\\\\\\\n",
    "    1 \\\\\\\\\n",
    "    1\n",
    "\\end{bmatrix}\n",
    "$$\n",
    "We’ll also visualize their span: the space containing all points reachable by linear combination of these two vectors. This space is the column space of $mA$.\n",
    "\n",
    "Finally, let’s represent the vector $vb$ corresponding to the position you want to reach, which is defined as:\n",
    "\n",
    "$$\n",
    "\\begin{bmatrix}\n",
    "    1 \\\\\\\\\n",
    "    0.5 \\\\\\\\\n",
    "    0\n",
    "\\end{bmatrix}\n",
    "$$"
   ]
  },
  {
   "cell_type": "code",
   "execution_count": 10,
   "metadata": {},
   "outputs": [
    {
     "data": {
      "image/png": "[encoded data removed]",
      "text/plain": [
       "<Figure size 576x432 with 1 Axes>"
      ]
     },
     "metadata": {
      "needs_background": "dark"
     },
     "output_type": "display_data"
    }
   ],
   "source": [
    "import matplotlib.pyplot as plt\n",
    "from mpl_toolkits.mplot3d import Axes3D\n",
    "\n",
    "v1 = np.array([-2, -1, 2])\n",
    "v2 = np.array([1, 1, 1])\n",
    "v3 = np.array([0.3, -1, -1])\n",
    "\n",
    "x = np.linspace(-1, 1, 15)\n",
    "y = np.linspace(-1, 1, 15)\n",
    "\n",
    "X, Y = np.meshgrid(x, y)\n",
    "\n",
    "fig = plt.figure(figsize=(8, 6))\n",
    "ax = plt.axes(projection='3d')\n",
    "\n",
    "Z = np.zeros(X.shape)\n",
    "for i in range(X.shape[0]):\n",
    "    for j in range(Y.shape[1]):\n",
    "        z = x[i] * v1 + y[j] * v2\n",
    "        ax.scatter(z[0], z[1], z[2], c='#2EBCE7', alpha=0.3)\n",
    "    \n",
    "ax.quiver(0, 0, 0, v1[0], v1[1], v1[2], color=\"#F57F53\")\n",
    "ax.quiver(0, 0, 0, v2[0], v2[1], v2[2], color=\"#F57F53\")\n",
    "ax.quiver(0, 0, 0, v3[0], v3[1], v3[2], color=\"#00E64E\")\n",
    "\n",
    "ax.view_init(elev=-27, azim=23)\n",
    "\n",
    "ax.set_xlim3d(-2, 2)\n",
    "ax.set_ylim3d(-2, 2)\n",
    "ax.set_zlim3d(-2, 2)\n",
    "plt.show()"
   ]
  },
  {
   "cell_type": "markdown",
   "metadata": {},
   "source": [
    "The target vector (green) is outside of the span of the column space (red). "
   ]
  },
  {
   "cell_type": "markdown",
   "metadata": {},
   "source": [
    "The target vector you want to reach (in green) is outside of the column space (the blue plane, corresponding to the span of the column vectors of $mA$ represented in red). This shows that you can't reach the green vector by linear combinations of the red vectors. \n",
    "\n",
    "However, you might want to approximate a solution when a true solution doesn't exist. A good candidate is the nearest point to the target vector which is into the plane. This is the green vector projected onto the column space of $mA$. \n",
    "\n",
    "Let's see how projection works by looking at how you can project onto a line, and then onto a plane."
   ]
  },
  {
   "cell_type": "markdown",
   "metadata": {},
   "source": [
    "#### 4.3.3 Projections Onto a Line \n",
    "\n",
    "Let's see how to project a vector onto a line.\n",
    "\n",
    "Projection onto a line: the vector $vp$ is the projection of the vector $vb$ onto the line passing by the vector $va$. \n",
    "\n",
    "The projection line is perpendicular to the vector $va$ onto which you project. This projection is called orthogonal projection. \n",
    "\n",
    "First, you can see that the projection vector going from $vb$ to the line passing by $va$ is defined as $vb-vp$ (the gray solid vector in the figure, the starting point of the vector doesn't matter). \n",
    "\n",
    "\n",
    "Furthermore, the vector $vp$ is a scaled version of the vector $va$. Mathematically, you can write: \n",
    "$$\n",
    "vp = \\hat{x}va\n",
    "$$\n",
    "with $\\hat{x}$ (pronounced “x hat”) the unknown value scaling the vector $va$ to reach the projection. You thus want to find $hat{x}$ from $va$ and $vb$. Since the vectors $va$ and $vb - vp$ are orthogonal, you have:\n",
    "\n",
    "$$\n",
    "va \\cdot (vb - vp) = 0\n",
    "$$\n",
    "Replacing $vp$, you have:\n",
    "\n",
    "$$\n",
    "\\begin{aligned}\n",
    "va \\cdot (vb - \\hat{x}va) &amp;= 0 \\\\\\\\\n",
    "va \\cdot vb - va \\cdot \\hat{x}va &amp;= 0 \\\\\\\\\n",
    "-va \\cdot \\hat{x}va = - va \\cdot vb \\\\\\\\\n",
    "va \\cdot \\hat{x}va = va \\cdot vb \\\\\\\\\n",
    "\\hat{x} = \\frac{va \\cdot vb}{va \\cdot va}\n",
    "\\end{aligned}\n",
    "$$\n",
    "You have a way to calculate $\\hat{x}$. If you use this value to rescale the vector $va$, you’ll get the projection vector $vp$. So, you can write:\n",
    "\n",
    "$$\n",
    "vp = \\hat{x}va = \\frac{va \\cdot vb}{va \\cdot va}va\n",
    "$$\n",
    "This formula allows you to calculate the projection of a vector onto another."
   ]
  },
  {
   "cell_type": "markdown",
   "metadata": {},
   "source": [
    "##### Example: \n",
    "Let's have the vector \n",
    "$$\n",
    "va = \\begin{bmatrix}\n",
    "    3 \\\\\\\\\n",
    "    1\n",
    "\\end{bmatrix}\n",
    "$$\n",
    "and\n",
    "\n",
    "$$\n",
    "vb = \\begin{bmatrix}\n",
    "    1 \\\\\\\\\n",
    "    2\n",
    "\\end{bmatrix}\n",
    "$$\n",
    "You’ll project the vector $vb$ onto the vector $va$. Plotting these vectors you have:"
   ]
  },
  {
   "cell_type": "code",
   "execution_count": 5,
   "metadata": {},
   "outputs": [
    {
     "data": {
      "image/png": "[encoded data removed]",
      "text/plain": [
       "<Figure size 432x288 with 1 Axes>"
      ]
     },
     "metadata": {
      "needs_background": "dark"
     },
     "output_type": "display_data"
    }
   ],
   "source": [
    "# Assure that ticks are displayed with a specific step \n",
    "ax = plt.gca()\n",
    "ax.xaxis.set_major_locator(ticker.MultipleLocator(1))\n",
    "ax.xaxis.set_major_locator(ticker.MultipleLocator(1))\n",
    "\n",
    "ax.quiver(0, 0, 1, 2, color='#2EBCE7', angles='xy', scale_units='xy', scale=1)\n",
    "plt.text(0.2, 1, r'$\\vec{b}$', color='#2EBCE7', size=18)\n",
    "\n",
    "ax.quiver(0, 0, 3, 1, color='#00E64E', angles='xy', scale_units='xy', scale=1)\n",
    "plt.text(1.5, 0.2, r'$\\vec{a}$', color='#00E64E',size=18)\n",
    "#[...] Add axes etc. \n",
    "\n",
    "# draw axes.\n",
    "plt.axhline(0, c='#d6d6d6', zorder=0)\n",
    "plt.axvline(0, c='#d6d6d6', zorder=0)\n",
    "\n",
    "plt.xlim(-1, 3)\n",
    "plt.ylim(-1, 3)\n",
    "plt.xlabel('x')\n",
    "plt.ylabel('y')\n",
    "plt.show()"
   ]
  },
  {
   "cell_type": "markdown",
   "metadata": {},
   "source": [
    "Representation of the vectors $va$ and $vb$.\n",
    "\n",
    "The projection is $p = \\hat{x}va = \\frac{va \\cdot vb}{va \\cdot va}va$, so you have:\n",
    "\n",
    "$$\n",
    "\\begin{aligned}\n",
    "\\frac{va \\cdot vb}{va \\cdot va}va =\n",
    "\\frac{\\begin{bmatrix}\n",
    "    3 \\\\\\\\\n",
    "    1\n",
    "\\end{bmatrix} \\cdot\n",
    "\\begin{bmatrix}\n",
    "    1 \\\\\\\\\n",
    "    2\n",
    "\\end{bmatrix}}{\\begin{bmatrix}\n",
    "    3 \\\\\\\\\n",
    "    1\n",
    "\\end{bmatrix} \\cdot\n",
    "\\begin{bmatrix}\n",
    "    3 \\\\\\\\\n",
    "    1\n",
    "\\end{bmatrix}}\n",
    "\\begin{bmatrix}\n",
    "    3 \\\\\\\\\n",
    "    1\n",
    "\\end{bmatrix} \\\\\\\\\n",
    "=\n",
    "\\frac{5}{10}\n",
    "\\begin{bmatrix}\n",
    "    3 \\\\\\\\\n",
    "    1\n",
    "\\end{bmatrix} \\\\\\\\\n",
    "=\n",
    "\\begin{bmatrix}\n",
    "    1.5 \\\\\\\\\n",
    "    0.5\n",
    "\\end{bmatrix}\n",
    "\\end{aligned}\n",
    "$$\n",
    "Let’s plot the projection."
   ]
  },
  {
   "cell_type": "code",
   "execution_count": 5,
   "metadata": {},
   "outputs": [
    {
     "data": {
      "image/png": "[encoded data removed]",
      "text/plain": [
       "<Figure size 432x288 with 1 Axes>"
      ]
     },
     "metadata": {
      "needs_background": "dark"
     },
     "output_type": "display_data"
    }
   ],
   "source": [
    "# Assure that ticks are displayed with a step equal to 1\n",
    "ax = plt.gca()\n",
    "ax.xaxis.set_major_locator(ticker.MultipleLocator(1))\n",
    "ax.yaxis.set_major_locator(ticker.MultipleLocator(1))\n",
    "\n",
    "ax.quiver(0, 0, 1, 2, color=\"#2EBCE7\", angles='xy', scale_units='xy', scale=1)\n",
    "plt.text(0.2, 1, r'$\\vec{b}$', color=\"#2EBCE7\", size=18)\n",
    "\n",
    "ax.quiver(0, 0, 3, 1, color=\"#00E64E\", angles='xy', scale_units='xy', scale=1)\n",
    "plt.text(2, 0.3, r'$\\vec{a}$', color=\"#00E64E\", size=18)\n",
    "\n",
    "ax.quiver(0, 0, 1.5, 0.5, color=\"#F57F53\", angles='xy', scale_units='xy', scale=1)\n",
    "plt.text(1.2, 0.1, r'$\\vec{p}$', color=\"#F57F53\", size=18)\n",
    "# [...] Add axes etc.\n",
    "\n",
    "# draw axes\n",
    "plt.axhline(0, c='#A9A9A9')\n",
    "plt.axvline(0, c='#A9A9A9')\n",
    "\n",
    "plt.xlim(-1, 3)\n",
    "plt.ylim(-1, 3)\n",
    "plt.xlabel(\"x\")\n",
    "plt.ylabel(\"y\")\n",
    "plt.show()"
   ]
  },
  {
   "cell_type": "markdown",
   "metadata": {},
   "source": [
    "The vector $vp$ is the projection of the vector $vb$ onto the vector $va$. \n",
    "\n",
    "The vector $vp$ is the projection of the vector $vb$ onto the line corresponding to the vector $va$."
   ]
  },
  {
   "cell_type": "markdown",
   "metadata": {},
   "source": [
    "#### 4.3.4 Projections Onto a Plane"
   ]
  },
  {
   "cell_type": "markdown",
   "metadata": {},
   "source": [
    "To approximate a solution for a system of equations, you can calculate the projection $vp$ of the vector $vb$ onto the plane corresponding to the column space of the matrix $mA$. You then solve the new equation $mA \\hat{vx}=vp$ which has a solution.\n",
    " \n",
    "The projection vector $vp$ is in the column space. \n",
    "\n",
    "You can reach the projection (the purple dot) with linear combinations of the column vectors (in read). \n",
    "\n",
    "Let's start from the vector $vp$. Mathematically, it is a linear combination of the column vectors of $mA$: \n",
    "$$\n",
    "vp = \\hat{x}_1 va_1 + \\cdots + \\hat{x}_n va_n = mA\\hat{vx}\n",
    "$$\n",
    "with $n$ being the number of columns of $mA$, $a_1$ the first column vector, $a_n$ the $n$th column vector, $\\hat{x}_1$ the value scaling the first column vector, and $\\hat{x}_n$ the value scaling the $n$th column vector."
   ]
  },
  {
   "cell_type": "markdown",
   "metadata": {},
   "source": [
    "with n being the number of columns of $mA$, $a1$ the first column vector, $an$ the $nth$ column vector,  $\\hat{x}_1$ the value scaling the first column vector, and $\\hat{x}_n$ the value scaling the $n$th column vector.\n",
    "\n",
    "Calculating the projection onto a plane is very similar to the projection onto a line. You also want to find $\\hat{vx}$ (which is a vector of weights instead of a scalar) such as the vector $vp$ is the closest vector to $vb$ belonging to the column space. The vector from $vb$ to $vp$ (in gray) is perpendicular to the plane.\n",
    "\n",
    "This means that the dot product between this line and the plane is zero: $vb - vp$ is perpendicular to every vectors $va_1$ to $va_n$:\n",
    "\n",
    "$$\n",
    "\\begin{cases}\n",
    "va_1 \\cdot (vb - vp) = 0 \\\\\\\\\n",
    "\\vdots \\\\\\\\\n",
    "va_n \\cdot (vb - vp) = 0\n",
    "\\end{cases}\n",
    "$$\n",
    "The vectors $va_1$ to $va_n$ are the column vectors from $mA$. You can write the equations as matrix product (you need to transpose the vectors $va_1$ to $va_n$ to have a working matrix product):\n",
    "\n",
    "$$\n",
    "\\begin{bmatrix}\n",
    "    \\va_1^{\\text{T}} \\\\\\\\\n",
    "    \\vdots \\\\\\\\\n",
    "    \\va_n^{\\text{T}}\n",
    "\\end{bmatrix}\n",
    "\\begin{bmatrix}\n",
    "    vb - vp\n",
    "\\end{bmatrix} =\n",
    "\\begin{bmatrix}\n",
    "    0\n",
    "\\end{bmatrix}\n",
    "$$\n",
    "The matrix containing the vectors $va_1$ to $va_n$ can be written as:\n",
    "\n",
    "$$\n",
    "\\begin{bmatrix}\n",
    "    \\va_1^{\\text{T}} \\\\\\\\\n",
    "    \\vdots \\\\\\\\\n",
    "    \\va_n^{\\text{T}}\n",
    "\\end{bmatrix} = \\begin{bmatrix}\n",
    "    va_1  \\cdots  va_n\n",
    "\\end{bmatrix}^{\\text{T}} = mA^{\\text{T}}\n",
    "$$\n",
    "So you have:\n",
    "\n",
    "$$\n",
    "mA^{\\text{T}} (vb-vp) = 0\n",
    "$$\n",
    "and since $p=mA \\hat{vx}$, you can replace and write:\n",
    "\n",
    "$$\n",
    "\\begin{aligned}\n",
    "mA^{\\text{T}} (vb-mA\\hat{vx}) = 0 \\\\\\\\\n",
    "mA^{\\text{T}}vb - mA^{\\text{T}}mA\\hat{vx} = 0\n",
    "\\end{aligned}\n",
    "$$\n",
    "This leads to the famous equation called the normal equation:\n",
    "\n",
    "$$\n",
    "mA^{\\text{T}}mA\\hat{vx} = mA^{\\text{T}}vb\n",
    "$$\n",
    "The advantage of this equation in comparison to $mA vx = vb$ is that, if the column vectors of the matrix $mA$ are independent, then $mA^{\\text{T}}mA$ is invertible. Thus, you can get $\\hat{vx}$ by multiplying both sides with the inverse of $mA^{\\text{T}}mA$: this leads to cancel $mA^{\\text{T}}mA$, allowing you to find $\\hat{vx}$:\n",
    "\n",
    "$$\n",
    "\\begin{aligned}\n",
    "mA^{\\text{T}}mA\\hat{vx} = mA^{\\text{T}}vb \\\\\\\\\n",
    "(mA^{\\text{T}}mA)^{-1}mA^{\\text{T}}mA\\hat{vx} = (mA^{\\text{T}}mA)^{-1}mA^{\\text{T}}vb \\\\\\\\\n",
    "\\hat{vx} = (mA^{\\text{T}}mA)^{-1}mA^{\\text{T}}vb\n",
    "\\end{aligned}\n",
    "$$\n",
    "You can use this method to approximate a solution when a system of linear equations has no solution, which is the case for almost all overdetermined systems.\n",
    "\n",
    "You saw that understanding the column picture of systems of linear equations allows you to write these systems under the matrix form. Then, you saw that you can use projections to approximate a solution to unsolvable systems."
   ]
  },
  {
   "cell_type": "markdown",
   "metadata": {},
   "source": [
    "### 4.4 Hands-on Project: Linear Regression Using Least Squares Approximation\n",
    "You can use least square approximation to find a line fitting data points. In this hands-on project, you'll learn how to go from data to a matrix equation, which will allow you to use linear algebra on your data and approximate a solution for linear regression problems."
   ]
  },
  {
   "cell_type": "markdown",
   "metadata": {},
   "source": [
    "#### 4.4.1 Linear Regression Using the Normal Equation\n",
    "The normal equation is an equation used to find an analytical solution for linear regression, as an alterntive to gradient descent.\n",
    "\n",
    "Let's say that you have 2D data on which you want to fit a line. The goal is to find the parameters of this best-fitting line. Let's call the slope $\\theta_0$ (pronounced “theta zero”), and the $y$-intercept $\\theta_1$ (pronounced “theta one”).\n",
    "\n",
    "In this first part, you’ll take only a few data points to easily understand how you can convert a data problem into a linear algebra equation.\n",
    "\n",
    "Take the following three two-dimensional data points:\n",
    "\n",
    "A: (0, 0)\n",
    "B: (1, 2)\n",
    "C: (2, 1)\n",
    "Let’s plot these data points. You have a $x$ vector with the values 0, 1 and 2, and a $y$-vector with the values 0, 2 and 0."
   ]
  },
  {
   "cell_type": "code",
   "execution_count": 8,
   "metadata": {},
   "outputs": [
    {
     "data": {
      "image/png": "[encoded data removed]",
      "text/plain": [
       "<Figure size 432x288 with 1 Axes>"
      ]
     },
     "metadata": {
      "needs_background": "dark"
     },
     "output_type": "display_data"
    }
   ],
   "source": [
    "x = np.array([0, 1, 2])\n",
    "y = np.array([0, 2, 1])\n",
    "plt.scatter(x, y)\n",
    "#[...] Add axes, styles etc.\n",
    "\n",
    "# Assure that ticks are displayed with a step equal to 1.\n",
    "ax = plt.gca()\n",
    "ax.xaxis.set_major_locator(ticker.MultipleLocator(1))\n",
    "ax.yaxis.set_major_locator(ticker.MultipleLocator(1))\n",
    "\n",
    "# draw axes \n",
    "plt.axhline(0, c='#d6d6d6', zorder=0)\n",
    "plt.axvline(0, c='#d6d6d6', zorder=0)\n",
    "plt.xlabel('x')\n",
    "plt.ylabel('y')\n",
    "plt.show()"
   ]
  },
  {
   "cell_type": "markdown",
   "metadata": {},
   "source": [
    "Figure 154: Scatter plot of the example data points.\n",
    "\n",
    "The goal is to find the line passing by these data points. The equation of this line is: \n",
    "$$\n",
    "vy=\\theta_0 vx + theta_1\n",
    "$$\n",
    "The first step is to understand how this problem is related to systems of linear equations.\n",
    "\n",
    "Start with an hypothetical perfect solution: let’s say that there is a line passing by all the data points (even if it is not possible). In this case, the first data sample is on the line, meaning that the $x$ and $y$ values of this data point (which are 0 and 0) satisfy the equation of your line $vy=\\theta_0 vx + \\theta_1 vb$."
   ]
  },
  {
   "cell_type": "markdown",
   "metadata": {},
   "source": [
    "Replacing these values in the equation, you have:\n",
    "$$\n",
    "\\begin{aligned}\n",
    "0 = \\theta_0 \\cdot 0 + \\theta_1\n",
    "\\end{aligned}\n",
    "$$\n",
    "If you proceed identically with the second point, you have:\n",
    "\n",
    "$$\n",
    "2 = \\theta_0 \\cdot 1 + \\theta_1\n",
    "$$\n",
    "and for the third point:\n",
    "\n",
    "$$\n",
    "1 = \\theta_0 \\cdot 2 + \\theta_1\n",
    "$$\n",
    "With these equations, you have something that resembles a system of equations. You can see that the unknowns $\\theta_0$ and $\\theta_1$ are the parameters of the line. You can write the system as follows:\n",
    "\n",
    "$$\n",
    "\\begin{cases}\n",
    "0 = 0 \\cdot \\theta_0 + \\theta_1 \\\\\\\\\n",
    "2 = 1 \\cdot \\theta_0 + \\theta_1 \\\\\\\\\n",
    "1 = 2 \\cdot \\theta_0 + \\theta_1\n",
    "\\end{cases}\n",
    "$$\n",
    "Or under the matrix form:\n",
    "\n",
    "$$\n",
    "\\begin{bmatrix}\n",
    "    0  1 \\\\\\\\\n",
    "    1  1 \\\\\\\\\n",
    "    2  1\n",
    "\\end{bmatrix}\n",
    "\\begin{bmatrix}\n",
    "    \\theta_0 \\\\\\\\\n",
    "    \\theta_1\n",
    "\\end{bmatrix}\n",
    "= \\begin{bmatrix}\n",
    "    0 \\\\\\\\\n",
    "    2 \\\\\\\\\n",
    "    1\n",
    "\\end{bmatrix}\n",
    "$$\n",
    "Note that you need to add a column of 1 to represent the $y$-intercept.\n",
    "\n",
    "Also, remember that, since there is no line passing by all the data points, this system has no solution. You’ll need to find an approximation.\n",
    "\n",
    "Let’s keep the notation $mAvx = vb$ with $A$ being the coefficients, $vx$ the unknowns ($\\theta_0$ and $\\theta_1$) and $vb$ the solution:\n",
    "\n",
    "You have\n",
    "\n",
    "$$\n",
    "mA=\\begin{bmatrix}\n",
    "    0  1 \\\\\\\\\n",
    "    1  1 \\\\\\\\\n",
    "    2  1\n",
    "\\end{bmatrix}\n",
    "$$$$\n",
    "vx=\\begin{bmatrix}\n",
    "    \\theta_0 \\\\\\\\\n",
    "    \\theta_1\n",
    "\\end{bmatrix}\n",
    "$$\n",
    "and\n",
    "\n",
    "$$\n",
    "vb=\\begin{bmatrix}\n",
    "    0 \\\\\\\\\n",
    "    2 \\\\\\\\\n",
    "    1\n",
    "\\end{bmatrix}\n",
    "$$"
   ]
  },
  {
   "cell_type": "markdown",
   "metadata": {},
   "source": [
    "Let's write mA and $vb$ in Numpy:"
   ]
  },
  {
   "cell_type": "code",
   "execution_count": 9,
   "metadata": {},
   "outputs": [],
   "source": [
    "A = np.array([\n",
    "    [0, 1],\n",
    "    [1, 1],\n",
    "    [2, 1],\n",
    "])\n",
    "\n",
    "b = np.array([\n",
    "    [0],\n",
    "    [2],\n",
    "    [1],\n",
    "])"
   ]
  },
  {
   "cell_type": "markdown",
   "metadata": {},
   "source": [
    "You can now use the normal equation to approximate a solution. As you saw, you have:\n",
    "$$\n",
    "mA^{\\text{T}}mA\\hat{vx} = mA^{\\text{T}}vb\n",
    "$$\n",
    "and thus:\n",
    "\n",
    "$$\n",
    "\\hat{vx} = (mA^{\\text{T}}mA)^{-1}mA^{\\text{T}}vb\n",
    "$$\n",
    "The columns of $mA$ should be linearly independent, and thus $(mA^{\\text{T}}mA)^{-1}$ should exist.\n",
    "\n",
    "The expression $(mA^{\\text{T}}mA)^{-1}mA^{\\text{T}}$ is one way to calculate what is called the Moore-Penrose inverse, or pseudoinverse of the matrix $mA$. The pseudoinverse is a generalization of the inverse. It is denoted as $mA^+$."
   ]
  },
  {
   "cell_type": "code",
   "execution_count": 10,
   "metadata": {},
   "outputs": [
    {
     "data": {
      "text/plain": [
       "array([[0.5],\n",
       "       [0.5]])"
      ]
     },
     "execution_count": 10,
     "metadata": {},
     "output_type": "execute_result"
    }
   ],
   "source": [
    "x_hat = np.linalg.inv(A.T @ A) @ A.T @ b\n",
    "x_hat"
   ]
  },
  {
   "cell_type": "markdown",
   "metadata": {},
   "source": [
    "This means that the best line has a slope of 0.5 and an intercept of 0.5. Let's plot this line along with the data points:"
   ]
  },
  {
   "cell_type": "code",
   "execution_count": 11,
   "metadata": {},
   "outputs": [
    {
     "data": {
      "image/png": "[encoded data removed]",
      "text/plain": [
       "<Figure size 432x288 with 1 Axes>"
      ]
     },
     "metadata": {
      "needs_background": "dark"
     },
     "output_type": "display_data"
    }
   ],
   "source": [
    "x = np.array([0, 1, 2])\n",
    "y = np.array([0, 2, 1])\n",
    "\n",
    "x1 = np.linspace(0, 3, 10)\n",
    "y1 = 0.5 * x1 + 0.5\n",
    "\n",
    "plt.scatter(x, y)\n",
    "plt.plot(x1, y1, c='#F57F53')\n",
    "#[...] Add axes, styles...\n",
    "\n",
    "# Assure that ticks are displayed with a step equal to 1 \n",
    "ax = plt.gca()\n",
    "ax.xaxis.set_major_locator(ticker.MultipleLocator(1))\n",
    "ax.yaxis.set_major_locator(ticker.MultipleLocator(1))\n",
    "\n",
    "# draw axes \n",
    "plt.axhline(0, c='#A9A9A9', zorder=0)\n",
    "plt.axvline(0, c='#A9A9A9', zorder=0)\n",
    "plt.xlabel('x')\n",
    "plt.ylabel('y')\n",
    "plt.show()"
   ]
  },
  {
   "cell_type": "markdown",
   "metadata": {},
   "source": [
    "Regression line using the normal equation.\n",
    "\n",
    "The line looks good. You just implemented a linear regression using the normal equation. \n",
    "\n",
    "This shows an example of how linear algebra concepts as independence, linear combinations, matrix product, column space, inverse of a matrix etc., can be used to deeply understand a very common method: linear regression using the normal equation. "
   ]
  },
  {
   "cell_type": "markdown",
   "metadata": {},
   "source": [
    "#### 4.4.2 Food Data\n",
    "Now, that you saw how to go from data to matrix equations, let's use least squares approximation with real data: the CIQUAL dataset on food composition. \n",
    "\n",
    "You'll use the normal equation to model the relationship between the amount of phosphorus and zinc in vegetables and legumes. "
   ]
  },
  {
   "cell_type": "markdown",
   "metadata": {},
   "source": [
    "Let's start by loading the data:"
   ]
  },
  {
   "cell_type": "code",
   "execution_count": 17,
   "metadata": {},
   "outputs": [],
   "source": [
    "data = pd.read_csv(\"data/ciqual.csv\", sep=\";\", encoding=\"latin9\", na_values=['-', 'NaN'])"
   ]
  },
  {
   "cell_type": "markdown",
   "metadata": {},
   "source": [
    "Let's remove non-numeric characters in the data and convert the columns to numeric type."
   ]
  },
  {
   "cell_type": "code",
   "execution_count": 19,
   "metadata": {},
   "outputs": [],
   "source": [
    "data = data.replace(\"< \", \"\", regex=True).replace('traces', 0)\n",
    "cols = data.loc[:, data.columns != 'alim_ssssgrp_nom_eng'].columns\n",
    "data[cols] = data[cols].apply(pd.to_numeric, errors='coerce')"
   ]
  },
  {
   "cell_type": "markdown",
   "metadata": {},
   "source": [
    "Now, you'll select only part of the dataset you'll need for the linear regression. Then, remove the missing values:"
   ]
  },
  {
   "cell_type": "code",
   "execution_count": 21,
   "metadata": {},
   "outputs": [
    {
     "data": {
      "text/html": [
       "<div>\n",
       "<style scoped>\n",
       "    .dataframe tbody tr th:only-of-type {\n",
       "        vertical-align: middle;\n",
       "    }\n",
       "\n",
       "    .dataframe tbody tr th {\n",
       "        vertical-align: top;\n",
       "    }\n",
       "\n",
       "    .dataframe thead th {\n",
       "        text-align: right;\n",
       "    }\n",
       "</style>\n",
       "<table border=\"1\" class=\"dataframe\">\n",
       "  <thead>\n",
       "    <tr style=\"text-align: right;\">\n",
       "      <th></th>\n",
       "      <th>alim_ssssgrp_nom_eng</th>\n",
       "      <th>Phosphorus (mg/100g)</th>\n",
       "      <th>Zinc (mg/100g)</th>\n",
       "    </tr>\n",
       "  </thead>\n",
       "  <tbody>\n",
       "    <tr>\n",
       "      <th>308</th>\n",
       "      <td>vegetables. raw</td>\n",
       "      <td>44.4</td>\n",
       "      <td>0.460</td>\n",
       "    </tr>\n",
       "    <tr>\n",
       "      <th>309</th>\n",
       "      <td>vegetables. raw</td>\n",
       "      <td>10.0</td>\n",
       "      <td>0.070</td>\n",
       "    </tr>\n",
       "    <tr>\n",
       "      <th>310</th>\n",
       "      <td>vegetables. raw</td>\n",
       "      <td>32.7</td>\n",
       "      <td>0.220</td>\n",
       "    </tr>\n",
       "    <tr>\n",
       "      <th>311</th>\n",
       "      <td>vegetables. raw</td>\n",
       "      <td>85.6</td>\n",
       "      <td>0.650</td>\n",
       "    </tr>\n",
       "    <tr>\n",
       "      <th>312</th>\n",
       "      <td>vegetables. raw</td>\n",
       "      <td>37.5</td>\n",
       "      <td>0.610</td>\n",
       "    </tr>\n",
       "    <tr>\n",
       "      <th>...</th>\n",
       "      <td>...</td>\n",
       "      <td>...</td>\n",
       "      <td>...</td>\n",
       "    </tr>\n",
       "    <tr>\n",
       "      <th>659</th>\n",
       "      <td>fresh fruits</td>\n",
       "      <td>19.0</td>\n",
       "      <td>0.130</td>\n",
       "    </tr>\n",
       "    <tr>\n",
       "      <th>660</th>\n",
       "      <td>fresh fruits</td>\n",
       "      <td>17.0</td>\n",
       "      <td>0.080</td>\n",
       "    </tr>\n",
       "    <tr>\n",
       "      <th>661</th>\n",
       "      <td>fresh fruits</td>\n",
       "      <td>9.8</td>\n",
       "      <td>0.050</td>\n",
       "    </tr>\n",
       "    <tr>\n",
       "      <th>662</th>\n",
       "      <td>fresh fruits</td>\n",
       "      <td>15.8</td>\n",
       "      <td>0.086</td>\n",
       "    </tr>\n",
       "    <tr>\n",
       "      <th>663</th>\n",
       "      <td>fresh fruits</td>\n",
       "      <td>32.6</td>\n",
       "      <td>0.220</td>\n",
       "    </tr>\n",
       "  </tbody>\n",
       "</table>\n",
       "<p>271 rows × 3 columns</p>\n",
       "</div>"
      ],
      "text/plain": [
       "    alim_ssssgrp_nom_eng  Phosphorus (mg/100g)  Zinc (mg/100g)\n",
       "308      vegetables. raw                  44.4           0.460\n",
       "309      vegetables. raw                  10.0           0.070\n",
       "310      vegetables. raw                  32.7           0.220\n",
       "311      vegetables. raw                  85.6           0.650\n",
       "312      vegetables. raw                  37.5           0.610\n",
       "..                   ...                   ...             ...\n",
       "659         fresh fruits                  19.0           0.130\n",
       "660         fresh fruits                  17.0           0.080\n",
       "661         fresh fruits                   9.8           0.050\n",
       "662         fresh fruits                  15.8           0.086\n",
       "663         fresh fruits                  32.6           0.220\n",
       "\n",
       "[271 rows x 3 columns]"
      ]
     },
     "execution_count": 21,
     "metadata": {},
     "output_type": "execute_result"
    }
   ],
   "source": [
    "food = ['vegetables. raw',\n",
    "       'vegetables. cooked', 'vegetables. dried or dehydrated',\n",
    "       'legumes. cooked', 'legumes. raw', 'legumes. dried',\n",
    "       'fresh fruits']\n",
    "\n",
    "data = data[['alim_ssssgrp_nom_eng', \"Phosphorus (mg/100g)\", \"Zinc (mg/100g)\"]]\n",
    "data = data[(data['alim_ssssgrp_nom_eng'].isin(food))]\n",
    "\n",
    "data = data.dropna()\n",
    "\n",
    "data"
   ]
  },
  {
   "cell_type": "markdown",
   "metadata": {},
   "source": [
    "Now let's visualize a scatter plot of the amount of zince as a function of the amount of phosphorus"
   ]
  },
  {
   "cell_type": "code",
   "execution_count": 24,
   "metadata": {},
   "outputs": [
    {
     "data": {
      "image/png": "[encoded data removed]",
      "text/plain": [
       "<Figure size 432x288 with 1 Axes>"
      ]
     },
     "metadata": {
      "needs_background": "dark"
     },
     "output_type": "display_data"
    }
   ],
   "source": [
    "plt.scatter(data[\"Phosphorus (mg/100g)\"], data[\"Zinc (mg/100g)\"])\n",
    "# [...] Add labels\n",
    "\n",
    "plt.xlabel(\"Phosphorus (mg/100g)\")\n",
    "plt.ylabel(\"Zinc (mg/100g)\")\n",
    "plt.show()"
   ]
  },
  {
   "cell_type": "markdown",
   "metadata": {},
   "source": [
    "Amount of zinc as a function of the amount of phosphorus."
   ]
  },
  {
   "cell_type": "markdown",
   "metadata": {},
   "source": [
    "You can then create the matrix and vectors corresponding to the equation $mA vx = vb$ (the function to_numpy() allows you to convert Pandas Series to Numpy arrays): "
   ]
  },
  {
   "cell_type": "code",
   "execution_count": 25,
   "metadata": {},
   "outputs": [
    {
     "data": {
      "text/plain": [
       "array([[44.4,  1. ],\n",
       "       [10. ,  1. ],\n",
       "       [32.7,  1. ],\n",
       "       ...,\n",
       "       [ 9.8,  1. ],\n",
       "       [15.8,  1. ],\n",
       "       [32.6,  1. ]])"
      ]
     },
     "execution_count": 25,
     "metadata": {},
     "output_type": "execute_result"
    }
   ],
   "source": [
    "x = data[\"Phosphorus (mg/100g)\"].to_numpy()\n",
    "b = data[\"Zinc (mg/100g)\"].to_numpy()\n",
    "\n",
    "A = np.array([x, np.ones(x.shape[0])]).T\n",
    "A"
   ]
  },
  {
   "cell_type": "markdown",
   "metadata": {},
   "source": [
    "Now, use the normal equation to calculate $\\hat{x}$:"
   ]
  },
  {
   "cell_type": "code",
   "execution_count": 26,
   "metadata": {},
   "outputs": [
    {
     "data": {
      "text/plain": [
       "array([ 0.0084948 , -0.05865873])"
      ]
     },
     "execution_count": 26,
     "metadata": {},
     "output_type": "execute_result"
    }
   ],
   "source": [
    "x_hat = np.linalg.inv(A.T @ A) @ A.T @ b\n",
    "x_hat"
   ]
  },
  {
   "cell_type": "markdown",
   "metadata": {},
   "source": [
    "You can check that it works by plotting the regression line:"
   ]
  },
  {
   "cell_type": "code",
   "execution_count": 28,
   "metadata": {},
   "outputs": [
    {
     "data": {
      "image/png": "[encoded data removed]",
      "text/plain": [
       "<Figure size 432x288 with 1 Axes>"
      ]
     },
     "metadata": {
      "needs_background": "dark"
     },
     "output_type": "display_data"
    }
   ],
   "source": [
    "x_axis = np.arange(0, 500)\n",
    "y_line = x_hat[0] * x_axis + x_hat[1]\n",
    "\n",
    "plt.scatter(data[\"Phosphorus (mg/100g)\"].to_numpy(), data[\"Zinc (mg/100g)\"].to_numpy())\n",
    "plt.plot(y_line, c=\"#F57F53\")\n",
    "# [...] Add labels\n",
    "\n",
    "plt.xlabel(\"Phosphorus (mg/100g)\")\n",
    "plt.ylabel(\"Zinc (mg/100g)\")\n",
    "plt.show()           "
   ]
  },
  {
   "cell_type": "markdown",
   "metadata": {},
   "source": [
    "Regression line representing the relationship between amount of zinc and phosphorus."
   ]
  },
  {
   "cell_type": "markdown",
   "metadata": {},
   "source": [
    "You can see that the line fits the data well."
   ]
  }
 ],
 "metadata": {
  "kernelspec": {
   "display_name": "Python 3",
   "language": "python",
   "name": "python3"
  },
  "language_info": {
   "codemirror_mode": {
    "name": "ipython",
    "version": 3
   },
   "file_extension": ".py",
   "mimetype": "text/x-python",
   "name": "python",
   "nbconvert_exporter": "python",
   "pygments_lexer": "ipython3",
   "version": "3.8.3"
  }
 },
 "nbformat": 4,
 "nbformat_minor": 4
}
