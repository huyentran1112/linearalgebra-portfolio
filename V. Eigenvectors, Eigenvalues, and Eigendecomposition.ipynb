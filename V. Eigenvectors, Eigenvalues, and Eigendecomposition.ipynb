{
 "cells": [
  {
   "cell_type": "code",
   "execution_count": 3,
   "metadata": {},
   "outputs": [],
   "source": [
    "# import libraries\n",
    "import numpy as np\n",
    "import pandas as pd\n",
    "import matplotlib.pyplot as plt\n",
    "import matplotlib\n",
    "from mpl_toolkits.mplot3d import Axes3D\n",
    "from matplotlib import ticker\n",
    "\n",
    "# display options\n",
    "from IPython.display import display\n",
    "pd.options.display.max_columns = None\n",
    "\n",
    "np.set_printoptions(threshold=30)\n",
    "\n",
    "# plots style\n",
    "from cycler import cycler\n",
    "\n",
    "matplotlib.rcParams['lines.linewidth'] = 3\n",
    "matplotlib.rcParams['lines.markersize'] = 10\n",
    "\n",
    "matplotlib.rcParams['xtick.labelsize'] = 12\n",
    "matplotlib.rcParams['xtick.color'] = '#A9A9A9'\n",
    "matplotlib.rcParams['ytick.labelsize'] = 12\n",
    "matplotlib.rcParams['ytick.color'] = '#A9A9A9'\n",
    "\n",
    "matplotlib.rcParams['grid.color'] = '#ffffff'\n",
    "\n",
    "matplotlib.rcParams['axes.facecolor'] = '#ffffff'\n",
    "\n",
    "matplotlib.rcParams['axes.spines.left'] = False\n",
    "matplotlib.rcParams['axes.spines.right'] = False\n",
    "matplotlib.rcParams['axes.spines.top'] = False\n",
    "matplotlib.rcParams['axes.spines.bottom'] = False\n",
    "\n",
    "matplotlib.rcParams['axes.prop_cycle'] = cycler(color=['#2EBCE7', '#84EE29', '#FF8177'])"
   ]
  },
  {
   "cell_type": "markdown",
   "metadata": {},
   "source": [
    "## Eigenvectors, Eigenvalues, and Eigendecomposition"
   ]
  },
  {
   "cell_type": "markdown",
   "metadata": {},
   "source": [
    "Matrix decomposition, also called matrix factorization is the process of splitting a matrix into multiple pieces. In the context of data science, you can for instance use it to select parts of the data, aimed at reducing dimensionality without losign much information. Some operations are also more easily computed on the matries resulting from the decomposition. \n",
    "\n",
    "In this chapter, you'll learn about the eigendecomposition of a matrix. One way to understand it to consider it as a special change of basis. You'll first learn about eigenvectors and eigenvalues and then you'll see the concept of change of basis. The main idea is to consider the eigendecomposition of a matrix $mA$ as a change of basis where the new basis vectors are the eigenvectors. "
   ]
  },
  {
   "cell_type": "markdown",
   "metadata": {},
   "source": [
    "#### 5.1 Eigenvectors and Eigenvalues\n",
    "You can consider matrices as linear transformations. This means that if you take any vector $vu$ and apply the matrix $mA$ to it, you obtain a transformed vector $vv$. "
   ]
  },
  {
   "cell_type": "markdown",
   "metadata": {},
   "source": [
    "Take the example of: \n",
    "$$\n",
    "vu = \\begin{bmatrix}\n",
    "    1.5 \\\\\\\\\n",
    "    1\n",
    "\\end{bmatrix}\n",
    "$$\n",
    "and\n",
    "\n",
    "$$\n",
    "mA = \\begin{bmatrix}\n",
    "    1.2 & 0.9 \\\\\\\\\n",
    "    0  & -0.4\n",
    "\\end{bmatrix}\n",
    "$$"
   ]
  },
  {
   "cell_type": "markdown",
   "metadata": {},
   "source": [
    "If you apply $mA$ to the vector $vu$ (with the matrix-vector product), you get a new vector: \n",
    "$$\n",
    "\\begin{aligned}\n",
    "vv = mA vu \\\\\\\\\n",
    "= \\begin{bmatrix}\n",
    "    1.2 & 0.9 \\\\\\\\\n",
    "    0 & -0.4\n",
    "\\end{bmatrix}\n",
    "\\begin{bmatrix}\n",
    "    1.5 \\\\\\\\\n",
    "    1\n",
    "\\end{bmatrix} \\\\\\\\\n",
    "= \\begin{bmatrix}\n",
    "    1.2 \\cdot 1.5 + 0.9 \\cdot 1 \\\\\\\\\n",
    "    0 \\cdot 1.5 + -0.4 \\cdot 1\n",
    "\\end{bmatrix} \\\\\\\\\n",
    "= \\begin{bmatrix}\n",
    "    2.7 \\\\\\\\\n",
    "    -0.4\n",
    "\\end{bmatrix}\n",
    "\\end{aligned}\n",
    "$$"
   ]
  },
  {
   "cell_type": "markdown",
   "metadata": {},
   "source": [
    "Let's draw the initial and transformed vectors:"
   ]
  },
  {
   "cell_type": "code",
   "execution_count": 2,
   "metadata": {},
   "outputs": [],
   "source": [
    "u = np.array([1.5, 1])\n",
    "A = np.array([\n",
    "    [1.2, 0.9],\n",
    "    [0, -0.4]\n",
    "])\n",
    "v = A @ u"
   ]
  },
  {
   "cell_type": "code",
   "execution_count": 4,
   "metadata": {},
   "outputs": [
    {
     "data": {
      "image/png": "[encoded data removed]",
      "text/plain": [
       "<Figure size 432x288 with 1 Axes>"
      ]
     },
     "metadata": {
      "needs_background": "dark"
     },
     "output_type": "display_data"
    }
   ],
   "source": [
    "plt.quiver(0, 0, u[0], u[1], color=\"#2EBCE7\", angles='xy', scale_units='xy', scale=1)\n",
    "plt.quiver(0, 0, v[0], v[1], color=\"#00E64E\", angles='xy', scale_units='xy', scale=1)\n",
    "# [...] Add axes, styles, vector names\n",
    "\n",
    "# Assure that ticks are displayed with a specific step\n",
    "ax = plt.gca()\n",
    "ax.xaxis.set_major_locator(ticker.MultipleLocator(1))\n",
    "ax.yaxis.set_major_locator(ticker.MultipleLocator(1))\n",
    "\n",
    "plt.text(0.5, 1, r'$\\vec{u}$', color=\"#2EBCE7\", size=18)\n",
    "plt.text(1, -0.8, r'$\\vec{v}$', color=\"#00E64E\", size=18)\n",
    "\n",
    "# draw axes\n",
    "plt.axhline(0, c='#d6d6d6', zorder=0)\n",
    "plt.axvline(0, c='#d6d6d6', zorder=0)\n",
    "\n",
    "plt.xlim(-1.5, 3)\n",
    "plt.ylim(-1.5, 3)\n",
    "plt.show()"
   ]
  },
  {
   "cell_type": "markdown",
   "metadata": {},
   "source": [
    "Transformation of the vector $vu$ by the matrix $mA$ into the vector $vv$. \n",
    "\n",
    "Note that, as you can expect, the transformed vector $vv$ doesn't run in the same direction as the initial vector $vu$. This change of direction characterizes most of the vectors you can transform by $mA$. \n",
    "\n",
    "However, take the following vector:\n",
    "$$\n",
    "vx = \\begin{bmatrix}\n",
    "    -0.4902 \\\\\\\\\n",
    "    0.8715\n",
    "\\end{bmatrix}\n",
    "$$\n",
    "Let’s apply the matrix $mA$ to the vector $vx$ to obtain a vector $vy$:"
   ]
  },
  {
   "cell_type": "code",
   "execution_count": 7,
   "metadata": {},
   "outputs": [
    {
     "data": {
      "image/png": "[encoded data removed]",
      "text/plain": [
       "<Figure size 432x288 with 1 Axes>"
      ]
     },
     "metadata": {
      "needs_background": "dark"
     },
     "output_type": "display_data"
    }
   ],
   "source": [
    "x = np.array([-0.4902, 0.8715])\n",
    "y = A @ x\n",
    "plt.quiver(0, 0, x[0], x[1], color=\"#2EBCE7\", angles='xy',\n",
    "           scale_units='xy', scale=1)\n",
    "plt.quiver(0, 0, y[0], y[1], color=\"#00E64E\", angles='xy',\n",
    "           scale_units='xy', scale=1)\n",
    "# [...] Add axes, styles, vector names\n",
    "\n",
    "# Assure that ticks are displayed with a specific step\n",
    "ax = plt.gca()\n",
    "ax.xaxis.set_major_locator(ticker.MultipleLocator(1))\n",
    "ax.yaxis.set_major_locator(ticker.MultipleLocator(1))\n",
    "\n",
    "plt.text(-0.5, 0.2, r'$\\vec{x}$', color=\"#2EBCE7\", size=18)\n",
    "plt.text(0.3, -0.5, r'$\\vec{y}$', color=\"#00E64E\", size=18)\n",
    "\n",
    "# draw axes\n",
    "plt.axhline(0, c='#A9A9A9')\n",
    "plt.axvline(0, c='#A9A9A9')\n",
    "\n",
    "plt.xlim(-1.5, 1.5)\n",
    "plt.ylim(-1.5, 1.5)\n",
    "plt.show()"
   ]
  },
  {
   "cell_type": "markdown",
   "metadata": {},
   "source": [
    "Transformtaion of the special vector $vx$ by the matrix $mA$."
   ]
  },
  {
   "cell_type": "markdown",
   "metadata": {},
   "source": [
    "The vector $vx$ has a special relationship with the matrix $mA$: it is rescaled (with a negative value), but both the initial vector $vx$ and are transformed vector $vy$ are on the same line."
   ]
  },
  {
   "cell_type": "markdown",
   "metadata": {},
   "source": [
    "The vector $vx$ is an eigenvector of $mA$. It is only scaled by a value, which is called an eigenvalue of the matrix $mA$. An eigenvector of the matrix $mA$ is a vector that is contracted or elongated when transformed by the matrix. The eigenvalue is the scaling factor by which the vector is contracted or elongated. "
   ]
  },
  {
   "cell_type": "markdown",
   "metadata": {},
   "source": [
    "Mathematically, the vector $vx$ is an eigenvector of $mA$ if: \n",
    "$$\n",
    "mA vx = \\lambda vx\n",
    "$$\n",
    "with $\\lambda$ (pronounced “lambda”) being the eigenvalue corresponding to the eigenvector $vx$.\n",
    "\n",
    "Eigenvectors of a matrix are nonzero vectors that are only rescaled when the matrix is applied to them "
   ]
  },
  {
   "cell_type": "markdown",
   "metadata": {},
   "source": [
    "If the scaling factor is positive, the directions of the initial and the transformed vectors are the same, if it is negative, their directions are reversed."
   ]
  },
  {
   "cell_type": "markdown",
   "metadata": {},
   "source": [
    "##### Number of eigenvectors\n",
    "An $n-by-n$ matrix has, at most, n linearly independent eigenvectors. However, each eigenvector multiplied by a nonzero scalar is also an eigenvector. If you have: \n",
    "$$\n",
    "mA vv = \\lambda vv\n",
    "$$\n",
    "Then:\n",
    "\n",
    "$$\n",
    "mA c vv = \\lambda c vv\n",
    "$$\n",
    "with $c$ any nonzero value.\n",
    "\n",
    "This excludes the zero vector as eigenvector, since you would have\n",
    "\n",
    "$$\n",
    "mA \\cdot 0 = \\lambda \\cdot 0 = 0\n",
    "$$\n",
    "In this case, every scalar would be an eigenvalue and thus would be undefined."
   ]
  },
  {
   "cell_type": "markdown",
   "metadata": {},
   "source": [
    "### 5.2 Change of Basis\n",
    "You saw that vectors and matrices are defined with respect to a basis. If you take a matrix and change the basis, the numbers inside it change, but the associated linear transformation remains the same. This means that multiple matrices can be associated with the same linear transformation. In this case, these matrices are caleld similar. \n",
    "\n",
    "One way to understand eigendecomposition is to consider it as a change of basis. You'll see in this section that a change of basis is a kind of decomposition of the linear transformation: you go to another basis, you do a transformation, and you come back to the initial basis. As you'll see, with eigendecomposition, you choose the basis such that the new matrix (the one that is similar to the original matrix) becomes diagonal. \n",
    "\n",
    "You'll start by learning everything you'll need about change of basis and see how linear transformations can be done with respect to different bases."
   ]
  },
  {
   "cell_type": "markdown",
   "metadata": {},
   "source": [
    "#### 5.2.1 Linear Combinations of the Basis Vectors\n",
    "Vector spaces (the set of possible vectors) are characterized in reference to a basis. The expression of a geometrical vector as an array of numbers implies that you choose a basis. With a different basis, the same vector $vv$ is associated with different numbers. "
   ]
  },
  {
   "cell_type": "markdown",
   "metadata": {},
   "source": [
    "You learned that the basis is a set of linearly independent vectors that span the space. More precisely, a set of vectors is a basis if every vectors from the space can be described as a finite linear combination of the components of the basis and if the set is linearly independent. \n",
    "\n",
    "Consider the following 2D vector: \n",
    "$$\n",
    "vv=\\begin{bmatrix}\n",
    "    2 \\\\\\\\\n",
    "    1\n",
    "\\end{bmatrix}\n",
    "$$\n",
    "In the $setR^2$ Cartesian plane, you can consider $vv$ as a linear combination of the standard basis vectors $vi$ and $vj$, as shown in Figure 160.\n",
    "\n",
    "The vector \\vv can be described as a linear combination of the basis vectors \\vi and \\vj.Figure 160: The vector $vv$ can be described as a linear combination of the basis vectors $vi$ and $vj$.\n",
    "\n",
    "But if you use another coordinate system, $vv$ is associated with new numbers. Figure 161 shows a representation of the vector $vv$ with a new coordinate system ($vi'$ and $vj'$).\n",
    "\n",
    "In the new basis, $vv$ is a new set of numbers:\n",
    "\n",
    "$$\n",
    "\\begin{bmatrix}\n",
    "    0.86757991 \\\\\\\\\n",
    "    -1.00456621\n",
    "\\end{bmatrix}\n",
    "$$"
   ]
  },
  {
   "cell_type": "markdown",
   "metadata": {},
   "source": [
    "#### 5.2.2 The Change of Basis Matrix\n",
    "You can use a change of basis matrix to go from a basis to another. To find the matrix corresponding to new basis vectors, you can express these new basis vectors ($vi'$ and $'vj'$) as coordinates in the old basis($vi$ and $vj$). \n",
    "\n",
    "Let's take again the preceding example. You have: \n",
    "$$\n",
    "vi' = \\begin{bmatrix}\n",
    "    0.8 \\\\\\\\\n",
    "    1.5\n",
    "\\end{bmatrix}\n",
    "$$\n",
    "and\n",
    "\n",
    "$$\n",
    "vj' = \\begin{bmatrix}\n",
    "    -1.3 \\\\\\\\\n",
    "    0.3\n",
    "\\end{bmatrix}\n",
    "$$\n",
    "\n",
    "The coordinates of the new basis vectors with respect to the old basis. \n",
    "\n",
    "Since they are basis vectors, $vi'$ and $vj'$ can be expressed as linear combinations of $vi$ and $vj$: \n",
    "$$\n",
    "\\begin{aligned}\n",
    "vi' = 0.8 \\cdot vi + 1.5 vj \\\\\\\\\n",
    "vj' = -1.3 \\cdot vi + 0.3 vj\n",
    "\\end{aligned}\n",
    "$$\n",
    "Let’s write these equations under the matrix form:\n",
    "\n",
    "$$\n",
    "\\begin{aligned}\n",
    "\\begin{bmatrix}\n",
    "    vi' \\\\\\\\\n",
    "    vj'\n",
    "\\end{bmatrix}\n",
    "= vi \\begin{bmatrix}\n",
    "    0.8 \\\\\\\\\n",
    "    -1.3\n",
    "\\end{bmatrix} + vj \\begin{bmatrix}\n",
    "    1.5 \\\\\\\\\n",
    "    0.3\n",
    "\\end{bmatrix} \\\\\\\\\n",
    "= \\begin{bmatrix}\n",
    "    0.8 & 1.5 \\\\\\\\\n",
    "    -1.3 & 0.3\n",
    "\\end{bmatrix}\n",
    "\\begin{bmatrix}\n",
    "    vi \\\\\\\\\n",
    "    vj\n",
    "\\end{bmatrix}\n",
    "\\end{aligned}\n",
    "$$\n",
    "To have the basis vectors as columns, you need to transpose the matrices. You get:\n",
    "\n",
    "$$\n",
    "\\begin{aligned}\n",
    "\\begin{bmatrix}\n",
    "    vi' \\\\\\\\\n",
    "    vj'\n",
    "\\end{bmatrix}^{\\text{T}}\n",
    "= \\left(\\begin{bmatrix}\n",
    "    0.8 & 1.5 \\\\\\\\\n",
    "    -1.3 & 0.3\n",
    "\\end{bmatrix}\n",
    "\\begin{bmatrix}\n",
    "    vi \\\\\\\\\n",
    "    vj\n",
    "\\end{bmatrix} \\right)^{\\text{T}} \\\\\\\\\n",
    "\\begin{bmatrix}\n",
    "    vi' & vj'\n",
    "\\end{bmatrix}\n",
    "= \\begin{bmatrix}\n",
    "    vi \\\\\\\\\n",
    "    vj\n",
    "\\end{bmatrix}^{\\text{T}}\n",
    "\\begin{bmatrix}\n",
    "    0.8 & 1.5 \\\\\\\\\n",
    "    -1.3 & 0.3\n",
    "\\end{bmatrix}^{\\text{T}} \\\\\\\\\n",
    "\\begin{bmatrix}\n",
    "    vi' & vj'\n",
    "\\end{bmatrix}\n",
    "= \\begin{bmatrix}\n",
    "    vi & vj\n",
    "\\end{bmatrix}\n",
    "\\begin{bmatrix}\n",
    "    0.8 & -1.3 \\\\\\\\\n",
    "    1.5 & 0.3\n",
    "\\end{bmatrix}\n",
    "\\end{aligned}\n",
    "$$\n",
    "This matrix is called the change of basis matrix. Let’s call it $mC$:\n",
    "\n",
    "$$\n",
    "mC = \\begin{bmatrix}\n",
    "    0.8 & -1.3 \\\\\\\\\n",
    "    1.5 & 0.3\n",
    "\\end{bmatrix}\n",
    "$$"
   ]
  },
  {
   "cell_type": "markdown",
   "metadata": {},
   "source": [
    "As you can notice, each column of the change of basis matrix is a basis vector of the new basis. You'll see next that you can use the change of basis matrix $mC$ to convert vectors from the output basis to the input basis. \n",
    "\n",
    "The difference between change of basis and linear transformation is conceptual. Sometimes it is useful to consider the effect of a matrix as a change of basis; sometimes you get more insights when you think of it as a linear transformation. \n",
    "\n",
    "Either you move the vector or you move its reference. This is why rotating the coordinate system has an inverse effect compared to rotating the vector itself. "
   ]
  },
  {
   "cell_type": "markdown",
   "metadata": {},
   "source": [
    "##### Finding the Change of Basis Matrix\n",
    "A change of basis matrix maps an input basis to an output basis. Let's call the input basis $mB1$ with the basis vectors $vi$ and $vj$, and the output basis $mB2$ with the basis vectors $vi'$ and $vj'$. You have: "
   ]
  },
  {
   "cell_type": "markdown",
   "metadata": {},
   "source": [
    "$$\n",
    "mB_1 = \\begin{bmatrix}\n",
    "    vi & vj\n",
    "\\end{bmatrix}\n",
    "$$\n",
    "and\n",
    "\n",
    "$$\n",
    "mB_2 = \\begin{bmatrix}\n",
    "    vi' & vj'\n",
    "\\end{bmatrix}\n",
    "$$\n",
    "From the equation of the change of basis, you have:\n",
    "\n",
    "$$\n",
    "\\begin{aligned}\n",
    "\\begin{bmatrix}\n",
    "    vi' & vj'\n",
    "\\end{bmatrix}\n",
    "= \\begin{bmatrix}\n",
    "    vi & vj\n",
    "\\end{bmatrix} mC \\\\\\\\\n",
    "mB_2 = mB_1 mC\n",
    "\\end{aligned}\n",
    "$$\n",
    "If you want to find the change of basis matrix given $mB_1$ and $mB_2$, you need to calculate the inverse of $mB_1$ to isolate $mC$:\n",
    "\n",
    "$$\n",
    "\\begin{aligned}\n",
    "mB_2 = mB_1 mC \\\\\\\\\n",
    "mB_1^{-1}mB_2 = mB_1^{-1} mB_1 mC \\\\\\\\\n",
    "mB_1^{-1}mB_2 = mC \\\\\\\\\n",
    "mC = mB_1^{-1}mB_2\n",
    "\\end{aligned}\n",
    "$$\n",
    "In words, you can calculate the change of basis matrix by multiplying the inverse of the input basis matrix ($mB_1^{-1}$, which contains the input basis vectors as columns) by the output basis matrix ($mB_2$, which contains the output basis vectors as columns).\n",
    "\n",
    "Be careful, this change of basis matrix allows you to convert vectors from $mB_2$ to $mB_1$ and not the opposite. Intuitively, this is because moving an object is the opposite to moving the reference. Thus, to go from $mB_1$ to $mB_2$, you must use the inverse of the change of basis matrix $mC^{-1}$.\n",
    "\n",
    "Note that if the input basis is the standard basis ($mB_1=mI$), then the change of basis matrix is simply the output basis matrix:\n",
    "\n",
    "$$\n",
    "mC = mB_1^{-1}mB_2 = mI^{-1}mB_2 = mI mB_2 = mB_2\n",
    "$$"
   ]
  },
  {
   "cell_type": "markdown",
   "metadata": {},
   "source": [
    "Since the basis vectors are linearly independent, the columns of $mC$ are linearly independent, and thus, $mC$ is invertible."
   ]
  },
  {
   "cell_type": "markdown",
   "metadata": {},
   "source": [
    "#### 5.2.3 Example: Changing the Basis of a Vector "
   ]
  },
  {
   "cell_type": "markdown",
   "metadata": {},
   "source": [
    "##### Notation\n",
    "You'll change the basis $vv$ from the standard basis to a new basis. Let's denote the standard basis as $mB1$ and the new basis as $mB2$. Remmeber that the basis is a matrix containing the basis vectors as columns. You have: \n",
    "$$\n",
    "mB_1 = \\begin{bmatrix}\n",
    "    vi & vj\n",
    "\\end{bmatrix}\n",
    "= \\begin{bmatrix}\n",
    "    1 & 0\\\\\\\\\n",
    "    0 & 1\n",
    "\\end{bmatrix}\n",
    "$$\n",
    "and\n",
    "\n",
    "$$\n",
    "mB_2 = \\begin{bmatrix}\n",
    "    vi' & vj'\n",
    "\\end{bmatrix}\n",
    "= \\begin{bmatrix}\n",
    "    0.8 & -1.3\\\\\\\\\n",
    "    1.5 & 0.3\n",
    "\\end{bmatrix}\n",
    "$$\n",
    "Let’s denote the vector $vv$ relative to the basis $mB_1$ as $lbrack vv \\rbrack_{mB_1}$:\n",
    "\n",
    "$$\n",
    "lbrack vv \\rbrack_{mB_1} =\\begin{bmatrix}\n",
    "    2 \\\\\\\\\n",
    "    1\n",
    "\\end{bmatrix}\n",
    "$$\n",
    "The goal is to find the coordinates of $vv$ relative to the basis $mB_2$, denoted as $\\lbrack vv \\rbrack_{mB_2}$.\n",
    "\n",
    "To distinguish the basis used to define a vector, you can put the basis name (like $mB_1$) in subscript after the vector name enclosed in square brackets. For instance, $\\lbrack vv \\rbrack_{mB_1}$ denotes the vector $vv$ relative to the basis $mB_1$, also called the representation of $vv$ with respect to $mB_1$."
   ]
  },
  {
   "cell_type": "markdown",
   "metadata": {},
   "source": [
    "##### Using Linear Combinations\n",
    "Let's express the vector $vv$ as a linear combination of the input and output basis vectors: \n",
    "$$\n",
    "\\begin{cases}\n",
    "vv = c_1 vi + c_2 vj \\\\\\\\\n",
    "vv = d_1 vi' + d_2 vj'\n",
    "\\end{cases}\n",
    "$$\n",
    "The scalars $c_1$ and $c_2$ are weighting the linear combination of the input basis vectors, and the scalars $d_1$ and $d_2$ are weighting the linear combination of the output basis vectors. You can merge the two equations:\n",
    "\n",
    "$$\n",
    "c_1 vi + c_2 vj = d_1 vi' + d_2 vj'\n",
    "$$\n",
    "Now, let’s write this equation in matrix form:\n",
    "\n",
    "$$\n",
    "\\begin{aligned}\n",
    "\\begin{bmatrix}\n",
    "    vi & vj\n",
    "\\end{bmatrix}\n",
    "\\begin{bmatrix}\n",
    "    c_1 \\\\\\\\\n",
    "    c_2\n",
    "\\end{bmatrix}\n",
    "= \\begin{bmatrix}\n",
    "    vi' & vj'\n",
    "\\end{bmatrix}\n",
    "\\begin{bmatrix}\n",
    "    d_1 \\\\\\\\\n",
    "    d_2\n",
    "\\end{bmatrix} \\\\\\\\\n",
    "mB_1\n",
    "\\begin{bmatrix}\n",
    "    c_1 \\\\\\\\\n",
    "    c_2\n",
    "\\end{bmatrix}\n",
    "= mB_2\n",
    "\\begin{bmatrix}\n",
    "    d_1 \\\\\\\\\n",
    "    d_2\n",
    "\\end{bmatrix}\n",
    "\\end{aligned}\n",
    "$$\n",
    "The vector containing the scalars $c_1$ and $c_2$ corresponds to $\\lbrack vv \\rbrack_{mB_1}$ and the vector containing the scalars $d_1$ and $d_2$ corresponds to $\\lbrack vv \\rbrack_{mB_2}$. You have:\n",
    "\n",
    "$$\n",
    "mB_1 \\lbrack vv \\rbrack_{mB_1} = mB_2 \\lbrack vv \\rbrack_{mB_2}\n",
    "$$\n",
    "That’s good, this an equation with the term you want to find: $\\lbrack vv \\rbrack_{mB_2}$. You can isolate it by multiplying each side by $mB_2 ^ {-1}$:\n",
    "\n",
    "$$\n",
    "\\begin{aligned}\n",
    "mB_1 \\lbrack vv \\rbrack_{mB_1} = mB_2 \\lbrack vv \\rbrack_{mB_2} \\\\\\\\\n",
    "mB_2 ^ {-1} mB_1 \\lbrack vv \\rbrack_{mB_1} = mB_2 ^ {-1} mB_2 \\lbrack vv \\rbrack_{mB_2} \\\\\\\\\n",
    "\\lbrack vv \\rbrack_{mB_2} = mB_2 ^ {-1} mB_1 \\lbrack vv \\rbrack_{mB_1}\n",
    "\\end{aligned}\n",
    "\\qquad (8)$$\n",
    "You have also:\n",
    "\n",
    "$$\n",
    "\\begin{aligned}\n",
    "mB_1 \\lbrack vv \\rbrack_{mB_1} = mB_2 \\lbrack vv \\rbrack_{mB_2} \\\\\\\\\n",
    "mB_1 ^ {-1} mB_1 \\lbrack vv \\rbrack_{mB_1} = mB_1 ^ {-1} mB_2 \\lbrack vv \\rbrack_{mB_2} \\\\\\\\\n",
    "\\lbrack vv \\rbrack_{mB_1} = mB_1 ^ {-1} mB_2 \\lbrack vv \\rbrack_{mB_2}\n",
    "\\end{aligned}\n",
    "\\qquad (9)$$\n",
    "You’ll see in the next section that the term $mB_2 ^ {-1} mB_1$ is the inverse of $mB_1 ^ {-1} mB_2$, which is the change of basis matrix $mC$ described before. This shows that $mC^{-1}$ allows you to convert vectors from an input basis $mB_1$ to an output basis $mB_2$ and $mC$ from $mB_2$ to $mB_1$.\n",
    "\n",
    "In the context of this example, since $mB_1$ is the standard basis, it simplifies to:\n",
    "\n",
    "$$\n",
    "\\begin{aligned}\n",
    "\\lbrack vv \\rbrack_{mB_2} = mB_2 ^ {-1} mI \\lbrack vv \\rbrack_{mB_1} \\\\\\\\\n",
    "\\lbrack vv \\rbrack_{mB_2} = mB_2 ^ {-1} \\lbrack vv \\rbrack_{mB_1}\n",
    "\\end{aligned}\n",
    "$$\n",
    "This means that, applying the matrix $mB_2 ^ {-1}$ to $\\lbrack vv \\rbrack_{mB_1}$ allows you to change its basis to $mB_2$.\n",
    "\n",
    "Let’s code this:"
   ]
  },
  {
   "cell_type": "code",
   "execution_count": 9,
   "metadata": {
    "scrolled": true
   },
   "outputs": [
    {
     "data": {
      "text/plain": [
       "array([ 0.86757991, -1.00456621])"
      ]
     },
     "execution_count": 9,
     "metadata": {},
     "output_type": "execute_result"
    }
   ],
   "source": [
    "v_B1 = np.array([2, 1])\n",
    "B_2 = np.array([\n",
    "    [0.8, -1.3],\n",
    "    [1.5, 0.3],\n",
    "])\n",
    "\n",
    "v_B2 = np.linalg.inv(B_2) @ v_B1\n",
    "v_B2"
   ]
  },
  {
   "cell_type": "markdown",
   "metadata": {},
   "source": [
    "These values are the coordinates of the vector $vv$ relative to the basis $mB2$. This means that if you go to $0.86757991 vi' - 1.00456621 vj'$ you arrive at the position (2, 1) in the standard basis. "
   ]
  },
  {
   "cell_type": "markdown",
   "metadata": {},
   "source": [
    "### 5.3 Linear Transformations in Different Bases\n",
    "\n",
    "You just saw that vectors are defined by different arrays of numbers according to the basis you take. Similarly, linear transformations are expressed as different matrices, according to the basis. In this section, you'll see how to find the matrix corresponding to a transformation in another basis."
   ]
  },
  {
   "cell_type": "markdown",
   "metadata": {},
   "source": [
    "#### 5.3.1 Transformations\n",
    "\n",
    "You know that you can consider matrices as linear transformations. Consider for instance a transformation tT which is a 90-degree clockwise rotation applied to the vector $vv$."
   ]
  },
  {
   "cell_type": "markdown",
   "metadata": {},
   "source": [
    "The initial vector $vv$ (in red) and the transformed vector $vv$ after the 90-degree clockwise rotation (yellow).\n",
    "\n",
    "The transformation illustrated is associated with the following matrix $mA$ (its columns are the new basis vectors): \n",
    "$$\n",
    "mA = \\begin{bmatrix}\n",
    "    0 & 1 \\\\\\\\\n",
    "    -1 & 0\n",
    "\\end{bmatrix}\n",
    "$$\n",
    "The transformed vector $vw$ has the following coordinates:\n",
    "\n",
    "$$\n",
    "vw = \\begin{bmatrix}\n",
    "    1 \\\\\\\\\n",
    "    -2\n",
    "\\end{bmatrix}\n",
    "$$"
   ]
  },
  {
   "cell_type": "markdown",
   "metadata": {},
   "source": [
    "##### Notation\n",
    "Take an instant to review the elements and their notation.\n",
    "\n",
    "In the input basis denoted as $mB1$, a transfomraion tT (for instance, a 90-degree rotation) is associated with the matrix $mA$. Let's denoted $mD$ the matrix similar to $mA$ associated with the same transformation tT relative to the output basis $mB2$.\n",
    "\n",
    "In addition, let's have the change of basis matrix $mC$ allowing you to go from the basis $mB2$ to the basis of $mB1$. The inverse of the change of basis matrix, $mC-1$, do the change of basis the other way around: from $mB1$ to $mB2$. \n",
    "\n",
    "You have also an initial vector $vv$ (before being transformed by $mA$) and a transformed vector $vw$.\n",
    "\n",
    "Using the square bracket notation, you have: \n",
    "- The vector $\\lbrack vv \\rbrack_{mB_1}$ is the initial vector $vv$ relative to the basis $mB_1$.\n",
    "- The vector $\\lbrack vv \\rbrack_{mB_2}$ is the same vector $vv$ relative to the basis $mB_2$.\n",
    "- The vector $\\lbrack vw \\rbrack_{mB_1}$ is the transformed vector $vw$ relative to the basis $mB_1$.\n",
    "- The vector $\\lbrack vw \\rbrack_{mB_2}$ is the same vector $vw$ relative to the basis $mB_2$."
   ]
  },
  {
   "cell_type": "markdown",
   "metadata": {},
   "source": [
    "#### 5.3.2 Transformation Matrix in Another Basis\n",
    "\n",
    "You now have all you need to think about the transformation matrix associated with the transformation tT with respect to different bases. The goal is to find mD, the matrix corresponding to the transformation tT with respect to the basis $mB2$. "
   ]
  },
  {
   "cell_type": "markdown",
   "metadata": {},
   "source": [
    "##### Finding the Matrix $mD$\n",
    "\n",
    "To better understand the relationship between the different elements involved here (the transformation matrices, the change of basis matrices, the initial and transformed vectors etc). \n",
    "\n",
    "You can see that the matrix $mD$ transforms the initial vector $vv$ relative to the basis $mB2$  ($\\lbrack vv \\rbrack_{mB_2}$, bottom left) to the transformed vector $vw$ relative to the basis $mB_2$ ($\\lbrack vw \\rbrack_{mB_2}$, bottom right). Mathematically, you have:\n",
    "\n",
    "$$\n",
    "\\lbrack vw \\rbrack_{mB_2} = mD \\lbrack vv \\rbrack_{mB_2}\n",
    "$$\n",
    "However, you can see that there is another way to go from $\\lbrack vv \\rbrack_{mB_2}$ to $\\lbrack vw \\rbrack_{mB_2}$: you can go through the basis $mB_1$\n",
    "\n",
    "The matrix $mC$ changes the basis of $vv$ (from bottom left to upper left):\n",
    "\n",
    "$$\n",
    "\\lbrack vv \\rbrack_{mB_1} = mC \\lbrack vv \\rbrack_{mB_2}\n",
    "$$\n",
    "Then, you apply $mA$ to transform $\\lbrack vv \\rbrack_{mB_1}$ to $\\lbrack vw \\rbrack_{mB_1}$ (from upper left to upper right):\n",
    "\n",
    "$$\n",
    "\\lbrack vw \\rbrack_{mB_1} = mA \\lbrack vv \\rbrack_{mB_1}\n",
    "$$$$\n",
    "\\begin{aligned}\n",
    "\\lbrack vw \\rbrack_{mB_1} = mA \\lbrack vv \\rbrack_{mB_1} \\\\\\\\\n",
    "= mA mC \\lbrack vv \\rbrack_{mB_2}\n",
    "\\end{aligned}\n",
    "$$\n",
    "The last step shows that you can replace $\\lbrack vv \\rbrack_{mB_1}$ with the expression found in the last equation ($\\lbrack vv \\rbrack_{mB_1} = mC \\lbrack vv \\rbrack_{mB_2}$).\n",
    "\n",
    "Finally, you can change the basis of $\\lbrack vw \\rbrack_{mB_1}$ to obtain $\\lbrack vw \\rbrack_{mB_2}$ (from upper right to bottom right):\n",
    "\n",
    "$$\n",
    "\\begin{aligned}\n",
    "\\lbrack vw \\rbrack_{mB_2} = mC^{-1} \\lbrack vw \\rbrack_{mB_1} \\\\\\\\\n",
    "= mC^{-1} mA mC \\lbrack vv \\rbrack_{mB_2}\n",
    "\\end{aligned}\n",
    "$$\n",
    "You saw that:\n",
    "\n",
    "$$\n",
    "\\lbrack vw \\rbrack_{mB_2} = mD \\lbrack vv \\rbrack_{mB_2}\n",
    "$$\n",
    "So if you replace into the equation, you have:\n",
    "\n",
    "$$\n",
    "\\begin{aligned}\n",
    "mD \\lbrack vv \\rbrack_{mB_2} = mC^{-1} mA mC \\lbrack vv \\rbrack_{mB_2} \\\\\\\\\n",
    "mD = mC^{-1} mA mC\n",
    "\\end{aligned}\n",
    "$$\n",
    "That’s nice: you have the matrix $mD$. This equation gives you the relationship between the two matrices $mA$ and $mD$ corresponding to the same transformation $tT$ relative with two different bases. You just need to know the change of basis matrix to convert a transformation matrix with respect to the new basis.\n",
    "\n",
    "The important thing to note is that $mD = mC^{-1} mA mC$ can be interpreted as a decomposition of the matrix $mD$ into the matrices $mC$ and $mA$. You’ll see more about that in the next section about eigendecomposition."
   ]
  },
  {
   "cell_type": "markdown",
   "metadata": {},
   "source": [
    "#### 5.3.3 Interpretation\n",
    "\n",
    "You can't use the transformation matrix $mA$ to apply the transformation $tT$ to a vector in $mB2$, because $mA$ is with respect to $mB1$ and the vector you want to transform is with respect to $mB2$. \n",
    "\n",
    "The strategy is to follow these steps:\n",
    "- Convert the vector to the basis $mB1$.\n",
    "- Apply the transformation corresponding to the matrix $mA$.\n",
    "- Convert the transformed vector back to the basis $mB2$. \n",
    "\n",
    "These steps are summarized in Figure 165 (with the order being from right to left, as with matrix product).\n",
    "Figure 165: Change of basis for a transformation matrix $mA$.\n",
    "\n",
    "Mathematically, it corresponds to applying the change of basis matrix $mC$ (allowing you to go from $mB2$ to $mB1$), applying the transformation with $mA$ (because at this time we're in the right basis), and then going back to $mB2$ with the inverse of the change of basis matrix."
   ]
  },
  {
   "cell_type": "markdown",
   "metadata": {},
   "source": [
    "### 5.4 Eigendecomposition\n",
    "\n",
    "Eigendecomposition is the expression of a matrix in term of its eigenvectors and eigenvalues. It is a special case of a change of basis: you want to find a basis in which the transformation is associated with a diagonal matrix. As you'll see, this is equivalent to decompose the matrix into eigenvectors and eigenvalues. "
   ]
  },
  {
   "cell_type": "markdown",
   "metadata": {},
   "source": [
    "#### 5.4.1 First Step: Change of Basis\n"
   ]
  },
  {
   "cell_type": "markdown",
   "metadata": {},
   "source": [
    "Considering a matrix $mA$, the goal of eigendecomposition is to find the basis in which the same transformation is described by a diagonal matrix. \n",
    "\n",
    "This diagonal matrix is usually denoted as $mLambda$ (it is pronounced 'capital lambda', and it corresponds to $mD$. and the change of basis matrix $mQ$ (because, as you'll see, this matrix is orthogonal, and $mQ$ is a standard name for orthogonal matrices). From the previous section, you have: \n",
    "\n",
    "$$\n",
    "mLambda = mQ^{-1} mA mQ\n",
    "$$\n",
    "You can rearrange this equation as follows to see how $mA$ is expressed:\n",
    "\n",
    "$$\n",
    "\\begin{aligned}\n",
    "mQ^{-1} mA mQ = mLambda \\\\\\\\\n",
    "mQmQ^{-1} mA mQ = mQ mLambda \\\\\\\\\n",
    "mA mQ = mQ mLambda \\\\\\\\\n",
    "mA mQ mQ^{-1} = mQ mLambda mQ^{-1} \\\\\\\\\n",
    "mA = mQ mLambda mQ^{-1}\n",
    "\\end{aligned}\n",
    "$$\n",
    "The matrix $mA$ is decomposed into the change of basis matrix $mQ$ and the diagonal matrix $mLambda$."
   ]
  },
  {
   "cell_type": "markdown",
   "metadata": {},
   "source": [
    "#### 5.4.2 Eigenvectors and Eigenvalues\n",
    "\n",
    "But what are these matrices in the context of eigenvectors and eigenvalues? TO answer this question, you need to do some customizations to the last equation.\n",
    "\n",
    "First, you can write the relationship between $mA$, $mQ$, and $mLambda$ as:\n",
    "$$\n",
    "\\begin{aligned}\n",
    "mA = mQ mLambda mQ^{-1} \\\\\\\\\n",
    "mA mQ = mQ mLambda mQ^{-1}mQ \\\\\\\\\n",
    "mA mQ = mQ mLambda\n",
    "\\end{aligned}\n",
    "$$"
   ]
  },
  {
   "cell_type": "markdown",
   "metadata": {},
   "source": [
    "Remember that $mQ$ is a change of basis matrix. This means that its columns are the basis vectors of the new basis. If $mA$ is a $\\n\\ by \\n\\$ matrix, you have $n$ basis vectors: \n",
    "\n",
    "$$\n",
    "mQ = \\begin{bmatrix}\n",
    "    vq_1 \\cdots vq_n\n",
    "\\end{bmatrix}\n",
    "$$\n",
    "with $vq_1$ to $vq_n$ being the basis vectors of the new basis.\n",
    "\n",
    "In addition, you’re looking for $mLambda$ as a diagonal matrix. You’ll have:\n",
    "\n",
    "$$\n",
    "mLambda = \\begin{bmatrix}\n",
    "    \\lambda_1 & 0 & 0 \\\\\\\\\n",
    "    0 & \\ddots & 0 \\\\\\\\\n",
    "    0 & 0 & \\lambda_{n}\n",
    "\\end{bmatrix}\n",
    "$$\n",
    "If you replace in the equation, you have:\n",
    "\n",
    "$$\n",
    "\\begin{aligned}\n",
    "mA\\begin{bmatrix}\n",
    "    vq_1 & \\cdots & vq_n\n",
    "\\end{bmatrix}\n",
    "= \\begin{bmatrix}\n",
    "    vq_1 & \\cdots & vq_n\n",
    "\\end{bmatrix} \\begin{bmatrix}\n",
    "    \\lambda_1 & 0 & 0 \\\\\\\\\n",
    "    0 & \\ddots & 0 \\\\\\\\\n",
    "    0 & 0 & \\lambda_n\n",
    "\\end{bmatrix} \\\\\\\\\n",
    "\\begin{bmatrix}\n",
    "    mA vq_1 & \\cdots & mA vq_n\n",
    "\\end{bmatrix}\n",
    "= \\begin{bmatrix}\n",
    "    \\lambda_1 vq_1 & \\cdots & \\lambda_n vq_n\n",
    "\\end{bmatrix}\n",
    "\\end{aligned}\n",
    "$$\n",
    "And this matrix form can be written as the following set of equations:\n",
    "\n",
    "$$\n",
    "\\begin{cases}\n",
    "mA vq_1 = \\lambda_1 vq_1 \\\\\\\\\n",
    "\\vdots \\\\\\\\\n",
    "mA vq_n = \\lambda_n vq_n\n",
    "\\end{cases}\n",
    "$$\n",
    "The first equation means that you are looking for a vector $vq_1$, which is just rescaled (it doesn’t change direction) when you apply $mA$ to it. "
   ]
  },
  {
   "cell_type": "markdown",
   "metadata": {},
   "source": [
    "#### 5.4.3 Diagonalization\n",
    "\n",
    "You saw that finding a diagonal matrix similar to $mA$ in another basis means that the vectors from the change of basis matrix are only rescaled by $mLambda$. This shows the relationship between eigendecomposition and change of basis. \n",
    "\n",
    "You can consider eigendecomposition as finding a basis where the matrix becomes diagonal. The vectors $vq_0$ to $vq_n$ are the eigenvectors of the matrix $mA$ and $lambda_0$ to $lambda_n$ are its eigenvalues. The new basis is called the eigenbasis."
   ]
  },
  {
   "cell_type": "markdown",
   "metadata": {},
   "source": [
    "This process, also called diagonalization is leveraged in PCA where the features of a dataset are transformed such that the components (the transformed features) can be sorted as a function of the amount of variance they explain."
   ]
  },
  {
   "cell_type": "markdown",
   "metadata": {},
   "source": [
    "#### 5.4.4 Eigendecompostion of Symmetric Matrices\n",
    "\n",
    "In addition, if the matrix $mA$ is square and symmetric, its eigenvectors are orthogonal. You know that if a matrix $mB$ is orthogonal, then $mB^{-1}=mB^{\\text{T}}$. This means that $mA = mQ mLambda mQ^{-1} = mQ mLambda mQ^{\\text{T}}$. Keep that in a corner of your mind. "
   ]
  },
  {
   "cell_type": "markdown",
   "metadata": {},
   "source": [
    "The spectral theorem states that if a matrix $mA$ is symmetric, then it is diagonalizable, that is, there exists an invertible matrix $mQ$ such that $mQ^{-1}mA mQ$ which is diagonal.\n",
    "\n",
    "Finally, note that eigendecomposition can be used only with square matrices. To decompose nonsquare matrices, you'll need to use other decomposition methods, like Singular Value Decomposition (SVD). "
   ]
  },
  {
   "cell_type": "markdown",
   "metadata": {},
   "source": [
    "### 5.5 Hands-on Project: Principal Component Analysis \n",
    "\n",
    "Principal Component Analysis, or PCA, is an algorithm that you can use to reduce the dimensionality of a dataset. It is useful, for instance, to reduce computation time, compress data, or avoid what is called the curse of dimensionality (the curse of dimensionality refers to the issues arising in data analysis when the number of dimensions of the dataset increases. Some algorithms are working well with a low numbers of dimensions but fail when there is a high number of features). It is also useful for visualization purposes: high dimensional data is hard to visualize and it can be useful to decrease the number of dimensions to plot your data. \n",
    "\n",
    "In this hands-on project, you'll use various concepts that you learn along the book, as change of basis, eigendecomposition or covariance matrices to understand how PCA is working. \n",
    "\n",
    "In the first part, you'll learn about the relationship between projections, explained variane and error minimization, first with a bit of theory, and then by coding a PCA on a the beer dataset (consumption of beer as a function of temperature). In the second part, you'll use Sklearn to use PCA on audio data to visualize audio samples according to their category, and then to compress these audio samples."
   ]
  },
  {
   "cell_type": "markdown",
   "metadata": {},
   "source": [
    "#### 5.4.1 Under the Hood"
   ]
  },
  {
   "cell_type": "markdown",
   "metadata": {},
   "source": [
    "##### Theoretical context\n",
    "\n",
    "The goal of PCA is to project data onto a lower dimensional space while keeping as much of the information contained in the data as possible. The problem can be seen as a perpendicular least squares problem aslo called orthogonal regression (note that this is different than least squares where vertical distance is used ( the distance according to the dependent variable).).\n",
    "\n",
    "You'll see here that the error of the orthogonal projections is minimized when the projection line corresponds to the direction where the variance of the data is maximal."
   ]
  },
  {
   "cell_type": "markdown",
   "metadata": {},
   "source": [
    "##### Variance and Projections\n",
    "\n",
    "It is first important to understand that, when the features of your dataset are not completely uncorrelated, some directions are associated with a larger variance than others. \n",
    "\n",
    "The variance of the data in the direction of the vector $vu$ (red) is larger than in the direction of the vector $vv$ (green). \n",
    "\n",
    "Projecting data to a lower-dimensional space means that you might lose some information. If you project two-dimensional data onto a line, the variance of the projected data tells you how much information you lose. For instance, if the variance of the projected data is near zero, it means that the data points will be projected to very close positions: you lose a lot of information. \n",
    "\n",
    "For this reason, the goal of the PCA is to change the basis of the data matrix, such that the direction with the maximum variance becomes the frist principal component. The second component is the direction with the maximum variance which is orthogonal to the first one, and so on. \n",
    "\n",
    "When you have found the components of the PCA, you change the basis of your data such that the components are the new basis vectors. This transformed dataset has new features, which are the components and which are linear combinations of the initial features. Reducing the dimensionality is done by selecting some of the components only. \n",
    "\n",
    "In other words, expressing the PCA in terms of change of basis, its goal is to find a new basis (which is a linear combination of the initial basis) inw hich the variance of the data is maximized along the first dimensions. "
   ]
  },
  {
   "cell_type": "markdown",
   "metadata": {},
   "source": [
    "##### Minimizing the Error\n",
    "\n",
    "Finding the directions that maximize the variance is similar as minimizing the error between the data and its projection. \n",
    "\n",
    "You can see that lower erros are shown in the left figure. Since projections are orthogonal, the variance associated with the direction of the line on which you project doesn't impact the error. "
   ]
  },
  {
   "cell_type": "markdown",
   "metadata": {},
   "source": [
    "##### Finding the Best Directions\n",
    "\n",
    "After changing the basis of the dataset, you should have a covariance between features close to zero. In other terms, you want that the transformed dataset has a diagonal covariance matrix: the covariance between each pair of principal components is equal to zero. \n",
    "\n",
    "You can use eigendecomposition to diagonalize a matrix. Thus, you can calculate the eigenvectors of the covariance matrix of the dataset. They will give you the directions of the new basis in which the covariance matrix is diagonal. \n",
    "\n",
    "To summarize, the principal components are calculated as the eigenvectors of the covariance matrix of the dataset. In addition, the eigenvalues give you teh explained variance of the corresponding eigenvectors. Thus, by sorting the eigenvectors in the decresading order according to their eigenvalues, you can sort the principal components by importance order, and eventually remove the ones associated with a small variance. "
   ]
  },
  {
   "cell_type": "markdown",
   "metadata": {},
   "source": [
    "##### Calculating the PCA"
   ]
  },
  {
   "cell_type": "markdown",
   "metadata": {},
   "source": [
    "##### Dataset\n",
    "\n",
    "Let's illustrate how PCA is working with the beer dataset showing the beer consumption and the temperature in São Paulo, Brazil for the year 2015 (more details about this dataset here: https://www.kaggle.com/dongeorge/beer-consumption-sao-paulo) .\n",
    "\n",
    "Let’s load the data and plot the consumption as a function of the temperature:"
   ]
  },
  {
   "cell_type": "code",
   "execution_count": 6,
   "metadata": {},
   "outputs": [
    {
     "data": {
      "image/png": "[encoded data removed]",
      "text/plain": [
       "<Figure size 432x288 with 1 Axes>"
      ]
     },
     "metadata": {
      "needs_background": "dark"
     },
     "output_type": "display_data"
    }
   ],
   "source": [
    "data_beer = pd.read_csv(\"https://raw.githubusercontent.com/hadrienj/essential_math_for_data_science/master/data/beer_dataset.csv\")\n",
    "\n",
    "plt.scatter(data_beer['Temperatura Maxima (C)'],\n",
    "            data_beer['Consumo de cerveja (litros)'],\n",
    "            alpha=0.3)\n",
    "# [...] Add labels and custom axes\n",
    "\n",
    "plt.xlabel(\"Maximal temperature ($\\degree$C)\")\n",
    "plt.ylabel(\"Consuption (liters)\")\n",
    "\n",
    "# Assure that ticks are displayed with a specific step\n",
    "ax = plt.gca()\n",
    "ax.xaxis.set_major_locator(ticker.MultipleLocator(5))\n",
    "ax.yaxis.set_major_locator(ticker.MultipleLocator(5))\n",
    "\n",
    "# assure x and y axis have the same scale\n",
    "plt.axis('equal')\n",
    "plt.show()"
   ]
  },
  {
   "cell_type": "markdown",
   "metadata": {},
   "source": [
    "Consumption of beer as a function of temperature.\n",
    "\n",
    "Now, let's create the matrix $mX$ with two variables: temperatures and consumption."
   ]
  },
  {
   "cell_type": "code",
   "execution_count": 9,
   "metadata": {},
   "outputs": [
    {
     "data": {
      "text/plain": [
       "(365, 2)"
      ]
     },
     "execution_count": 9,
     "metadata": {},
     "output_type": "execute_result"
    }
   ],
   "source": [
    "X = np.array([data_beer['Temperatura Maxima (C)'],\n",
    "             data_beer['Consumo de cerveja (litros)']]).T\n",
    "X.shape"
   ]
  },
  {
   "cell_type": "markdown",
   "metadata": {},
   "source": [
    "The matrix $mX$ has 365 rows and two columns (the two variables)."
   ]
  },
  {
   "cell_type": "markdown",
   "metadata": {},
   "source": [
    "##### Eigendecomposition of the Covariance Matrix\n",
    "\n",
    "As you saw, the first step is to compute the covariance matrix of the dataset (if you calculate the covariance matrix using $mX^{\\text{T}}mX$, be sure that the data is centered around zero.):"
   ]
  },
  {
   "cell_type": "code",
   "execution_count": 10,
   "metadata": {},
   "outputs": [
    {
     "data": {
      "text/plain": [
       "array([[18.63964745, 12.20609082],\n",
       "       [12.20609082, 19.35245652]])"
      ]
     },
     "execution_count": 10,
     "metadata": {},
     "output_type": "execute_result"
    }
   ],
   "source": [
    "C = np.cov(X, rowvar=False)\n",
    "C"
   ]
  },
  {
   "cell_type": "markdown",
   "metadata": {},
   "source": [
    "Remember that you can read it as follows: the diagonal values are respectively the variances of the first and the second variable. The covariance between two variables is around 12.2.\n",
    "\n",
    "Now, you will calculate the eigenvectors and eigenvalues of this covariance matrix:"
   ]
  },
  {
   "cell_type": "code",
   "execution_count": 12,
   "metadata": {},
   "outputs": [
    {
     "data": {
      "text/plain": [
       "(array([ 6.78475896, 31.20734501]),\n",
       " array([[-0.71735154, -0.69671139],\n",
       "        [ 0.69671139, -0.71735154]]))"
      ]
     },
     "execution_count": 12,
     "metadata": {},
     "output_type": "execute_result"
    }
   ],
   "source": [
    "eigvals, eigvecs = np.linalg.eig(C)\n",
    "eigvals, eigvecs"
   ]
  },
  {
   "cell_type": "markdown",
   "metadata": {},
   "source": [
    "You can store the eigenvectors as two vectors $vu$ and $vv$."
   ]
  },
  {
   "cell_type": "code",
   "execution_count": 13,
   "metadata": {},
   "outputs": [],
   "source": [
    "u = eigvecs[:, 0].reshape(-1, 1)\n",
    "v = eigvecs[:, 1].reshape(-1, 1)"
   ]
  },
  {
   "cell_type": "markdown",
   "metadata": {},
   "source": [
    "Let's plot the eigenvectors with the data (note that you should use centered data because it is the data to calculate the covariance matrix). \n",
    "\n",
    "You can scale the eigenvectors by their corresponding eigenvalues, which is the explained variance. For visualization purpose, let's use a vector length of three standard deviations (equal to three times the square root of the explained variance):"
   ]
  },
  {
   "cell_type": "code",
   "execution_count": 15,
   "metadata": {},
   "outputs": [
    {
     "data": {
      "image/png": "[encoded data removed]",
      "text/plain": [
       "<Figure size 432x288 with 1 Axes>"
      ]
     },
     "metadata": {
      "needs_background": "dark"
     },
     "output_type": "display_data"
    }
   ],
   "source": [
    "X_centered = X - X.mean(axis=0)\n",
    "\n",
    "plt.quiver(0, 0,\n",
    "           2 * np.sqrt(eigvals[0]) * u[0], 2 * np.sqrt(eigvals[0]) * u[1],\n",
    "           color=\"#919191\", angles='xy', scale_units='xy', scale=1,\n",
    "           zorder=2, width=0.011)\n",
    "plt.quiver(0, 0,\n",
    "           2 * np.sqrt(eigvals[1]) * v[0], 2 * np.sqrt(eigvals[1]) * v[1],\n",
    "           color=\"#FF8177\", angles='xy', scale_units='xy', scale=1,\n",
    "           zorder=2, width=0.011)\n",
    "\n",
    "plt.scatter(X_centered[:, 0], X_centered[:, 1], alpha=0.3)\n",
    "# [...] Add axes\n",
    "\n",
    "# Assure that ticks are displayed with a specific step\n",
    "# plt.figure(figsize=(12, 12))\n",
    "ax = plt.gca()\n",
    "ax.xaxis.set_major_locator(ticker.MultipleLocator(5))\n",
    "ax.yaxis.set_major_locator(ticker.MultipleLocator(5))\n",
    "\n",
    "# draw axes\n",
    "plt.axhline(0, c='#d6d6d6', zorder=0)\n",
    "plt.axvline(0, c='#d6d6d6', zorder=0)\n",
    "\n",
    "plt.xlabel(\"Maximal temperature ($\\degree$C)\")\n",
    "plt.ylabel(\"Consuption (liters)\")\n",
    "\n",
    "# assure x and y axis have the same scale\n",
    "plt.axis('equal')\n",
    "\n",
    "plt.show()"
   ]
  },
  {
   "cell_type": "markdown",
   "metadata": {},
   "source": [
    "The eigenvectors $vu$ (in gray) and $vv$ (in red) scaled according to the explained variance. \n",
    "\n",
    "You can see that the eigenvectors of the covariance matrix give you the important directions of the data. The vector $vv$ in read is associated with the largest eigenvalue of thus corresponds to the direction with the largest variance. The vector $vu$ in gray is orthogonal to $vv$ and is the second principal component.\n",
    "\n",
    "Then, you just need to change the basis of the data using the eigenvectors as the new basis vectors. But first, you can sort the eigenvectors with respect to the eigenvalues in decreasing order:"
   ]
  },
  {
   "cell_type": "markdown",
   "metadata": {},
   "source": [
    "sort_index = eigvals.argsort()[::-1]\n",
    "\n",
    "eigvals_sorted = eigvals[sort_index]\n",
    "eigvecs_sorted = eigvecs[:, sort_index]\n",
    "eigvecs_sorted"
   ]
  },
  {
   "cell_type": "markdown",
   "metadata": {},
   "source": [
    "Now that your eigenvectors are sorted, let's change the basis of the data:"
   ]
  },
  {
   "cell_type": "code",
   "execution_count": 18,
   "metadata": {},
   "outputs": [],
   "source": [
    "X_transformed = X_centered @ eigvecs_sorted"
   ]
  },
  {
   "cell_type": "markdown",
   "metadata": {},
   "source": [
    "You can plot the transformed data to check that the principal components are now uncorrelated:"
   ]
  },
  {
   "cell_type": "code",
   "execution_count": 19,
   "metadata": {},
   "outputs": [
    {
     "data": {
      "image/png": "[encoded data removed]",
      "text/plain": [
       "<Figure size 432x288 with 1 Axes>"
      ]
     },
     "metadata": {
      "needs_background": "dark"
     },
     "output_type": "display_data"
    }
   ],
   "source": [
    "plt.scatter(X_transformed[:, 0], X_transformed[:, 1], alpha=0.3)\n",
    "#[...] Add axes\n",
    "\n",
    "# Assure that ticks are displayed with a specific step\n",
    "# plt.figure(figsize=(12, 12))\n",
    "ax = plt.gca()\n",
    "ax.xaxis.set_major_locator(ticker.MultipleLocator(5))\n",
    "ax.yaxis.set_major_locator(ticker.MultipleLocator(5))\n",
    "\n",
    "# draw axes \n",
    "plt.axhline(0, c='#d6d6d6', zorder=0)\n",
    "plt.axvline(0, c='#d6d6d6', zorder=0)\n",
    "\n",
    "# assure x and y axis have the same scale\n",
    "plt.axis('equal')\n",
    "\n",
    "plt.xlabel('Principal Component 1')\n",
    "plt.ylabel('Principal Component 2')\n",
    "\n",
    "plt.show()"
   ]
  },
  {
   "cell_type": "markdown",
   "metadata": {},
   "source": [
    "The dataset in the new basis\n",
    "\n",
    "The data samples in the new basis. You can see that the first dimension (the x-axis) corresponds to the direction with the largest variance. \n",
    "\n",
    "You can keep only the first component of the data in this new basis without losing too much information.\n",
    "\n",
    "One caveat of using the covariance matrix to calcuate the PCA is that it can be hard to compute when there are many features (as with audio data, like in the second part of this hands-on). For this reason, it is usually preferred to use the Singular Value Decomposition (SVD) to calculate the PCA."
   ]
  },
  {
   "cell_type": "markdown",
   "metadata": {},
   "source": [
    "#### 5.5.2 Making Sense of Audio \n",
    "\n",
    "You saw how to use the PCA with 2D data. However, PCA is particularly useful when you deal with high-dimensional data. In the second part of this hands-on project, you'll use it to visualize relationships between categories of audio samples, and then to compress these audio files."
   ]
  },
  {
   "cell_type": "markdown",
   "metadata": {},
   "source": [
    "##### Audio Data and Preprocessing\n",
    "\n",
    "Audio data are times series with a value of amplitude for each time sample. The sampling frequency is the number of samples per seconds. For istance, many audio files have a sampling frequency of 44,100 Hz, meaning that there are 44,100 amplitude values per second. "
   ]
  },
  {
   "cell_type": "markdown",
   "metadata": {},
   "source": [
    "##### Dataset\n",
    "You'll use an audio dataset, created for the Making Sense of Sounds Data Challenge, where the goal is to classify sounds. "
   ]
  },
  {
   "cell_type": "markdown",
   "metadata": {},
   "source": [
    "Folder structure."
   ]
  },
  {
   "cell_type": "markdown",
   "metadata": {},
   "source": [
    "You'll start by loading the csv file containing the categories using Pandas and look at random rows: "
   ]
  },
  {
   "cell_type": "code",
   "execution_count": 20,
   "metadata": {},
   "outputs": [
    {
     "data": {
      "text/html": [
       "<div>\n",
       "<style scoped>\n",
       "    .dataframe tbody tr th:only-of-type {\n",
       "        vertical-align: middle;\n",
       "    }\n",
       "\n",
       "    .dataframe tbody tr th {\n",
       "        vertical-align: top;\n",
       "    }\n",
       "\n",
       "    .dataframe thead th {\n",
       "        text-align: right;\n",
       "    }\n",
       "</style>\n",
       "<table border=\"1\" class=\"dataframe\">\n",
       "  <thead>\n",
       "    <tr style=\"text-align: right;\">\n",
       "      <th></th>\n",
       "      <th>Category</th>\n",
       "      <th>Event</th>\n",
       "      <th>File</th>\n",
       "    </tr>\n",
       "  </thead>\n",
       "  <tbody>\n",
       "    <tr>\n",
       "      <th>815</th>\n",
       "      <td>Music</td>\n",
       "      <td>Guitar</td>\n",
       "      <td>LCU.wav</td>\n",
       "    </tr>\n",
       "    <tr>\n",
       "      <th>723</th>\n",
       "      <td>Music</td>\n",
       "      <td>Drums</td>\n",
       "      <td>LPO.wav</td>\n",
       "    </tr>\n",
       "    <tr>\n",
       "      <th>1318</th>\n",
       "      <td>Urban</td>\n",
       "      <td>Engine</td>\n",
       "      <td>EV1.wav</td>\n",
       "    </tr>\n",
       "    <tr>\n",
       "      <th>1077</th>\n",
       "      <td>Nature</td>\n",
       "      <td>Rain</td>\n",
       "      <td>MGO.wav</td>\n",
       "    </tr>\n",
       "    <tr>\n",
       "      <th>1228</th>\n",
       "      <td>Urban</td>\n",
       "      <td>Can opening</td>\n",
       "      <td>3AS.wav</td>\n",
       "    </tr>\n",
       "  </tbody>\n",
       "</table>\n",
       "</div>"
      ],
      "text/plain": [
       "     Category        Event     File\n",
       "815     Music       Guitar  LCU.wav\n",
       "723     Music        Drums  LPO.wav\n",
       "1318    Urban       Engine  EV1.wav\n",
       "1077   Nature         Rain  MGO.wav\n",
       "1228    Urban  Can opening  3AS.wav"
      ]
     },
     "execution_count": 20,
     "metadata": {},
     "output_type": "execute_result"
    }
   ],
   "source": [
    "np.random.seed(1234)\n",
    "categories = pd.read_csv('data/audio_cat/Logsheet_Development.csv')\n",
    "categories.iloc[np.random.choice(categories.shape[0], 5), :]"
   ]
  },
  {
   "cell_type": "markdown",
   "metadata": {},
   "source": [
    "You can see that the audio files are categorized as 'Music', 'Human' and that the main event is also given, like 'Brass', 'Thunderstorm',etc. Let's encode these events in a way that a computer can understand, for instance with label encoding, that is, by associating each event with a number. Let's use Sklearn to do it."
   ]
  },
  {
   "cell_type": "code",
   "execution_count": 21,
   "metadata": {},
   "outputs": [],
   "source": [
    "from sklearn import preprocessing \n",
    "\n",
    "le = preprocessing.LabelEncoder()\n",
    "categories['event_enc'] = le.fit_transform(categories['Event'])"
   ]
  },
  {
   "cell_type": "markdown",
   "metadata": {},
   "source": [
    "You now have a new column event_enc in the dataframe with the number corresponding to the event:"
   ]
  },
  {
   "cell_type": "code",
   "execution_count": 23,
   "metadata": {},
   "outputs": [
    {
     "data": {
      "text/html": [
       "<div>\n",
       "<style scoped>\n",
       "    .dataframe tbody tr th:only-of-type {\n",
       "        vertical-align: middle;\n",
       "    }\n",
       "\n",
       "    .dataframe tbody tr th {\n",
       "        vertical-align: top;\n",
       "    }\n",
       "\n",
       "    .dataframe thead th {\n",
       "        text-align: right;\n",
       "    }\n",
       "</style>\n",
       "<table border=\"1\" class=\"dataframe\">\n",
       "  <thead>\n",
       "    <tr style=\"text-align: right;\">\n",
       "      <th></th>\n",
       "      <th>Category</th>\n",
       "      <th>Event</th>\n",
       "      <th>File</th>\n",
       "      <th>event_enc</th>\n",
       "    </tr>\n",
       "  </thead>\n",
       "  <tbody>\n",
       "    <tr>\n",
       "      <th>1178</th>\n",
       "      <td>Nature</td>\n",
       "      <td>Water</td>\n",
       "      <td>KUR.wav</td>\n",
       "      <td>91</td>\n",
       "    </tr>\n",
       "    <tr>\n",
       "      <th>30</th>\n",
       "      <td>Effects</td>\n",
       "      <td>Boing</td>\n",
       "      <td>T8Y.wav</td>\n",
       "      <td>8</td>\n",
       "    </tr>\n",
       "    <tr>\n",
       "      <th>1182</th>\n",
       "      <td>Nature</td>\n",
       "      <td>Wind</td>\n",
       "      <td>3WY.wav</td>\n",
       "      <td>93</td>\n",
       "    </tr>\n",
       "    <tr>\n",
       "      <th>1398</th>\n",
       "      <td>Urban</td>\n",
       "      <td>Siren</td>\n",
       "      <td>PSM.wav</td>\n",
       "      <td>72</td>\n",
       "    </tr>\n",
       "    <tr>\n",
       "      <th>442</th>\n",
       "      <td>Human</td>\n",
       "      <td>Drinking</td>\n",
       "      <td>47Z.wav</td>\n",
       "      <td>34</td>\n",
       "    </tr>\n",
       "  </tbody>\n",
       "</table>\n",
       "</div>"
      ],
      "text/plain": [
       "     Category     Event     File  event_enc\n",
       "1178   Nature     Water  KUR.wav         91\n",
       "30    Effects     Boing  T8Y.wav          8\n",
       "1182   Nature      Wind  3WY.wav         93\n",
       "1398    Urban     Siren  PSM.wav         72\n",
       "442     Human  Drinking  47Z.wav         34"
      ]
     },
     "execution_count": 23,
     "metadata": {},
     "output_type": "execute_result"
    }
   ],
   "source": [
    "categories.iloc[np.random.choice(categories.shape[0], 5), :]"
   ]
  }
 ],
 "metadata": {
  "kernelspec": {
   "display_name": "Python 3",
   "language": "python",
   "name": "python3"
  },
  "language_info": {
   "codemirror_mode": {
    "name": "ipython",
    "version": 3
   },
   "file_extension": ".py",
   "mimetype": "text/x-python",
   "name": "python",
   "nbconvert_exporter": "python",
   "pygments_lexer": "ipython3",
   "version": "3.8.3"
  }
 },
 "nbformat": 4,
 "nbformat_minor": 4
}
