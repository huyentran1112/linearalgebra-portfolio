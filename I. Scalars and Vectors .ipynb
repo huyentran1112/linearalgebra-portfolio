{
 "cells": [
  {
   "cell_type": "code",
   "execution_count": 3,
   "metadata": {},
   "outputs": [],
   "source": [
    "# import libraries\n",
    "import numpy as np\n",
    "import pandas as pd\n",
    "import matplotlib.pyplot as plt\n",
    "import matplotlib\n",
    "from mpl_toolkits.mplot3d import Axes3D \n",
    "from matplotlib import ticker\n",
    "\n",
    "# display options \n",
    "from IPython.display import display\n",
    "pd.options.display.max_columns = None\n",
    "\n",
    "np.set_printoptions(threshold=30)\n",
    "\n",
    "# Plots style\n",
    "from cycler import cycler \n",
    "\n",
    "matplotlib.rcParams['lines.linewidth'] = 3\n",
    "matplotlib.rcParams['lines.markersize'] = 10\n",
    "\n",
    "matplotlib.rcParams['xtick.labelsize'] = 12\n",
    "matplotlib.rcParams['xtick.color'] = '#A9A9A9'\n",
    "matplotlib.rcParams['ytick.labelsize'] = 12\n",
    "matplotlib.rcParams['ytick.color'] = '#A9A9A9'\n",
    "\n",
    "matplotlib.rcParams['grid.color'] = '#ffffff'\n",
    "\n",
    "matplotlib.rcParams['axes.facecolor'] = '#ffffff'\n",
    "\n",
    "matplotlib.rcParams['axes.spines.left'] = False\n",
    "matplotlib.rcParams['axes.spines.right'] = False\n",
    "matplotlib.rcParams['axes.spines.top'] = False\n",
    "matplotlib.rcParams['axes.spines.bottom'] = False\n",
    "\n",
    "matplotlib.rcParams['axes.prop_cycle'] = cycler(color=['#2EBCE7', '#84EE29', '#FF8177'])"
   ]
  },
  {
   "cell_type": "markdown",
   "metadata": {},
   "source": [
    "Machines only understand numbers. For instance, if you want to create a spam detector, you have first to convert my text data into numbers (for instance, through word embeddings). Data can then be stored in vectors, matrices, and tensors. For instance, images are represented as matrices of values between 0 and 255 representing the luminosity of each color for each pixel. It is possible to leverage the tools and concepts from the field of linear algebra to manipulate these vectors, matrices and tensors. \n",
    "\n",
    "Linear algebra is the branch of mathematics that studies vector spaces. You'll see how vectors constitute vector spaces and how linear algebra applies linear transformations to these spaces. You'll also learn the powerful relationship between sets of linear equations and vector equations, related to important data science concepts like least squares approximation. You'll finally learn important matrix decomposition methods: eigendecomposition and Singular Value Decompostion (SVD), important to understand unsupervised learning methods like Principal Component Analysis (PCA). \n",
    "\n",
    "## I. Scalars and Vectors"
   ]
  },
  {
   "cell_type": "markdown",
   "metadata": {},
   "source": [
    "### 1. What are Vectors?"
   ]
  },
  {
   "cell_type": "markdown",
   "metadata": {},
   "source": [
    "Linear algebra deals with vectors. Other mathematical entities in the field can be defined by their relationship to vectors: scalars, for example, are single numbers that scale vectors (stretching or contracting) when they are multiplied by them. \n",
    "\n",
    "However, vectors refer to various concepts according to the field they are used in. In the context of data science, they are a way to store values from my data. For isntance, take the height and weight of people: since they are distinct values with different meanings, you need to store them separately, for instance using two vectors. You can then do operations on vectors to manipulate these features without loosing the fact that the values correspond to different attributes. \n",
    "\n",
    "You can also use vectors to store data samples, for instance, store the height of ten people as a vector containing ten values. \n",
    "\n",
    "### 1.1 Geometric and Coordinate Vectors\n",
    "\n",
    "The word vector can refer to multiple concepts. Let's learn more about geometric and coordinate vectors. \n",
    "\n",
    "Coordinates are values describing a position. For instance, any position on earth can be specified by geographical coordinates (latitude, longitude, and elevation). "
   ]
  },
  {
   "cell_type": "markdown",
   "metadata": {},
   "source": [
    "##### Geometric Vectors"
   ]
  },
  {
   "cell_type": "markdown",
   "metadata": {},
   "source": [
    "Geometric vectors, also called Euclidean vectors, are mathematical objects defined by their magnitude (the length) and their direction. These properties allow I to describe the displacement from a location to another. "
   ]
  },
  {
   "cell_type": "markdown",
   "metadata": {},
   "source": [
    "In a Cartesian plane, any position can be specified by the $x$ and the $y$ coordinates. The Cartesian coordinate system can be extended to more dimensions: the position of a point in a $n$-dimensional space is specified by $n$ coordinates. The real coordinate $n$-dimensional space, containing $n$-tuples of real numbers, is named $setR^n$. For instance, the space $setR^2$ is the two-dimensional space containing pairs of real numbers (the coordinates). In three dimensions ($setR^3$), a point in space is represented by three real numbers."
   ]
  },
  {
   "cell_type": "markdown",
   "metadata": {},
   "source": [
    "##### Coordinate Vectors"
   ]
  },
  {
   "cell_type": "markdown",
   "metadata": {},
   "source": [
    "Coordinate vectors are ordered list of numbers corresponding to the vector coordinates. Since vector initial points are at the origin, you need to encode only the coordinates of the terminal point."
   ]
  },
  {
   "cell_type": "markdown",
   "metadata": {},
   "source": [
    "For instance, let's take the vector $vv$. The corresponding coordinate vector is as follows: "
   ]
  },
  {
   "cell_type": "markdown",
   "metadata": {},
   "source": [
    "$$\n",
    "vv = \\begin{bmatrix}\n",
    "3 \\\\\\\\\n",
    "2\n",
    "\\end{bmatrix}\n",
    "$$"
   ]
  },
  {
   "cell_type": "markdown",
   "metadata": {},
   "source": [
    "Each value is associated with a direction: in this case, the first value corresponds to the $x-axis$ direction and the second number to the $y-axis$."
   ]
  },
  {
   "cell_type": "markdown",
   "metadata": {},
   "source": [
    "##### Indexing"
   ]
  },
  {
   "cell_type": "markdown",
   "metadata": {},
   "source": [
    "Indexing refers to the process of getting a vector component (one of the values from the vector) using its position (its index). "
   ]
  },
  {
   "cell_type": "markdown",
   "metadata": {},
   "source": [
    "Python uses zero-based indexing, meaning that the first index is zero. However mathematically, the convention is to use one-based indexing. You'll denote the component $i$ of the vector $vv$ with a subscript, as $vi$, withiout bold font because the component of the vector is a scalar."
   ]
  },
  {
   "cell_type": "markdown",
   "metadata": {},
   "source": [
    "##### Numpy"
   ]
  },
  {
   "cell_type": "markdown",
   "metadata": {},
   "source": [
    "In Numpy, vectors are called one-dimensional arrays. You can use the function np.array() to create one:"
   ]
  },
  {
   "cell_type": "raw",
   "metadata": {},
   "source": [
    "v = np.array([3, 2])\n",
    "v"
   ]
  },
  {
   "cell_type": "markdown",
   "metadata": {},
   "source": [
    "##### More Components"
   ]
  },
  {
   "cell_type": "markdown",
   "metadata": {},
   "source": [
    "Let's take the example of $vv$, a three-dimensional vector defined as follows:"
   ]
  },
  {
   "cell_type": "markdown",
   "metadata": {},
   "source": [
    "$$\n",
    "vv = \\begin{bmatrix}\n",
    "3 \\\\\\\\\n",
    "4 \\\\\\\\\n",
    "2\n",
    "\\end{bmatrix}\n",
    "$$"
   ]
  },
  {
   "cell_type": "markdown",
   "metadata": {},
   "source": [
    "More generally, in a n-dimensional space, the position of a terminal point is described by n-components."
   ]
  },
  {
   "cell_type": "markdown",
   "metadata": {},
   "source": [
    "##### Dimensions"
   ]
  },
  {
   "cell_type": "markdown",
   "metadata": {},
   "source": [
    "You can denote the dimensionality of a vector using the set notion $setR^n$. It expresses the real coordinate space: this is the n-dimensional space with real numbers as coordinate values."
   ]
  },
  {
   "cell_type": "markdown",
   "metadata": {},
   "source": [
    "For instance, vectors in $setR^3$ have three components, as the following vector $vv$ for example:"
   ]
  },
  {
   "cell_type": "markdown",
   "metadata": {},
   "source": [
    "$$\n",
    "vv = \\begin{bmatrix}\n",
    "2.0 \\\\\\\\\n",
    "1.1 \\\\\\\\\n",
    "-2.5\n",
    "\\end{bmatrix}\n",
    "$$"
   ]
  },
  {
   "cell_type": "markdown",
   "metadata": {},
   "source": [
    "##### Vectors in Data Science"
   ]
  },
  {
   "cell_type": "markdown",
   "metadata": {},
   "source": [
    "In the context of data science, you can use coordinate vectors to represent my data. "
   ]
  },
  {
   "cell_type": "markdown",
   "metadata": {},
   "source": [
    "You can represent data samples as vectors with each component corresponding to a feature. For instance, in a real estate dataset, you could have a vector corresponding to an apartment with its features as different components (like the number of rooms, the location, etc.)."
   ]
  },
  {
   "cell_type": "markdown",
   "metadata": {},
   "source": [
    "Another way to do it is to create one vector per feature, each containing all observations."
   ]
  },
  {
   "cell_type": "markdown",
   "metadata": {},
   "source": [
    "Storing data in vectors allows you to levearage linear algebra tools. Note that, even if you can't visualize vectors with a large number of components, you can still apply the same operations on them. This means that you can get insights about linear algebra using two or three dimensions, and then, use what you learn with a larger number of dimensions. "
   ]
  },
  {
   "cell_type": "markdown",
   "metadata": {},
   "source": [
    "#### 1.2. Vector Spaces"
   ]
  },
  {
   "cell_type": "markdown",
   "metadata": {},
   "source": [
    "A vector space is a collection of vectors. You can use uppercase letters to refer to vector spaces, as $V$ for instance. Mathematically, any vector in a vector space must satisfy the following statements (these rules are called axioms)."
   ]
  },
  {
   "cell_type": "markdown",
   "metadata": {},
   "source": [
    "##### Axioms"
   ]
  },
  {
   "cell_type": "markdown",
   "metadata": {},
   "source": [
    "For all $vu, vv, vw \\in V$ (the symbol $\\in$ is pronounced “in”, meaning that the vectors are in the space $V$ and thus that the following axioms must holds for each vector in the space $V$):\n",
    "\n",
    "$vu + vv = vv + vu$.<br>\n",
    "$(vu + vv) + vw = vu + (vv + vw)$.<br>\n",
    "There exists an element 0 so that $vu + 0 = vu$ for all $vu$.<br>\n",
    "For all $vu$, there exists an element $-vu$ so that: $vu + (-vu) = 0$.<br>\n",
    "$(c + d)vu = cvu + dvu$.<br>\n",
    "$c(vu + vv) = cvu + cvv$.<br>\n",
    "$c(dvu) = (cd)vu$.<br>\n",
    "There exists an element $1 \\cdot vu = vu$."
   ]
  },
  {
   "cell_type": "markdown",
   "metadata": {},
   "source": [
    "A set (that is, a collection of elements) that satisfies these axioms is called a vector space, and its elements are called vectors. You can imagine various vector spaces, the vectors only have to satisfy the axioms."
   ]
  },
  {
   "cell_type": "markdown",
   "metadata": {},
   "source": [
    "#### 1.3 Special Vectors"
   ]
  },
  {
   "cell_type": "markdown",
   "metadata": {},
   "source": [
    "There are some special vectors important to know in linear algebra and data science."
   ]
  },
  {
   "cell_type": "markdown",
   "metadata": {},
   "source": [
    "##### Row and Columns Vectors"
   ]
  },
  {
   "cell_type": "markdown",
   "metadata": {},
   "source": [
    "You can distinguish vectors according to their shape. Numbers are organized as a column in column vectors, as in the following vector $vu$"
   ]
  },
  {
   "cell_type": "markdown",
   "metadata": {},
   "source": [
    "$$\n",
    "vu = \\begin{bmatrix}\n",
    "2 \\\\\\\\\n",
    "1\n",
    "\\end{bmatrix}\n",
    "$$"
   ]
  },
  {
   "cell_type": "markdown",
   "metadata": {},
   "source": [
    "They are organized as a row in row vectors, as in the following vector $vv$"
   ]
  },
  {
   "cell_type": "markdown",
   "metadata": {},
   "source": [
    "$$\n",
    "vv = \\begin{bmatrix}\n",
    "2 & 1\n",
    "\\end{bmatrix}\n",
    "$$"
   ]
  },
  {
   "cell_type": "markdown",
   "metadata": {},
   "source": [
    "And what about this difference in Numpy's vectors? Let's create a vector with Numpy:"
   ]
  },
  {
   "cell_type": "code",
   "execution_count": 23,
   "metadata": {},
   "outputs": [
    {
     "data": {
      "text/plain": [
       "array([1, 2, 3])"
      ]
     },
     "execution_count": 23,
     "metadata": {},
     "output_type": "execute_result"
    }
   ],
   "source": [
    "v_row = np.array([1,2,3])\n",
    "v_row"
   ]
  },
  {
   "cell_type": "markdown",
   "metadata": {},
   "source": [
    "You can use the property $shape$ to check the shape of the array:"
   ]
  },
  {
   "cell_type": "code",
   "execution_count": 24,
   "metadata": {},
   "outputs": [
    {
     "data": {
      "text/plain": [
       "(3,)"
      ]
     },
     "execution_count": 24,
     "metadata": {},
     "output_type": "execute_result"
    }
   ],
   "source": [
    "v_row.shape"
   ]
  },
  {
   "cell_type": "markdown",
   "metadata": {},
   "source": [
    "You can see that there is only one dimension (the shape has one number). This is because Numpy doesn't distinguish between row and column vectors. To make this distinction, you need to create a matrix with one column or one row. "
   ]
  },
  {
   "cell_type": "markdown",
   "metadata": {},
   "source": [
    "##### Unit Vectors"
   ]
  },
  {
   "cell_type": "markdown",
   "metadata": {},
   "source": [
    "Unit vectors are vectors with a length of one. "
   ]
  },
  {
   "cell_type": "markdown",
   "metadata": {},
   "source": [
    "##### Zero Vectors"
   ]
  },
  {
   "cell_type": "markdown",
   "metadata": {},
   "source": [
    "A zero vector is a vector such that adding it to another vector doesn't change this vector."
   ]
  },
  {
   "cell_type": "markdown",
   "metadata": {},
   "source": [
    "##### Orthogonal Vectors"
   ]
  },
  {
   "cell_type": "markdown",
   "metadata": {},
   "source": [
    "Two vectors are called orthogonal when they run in perpendicular directions. "
   ]
  },
  {
   "cell_type": "markdown",
   "metadata": {},
   "source": [
    "If the length of both orthogonal vectors is one (that is, if they are unit vectors), then they are called orthonormal."
   ]
  },
  {
   "cell_type": "markdown",
   "metadata": {},
   "source": [
    "### 1.2 Operations and Manipulations on Vectors"
   ]
  },
  {
   "cell_type": "markdown",
   "metadata": {},
   "source": [
    "Addition and scalar multiplication are the two major operations in linear algebra."
   ]
  },
  {
   "cell_type": "markdown",
   "metadata": {},
   "source": [
    "#### 1.2.1 Scalar Multiplication"
   ]
  },
  {
   "cell_type": "markdown",
   "metadata": {},
   "source": [
    "Scalar multiplication is the operation of multiplying a vector with a scalar. When multiplied by a scalar, a vector gives another vector, which is a scaled version of the initial vector. It rescales the vector."
   ]
  },
  {
   "cell_type": "markdown",
   "metadata": {},
   "source": [
    "##### Example"
   ]
  },
  {
   "cell_type": "markdown",
   "metadata": {},
   "source": [
    "Let's have the following vector $vv$"
   ]
  },
  {
   "cell_type": "markdown",
   "metadata": {},
   "source": [
    "$$\n",
    "vv=\n",
    "\\begin{bmatrix}\n",
    "2 \\\\\\\\\n",
    "1\n",
    "\\end{bmatrix}\n",
    "$$"
   ]
  },
  {
   "cell_type": "markdown",
   "metadata": {},
   "source": [
    "$$\n",
    "1.3vv =\n",
    "1.3\\begin{bmatrix}\n",
    "2 \\\\\\\\\n",
    "1\n",
    "\\end{bmatrix} =\n",
    "\\begin{bmatrix}\n",
    "1.3 \\cdot 2 \\\\\\\\\n",
    "1.3 \\cdot 1\n",
    "\\end{bmatrix}\n",
    "=\n",
    "\\begin{bmatrix}\n",
    "2.6 \\\\\\\\\n",
    "1.3\n",
    "\\end{bmatrix}\n",
    "$$"
   ]
  },
  {
   "cell_type": "markdown",
   "metadata": {},
   "source": [
    "I can do it using Numpy:"
   ]
  },
  {
   "cell_type": "code",
   "execution_count": 27,
   "metadata": {},
   "outputs": [
    {
     "data": {
      "text/plain": [
       "array([2, 1])"
      ]
     },
     "execution_count": 27,
     "metadata": {},
     "output_type": "execute_result"
    }
   ],
   "source": [
    "v = np.array([2,1])\n",
    "v"
   ]
  },
  {
   "cell_type": "code",
   "execution_count": 28,
   "metadata": {},
   "outputs": [
    {
     "data": {
      "text/plain": [
       "array([2.6, 1.3])"
      ]
     },
     "execution_count": 28,
     "metadata": {},
     "output_type": "execute_result"
    }
   ],
   "source": [
    "1.3*v"
   ]
  },
  {
   "cell_type": "markdown",
   "metadata": {},
   "source": [
    "Numpy implements what is called vectorized operations, meaning that under the hood, it uses compile C code, making the computations way faster than for loops."
   ]
  },
  {
   "cell_type": "markdown",
   "metadata": {},
   "source": [
    "#### 1.2.2 Vector Addition"
   ]
  },
  {
   "cell_type": "markdown",
   "metadata": {},
   "source": [
    "When you add two vectors, you have a third vector."
   ]
  },
  {
   "cell_type": "markdown",
   "metadata": {},
   "source": [
    "If you take $vv$ and put it at the end of $vu$ as represented with the dotted green line, You have the sum of the two vectors (the other way works as well: $vu$ + $vv$ = $vv$ + $vu$)."
   ]
  },
  {
   "cell_type": "markdown",
   "metadata": {},
   "source": [
    "Let's consider the coordinates of these geometric vectors. The vectors $vu$ and $vv$ are defined as follows: "
   ]
  },
  {
   "cell_type": "markdown",
   "metadata": {},
   "source": [
    "$$\n",
    "vu = \\begin{bmatrix}\n",
    "2 \\\\\\\\\n",
    "1\n",
    "\\end{bmatrix}\n",
    "$$"
   ]
  },
  {
   "cell_type": "markdown",
   "metadata": {},
   "source": [
    "and"
   ]
  },
  {
   "cell_type": "markdown",
   "metadata": {},
   "source": [
    "$$\n",
    "vv = \\begin{bmatrix}\n",
    "2 \\\\\\\\\n",
    "0\n",
    "\\end{bmatrix}\n",
    "$$\n"
   ]
  },
  {
   "cell_type": "markdown",
   "metadata": {},
   "source": [
    "You can sum these vectors by adding their respective coordinates:"
   ]
  },
  {
   "cell_type": "markdown",
   "metadata": {},
   "source": [
    "$$\n",
    "vu + vv = \\begin{bmatrix}\n",
    "2 \\\\\\\\\n",
    "1\n",
    "\\end{bmatrix} +\n",
    "\\begin{bmatrix}\n",
    "2 \\\\\\\\\n",
    "0\n",
    "\\end{bmatrix} = \n",
    "\\begin{bmatrix}\n",
    "2 + 2 \\\\\\\\\n",
    "1 + 0\n",
    "\\end{bmatrix}\n",
    "= \\begin{bmatrix}\n",
    "4 \\\\\\\\\n",
    "1\n",
    "\\end{bmatrix}\n",
    "$$"
   ]
  },
  {
   "cell_type": "markdown",
   "metadata": {},
   "source": [
    "Let's do this vector addition with Numpy:"
   ]
  },
  {
   "cell_type": "code",
   "execution_count": 32,
   "metadata": {},
   "outputs": [
    {
     "data": {
      "text/plain": [
       "array([4, 1])"
      ]
     },
     "execution_count": 32,
     "metadata": {},
     "output_type": "execute_result"
    }
   ],
   "source": [
    "v1 = np.array([2,1])\n",
    "v2 = np.array([2,0])\n",
    "v1 + v2"
   ]
  },
  {
   "cell_type": "markdown",
   "metadata": {},
   "source": [
    "#### 1.2.3 Transposition"
   ]
  },
  {
   "cell_type": "markdown",
   "metadata": {},
   "source": [
    "The transposition of a vector transforms a row vector into a column vector and vice versa. It is denoted as the superscript letter T. For instance, $vv^{\\text{T}}$ corresponds to the transpose of the vector $vv$"
   ]
  },
  {
   "cell_type": "markdown",
   "metadata": {},
   "source": [
    "$$\n",
    "\\begin{bmatrix}\n",
    "x \\\\\\\\\n",
    "y\n",
    "\\end{bmatrix}^\\text{T}\n",
    "=\n",
    "\\begin{bmatrix}\n",
    "x & y\n",
    "\\end{bmatrix}\n",
    "$$"
   ]
  },
  {
   "cell_type": "markdown",
   "metadata": {},
   "source": [
    "and"
   ]
  },
  {
   "cell_type": "markdown",
   "metadata": {},
   "source": [
    "$$\n",
    "\\begin{bmatrix}\n",
    "x & y\n",
    "\\end{bmatrix}^\\text{T}\n",
    "=\n",
    "\\begin{bmatrix}\n",
    "x \\\\\\\\\n",
    "y\n",
    "\\end{bmatrix}\n",
    "$$"
   ]
  },
  {
   "cell_type": "markdown",
   "metadata": {},
   "source": [
    "With Numpy, the transpose of a vector is given by the simple letter T. However, since Numpy doesn't discriminate between row and column vectors, transposition will have no effect on one-dimensional arrays."
   ]
  },
  {
   "cell_type": "markdown",
   "metadata": {},
   "source": [
    "### 1.3 Norms"
   ]
  },
  {
   "cell_type": "markdown",
   "metadata": {},
   "source": [
    "A $norm$ is a function that takes a vector and returns a single number and which satisfies the rules we will see. You can think of the norm of a vector as its length. It is denoted with double vertical bars: "
   ]
  },
  {
   "cell_type": "markdown",
   "metadata": {},
   "source": [
    "$$\n",
    "norm {vu}\n",
    "$$"
   ]
  },
  {
   "cell_type": "markdown",
   "metadata": {},
   "source": [
    "Don't confuse the norm notation with the absolute values notation which uses single vertical bars  ($\\left| a \\right|$).(the similarity between these symbols comes from the fact that the absolute value can be considered as an special case of norm)."
   ]
  },
  {
   "cell_type": "markdown",
   "metadata": {},
   "source": [
    "It is common to use norms to evaluate the distance between two vectors $vu$ and $vv$. I calculate the differences between them ($vw$ = $vu$ - $vv$) and calculate the norm of the new vector $vw$. For this reason, norms are crucial in machine learning and deep learning. More specifically it is used in:"
   ]
  },
  {
   "cell_type": "markdown",
   "metadata": {},
   "source": [
    "- Cost function: You can use the norm of a vector containing error values (for instance differences between true values and estimated values)."
   ]
  },
  {
   "cell_type": "markdown",
   "metadata": {},
   "source": [
    "- Regularization: You can use the norm of the vector containing the model parameters as a way to estimate how large they are. Adding this term to the cost function helps avoiding large parameter values, which is known to reduce overfitting. "
   ]
  },
  {
   "cell_type": "markdown",
   "metadata": {},
   "source": [
    "#### 1.3.1 Definitions"
   ]
  },
  {
   "cell_type": "markdown",
   "metadata": {},
   "source": [
    "They are various ways to calculate the length of a vector, and thus, multiple kinds of norms. You can call a mathematical entity a norm only if it satisfies the following rules:"
   ]
  },
  {
   "cell_type": "markdown",
   "metadata": {},
   "source": [
    "1. Non-negativity: norms must be non-negative. If you interpret the norm of a vector as its length, you can see that there is no such things as negative length."
   ]
  },
  {
   "cell_type": "markdown",
   "metadata": {},
   "source": [
    "2. Zero-vector norm: the norm of vector is zero if and only if the vector is a zero-vector (vectors that don't modify other vectors when added to them). "
   ]
  },
  {
   "cell_type": "markdown",
   "metadata": {},
   "source": [
    "3. Scalar multiplication: the norm of a vector multiplied by a scalar corresponds to the absolute value of this scalar multiplied by the norm of the vector. For instance, with the scalar $k$ and the vector $vu$, you have $norm{k \\cdot vu} = \\left| k \\right| \\cdot norm{vu}$."
   ]
  },
  {
   "cell_type": "markdown",
   "metadata": {},
   "source": [
    "4. Triangle inequality: the norm of the sum of two vectors is less than or equal to the sum of their norms. You can write this mathematically as follows:\n",
    "$$\n",
    "norm{vu + vv} \\leq norm{vu} + norm{vv}\n",
    "$$"
   ]
  },
  {
   "cell_type": "markdown",
   "metadata": {},
   "source": [
    "#### 1.3.2 Common Vector Norms"
   ]
  },
  {
   "cell_type": "markdown",
   "metadata": {},
   "source": [
    "In machine learning and deep learning, it is important to be able to compare vectors. Norms provide a way to do that and is used as the metric quantifying the difference between them. The kind of norm that you use chaneg how these differences are weighted in the metric ( for instance, if you consider the large differences as much as the smaller ones)."
   ]
  },
  {
   "cell_type": "markdown",
   "metadata": {},
   "source": [
    "As you'll see, many norms fall into the category of $p-norms$, which are calculated as the sum of the absolute value of each component raised to the power of $p$. The result of this sum is then raised to the power of $\\frac{1}{p}$. \n",
    "$$\n",
    "norm{vx}_p= \\left(\\sum_{i=1}^m \\left| evx_i \\right|^p \\right)^{\\frac{1}{p}}\n",
    "$$\n",
    "with $vx$ a vector, $m$ its number of components, $i$ the index of the current vector component.\n",
    "\n",
    "Different values of $p$ give different norms. Let’s see the more common."
   ]
  },
  {
   "cell_type": "markdown",
   "metadata": {},
   "source": [
    "##### $L^2$ Norm"
   ]
  },
  {
   "cell_type": "markdown",
   "metadata": {},
   "source": [
    "The $L^2$ norm is extensively used in machine learning and deep learning. It is also called weight decay in the context of regularization of deep neural networks.\n",
    "\n",
    "The vector length measured with the $L^2$ norm corresponds to an Euclidean distance, that is, the physical distance in the real world, which is a consequence of the Pythagorean theorem. The formula is as follows:\n",
    "\n",
    "$$\n",
    "\\begin{aligned}\n",
    "norm{vx}_2 & = \\left(\\sum_{i=1}^m \\left| evx_i \\right|^2 \\right)^{\\frac{1}{2}}\n",
    "= \\sqrt{\\sum_{i=1}^m \\left| evx_i \\right|^2}\n",
    "= \\sqrt{\\sum_{i=1}^mevx_i^2}\n",
    "\\end{aligned}\n",
    "$$\n",
    "with $vx$ the vector, $m$ its number of components, and $i$ the index of current component. Note that you don’t need to take the absolute value of coordinates since they are raised to the power of two."
   ]
  },
  {
   "cell_type": "markdown",
   "metadata": {},
   "source": [
    "with $vx$ the vector, $m$ its number of components, and $i$ the index of current component. Note that you don't need to take the absolute vaue of coordinates since they are raised to the power of two."
   ]
  },
  {
   "cell_type": "markdown",
   "metadata": {},
   "source": [
    "You can use the function np.linalg.norm from Numpy with the parameter $ord$ set to 2 to calculate the $L^2$ norm:"
   ]
  },
  {
   "cell_type": "code",
   "execution_count": 50,
   "metadata": {},
   "outputs": [
    {
     "data": {
      "text/plain": [
       "2.23606797749979"
      ]
     },
     "execution_count": 50,
     "metadata": {},
     "output_type": "execute_result"
    }
   ],
   "source": [
    "u = np.array([2, 1])\n",
    "np.linalg.norm(u, ord=2)"
   ]
  },
  {
   "cell_type": "markdown",
   "metadata": {},
   "source": [
    "##### Squared L2 Norm"
   ]
  },
  {
   "cell_type": "markdown",
   "metadata": {},
   "source": [
    "For computation reasons, the squared $L^2$ norm can be preferred over the $L^2$ norm. For instance, in the context of minimizing a cost function, squaring the function doesn’t change its minimum. Squaring the $L^2$ norm allows you to get rid of the square root in the formula.\n",
    "\n",
    "$$\n",
    "\\begin{aligned}\n",
    "norm{vx}_2^2 & = \\left(\\sqrt{\\sum_{i=1}^mevx_i^2} \\right)^2\n",
    "= \\sum_{i=1}^mevx_i^2\n",
    "\\end{aligned}\n",
    "$$\n",
    "The resulting norm function is the sum of the squared vector components.\n",
    "\n",
    "In addition,the squared $L^2$ norm can be calculated using the dot product, which is computationally advantageous.\n",
    "\n",
    "The Mean Squared Error (MSE) resembles the squared $L^2$ norm. The difference is that you take the average of the squared errors with the MSE and the sum of the squared errors with the squared $L^2$ norm.\n",
    "\n",
    "With neural networks, you calculate the cost and its derivative, so it is advantageous to use cost functions that are easily calculated and simple to differentiate from a computing perspective. The squared $L^2$ norm can be easily vectorized, which is highly desirable since it permits faster computations and parallelizations. At the hardware level, vectorized code can be optimized and computations can be ran in parallel. "
   ]
  },
  {
   "cell_type": "markdown",
   "metadata": {},
   "source": [
    "##### L1 Norm"
   ]
  },
  {
   "cell_type": "markdown",
   "metadata": {},
   "source": [
    "The $L^1$ norm is a function returning the sum of the absolute value of the components:\n",
    "\n",
    "$$\n",
    "\\begin{aligned}\n",
    "norm{vx}_1 & = \\left(\\sum_{i=1}^m \\left| evx_i \\right| ^1 \\right)^{\\frac{1}{1}}\n",
    "= \\sum_{i=1}^m \\left| evx_i \\right|\n",
    "\\end{aligned}\n",
    "$$\n",
    "with $vx$ the vector, $m$ its number of components, and $i$ the index of the current component.\n",
    "\n",
    "The $L^1$ norm is also called the Manhattan distance or the taxicab distance because of the displacement of a taxi in a street grid, like in Manhattan.\n",
    "\n",
    "The $L^2$ norm represents the physical world. This is different with the $L^1$ norm: the three paths have the same length. For instance, the $L^1$ length of the diagonal vector is 6 (because it is the sum of its $x$ and $y$ component: $3+3=6$), which is identical to the other paths."
   ]
  },
  {
   "cell_type": "code",
   "execution_count": 51,
   "metadata": {},
   "outputs": [
    {
     "data": {
      "text/plain": [
       "3.0"
      ]
     },
     "execution_count": 51,
     "metadata": {},
     "output_type": "execute_result"
    }
   ],
   "source": [
    "np.linalg.norm(u, ord=1)"
   ]
  },
  {
   "cell_type": "markdown",
   "metadata": {},
   "source": [
    "##### Max Norm"
   ]
  },
  {
   "cell_type": "markdown",
   "metadata": {},
   "source": [
    "The $L^\\infty$, or max norm (also called the Chebyshev norm) is a function returning the largest component of the vector.\n",
    "\n",
    "Max norms are typically used as a constraint on the weights of neural networks (for instance in association with dropout: Srivastava, Nitish, et al. “Dropout: a simple way to prevent neural networks from overfitting.” The journal of machine learning research 15.1 (2014): 1929-1958.) . Weight constraints differs from weight penalties: with weight penalties, a regularization term is added to the cost function, while with weight constraints, the weights are forced to be lower than a threshold. (weight constraints allows you to use large learning rates. See for instance, Hinton, Geoffrey E., et al. “Improving neural networks by preventing co-adaptation of feature detectors.” arXiv preprint arXiv:1207.0580 (2012).)\n",
    "\n",
    "This norm is mathematically denoted as:\n",
    "\n",
    "$$\n",
    "norm{vx}_\\infty = \\max\\limits_i \\left| evx_i \\right|\n",
    "$$"
   ]
  },
  {
   "cell_type": "markdown",
   "metadata": {},
   "source": [
    "It can be calculated with Numpy:"
   ]
  },
  {
   "cell_type": "code",
   "execution_count": 54,
   "metadata": {},
   "outputs": [
    {
     "data": {
      "text/plain": [
       "230.0"
      ]
     },
     "execution_count": 54,
     "metadata": {},
     "output_type": "execute_result"
    }
   ],
   "source": [
    "u = np.array([1, 0, 0, -1.532, 230, 0.23, 1.7])\n",
    "np.linalg.norm(u, ord=np.inf)"
   ]
  },
  {
   "cell_type": "markdown",
   "metadata": {},
   "source": [
    "#### 1.3.3 Norm Representations"
   ]
  },
  {
   "cell_type": "markdown",
   "metadata": {},
   "source": [
    "You can visualize the differences between norms by looking at the unit circle. The unit circle is a representation of all the unit vectors (the vectors with a norm equals to 1). So, the unit circle is a shape where every point has a distance of one from the center. According to the kind of distance you see ($L^1$, $L^2$, or max norm), this shape is different."
   ]
  },
  {
   "cell_type": "markdown",
   "metadata": {},
   "source": [
    "Different norms gives you different unit shapes: a diamond shape for the $L^1$ norm, a circle for the $L^2$ norm and a square for the max norm. When used as regularization, these shapes have an effect on how the weights are penalized. "
   ]
  },
  {
   "cell_type": "markdown",
   "metadata": {},
   "source": [
    "#### 1.4 The Dot Product"
   ]
  },
  {
   "cell_type": "markdown",
   "metadata": {},
   "source": [
    "The dot product (referring to the dot symbol used to characterize this operation), also called scalar product, is an operation done on vectors. It takes two vectors, but unlike addition and scalar multiplication, it returns a single number (a scalar, hence the name). It is an example of a more general operation called the inner product."
   ]
  },
  {
   "cell_type": "markdown",
   "metadata": {},
   "source": [
    "#### 1.4.1 Definition"
   ]
  },
  {
   "cell_type": "markdown",
   "metadata": {},
   "source": [
    "The dot product between two vectors $vu$ and $vv$, denoted by the symbol $.$, is defined as the sum of the product of each pair of components. More formally, it is expressed as: \n",
    "$$\n",
    "vu \\cdot vv = \\sum_{i=1}^m evu_ievv_i\n",
    "$$\n",
    "with $m$ the number of components of the vectors $vu$ and $vv$ (they must have the same number of components), and $i$ the index of the current vector component. \n",
    "\n",
    "Note that the symbol of the dot product is the same as the dot used to refer to multiplication between scalars. The context (if the elements are scalars or vectors) tells you which one it is. "
   ]
  },
  {
   "cell_type": "markdown",
   "metadata": {},
   "source": [
    "Let's take an example. You have the following vectors:"
   ]
  },
  {
   "cell_type": "markdown",
   "metadata": {},
   "source": [
    "$$\n",
    "vu =\n",
    "\\begin{bmatrix}\n",
    "2 \\\\\\\\\n",
    "4 \\\\\\\\\n",
    "7\n",
    "\\end{bmatrix}\n",
    "$$"
   ]
  },
  {
   "cell_type": "markdown",
   "metadata": {},
   "source": [
    "and"
   ]
  },
  {
   "cell_type": "markdown",
   "metadata": {},
   "source": [
    "$$\n",
    "vv =\n",
    "\\begin{bmatrix}\n",
    "5 \\\\\\\\\n",
    "1 \\\\\\\\\n",
    "3\n",
    "\\end{bmatrix}\n",
    "$$\n"
   ]
  },
  {
   "cell_type": "markdown",
   "metadata": {},
   "source": [
    "The dot product of these two vectors is defined as: \n",
    "$$\n",
    "vu \\cdot vv =\n",
    "\\begin{bmatrix}\n",
    "2 \\\\\\\\\n",
    "4 \\\\\\\\\n",
    "7\n",
    "\\end{bmatrix}\n",
    "\\cdot\n",
    "\\begin{bmatrix}\n",
    "5 \\\\\\\\\n",
    "1 \\\\\\\\\n",
    "3\n",
    "\\end{bmatrix} =\n",
    "2 \\times 5 + 4 \\times 1 + 7 \\times 3 = 35\n",
    "$$\n",
    "\n",
    "The dot product between $vu$ and $vv$ is 35. It converts the two vectors $vu$ and $vv$ into a scalar. "
   ]
  },
  {
   "cell_type": "markdown",
   "metadata": {},
   "source": [
    "Let's use Numpy to calculate the dot product of these vectors. You can use the method dot() of Numpy arrays:"
   ]
  },
  {
   "cell_type": "code",
   "execution_count": 58,
   "metadata": {},
   "outputs": [
    {
     "data": {
      "text/plain": [
       "35"
      ]
     },
     "execution_count": 58,
     "metadata": {},
     "output_type": "execute_result"
    }
   ],
   "source": [
    "u = np.array([2, 4, 7])\n",
    "v = np.array([5, 1, 3])\n",
    "u.dot(v)"
   ]
  },
  {
   "cell_type": "markdown",
   "metadata": {},
   "source": [
    "It is also possible to use the following equivalent syntax:"
   ]
  },
  {
   "cell_type": "code",
   "execution_count": 59,
   "metadata": {},
   "outputs": [
    {
     "data": {
      "text/plain": [
       "35"
      ]
     },
     "execution_count": 59,
     "metadata": {},
     "output_type": "execute_result"
    }
   ],
   "source": [
    "np.dot(u, v)"
   ]
  },
  {
   "cell_type": "markdown",
   "metadata": {},
   "source": [
    "\n",
    "Note that the dot product is different from the element-wise multiplication, also called the Hadamard product, which returns another vector. The symbol $\\odot$ is generally used to characterize this operation. For instance:\n",
    "\n",
    "$$\n",
    "vu \\odot vv =\n",
    "\\begin{bmatrix}\n",
    "2 \\\\\\\\\n",
    "4 \\\\\\\\\n",
    "7\n",
    "\\end{bmatrix}\n",
    "\\odot\n",
    "\\begin{bmatrix}\n",
    "5 \\\\\\\\\n",
    "1 \\\\\\\\\n",
    "3\n",
    "\\end{bmatrix} =\n",
    "\\begin{bmatrix}\n",
    "2 \\cdot 5 \\\\\\\\\n",
    "4 \\cdot 1 \\\\\\\\\n",
    "7 \\cdot 3\n",
    "\\end{bmatrix} =\n",
    "\\begin{bmatrix}\n",
    "10 \\\\\\\\\n",
    "4 \\\\\\\\\n",
    "21\n",
    "\\end{bmatrix}\n",
    "$$\n"
   ]
  },
  {
   "cell_type": "markdown",
   "metadata": {},
   "source": [
    "#### Dot Product and Vector Length"
   ]
  },
  {
   "cell_type": "markdown",
   "metadata": {},
   "source": [
    "The squared $L^2$ norm can be calculated using the dot product of the vector with itself ($vu \\cdot vu$):\n",
    "\n",
    "$$\n",
    "norm{vu}_2^2 = vu \\cdot vu\n",
    "$$"
   ]
  },
  {
   "cell_type": "markdown",
   "metadata": {},
   "source": [
    "#### 1.4.2 Geometric interpretation: Projections"
   ]
  },
  {
   "cell_type": "markdown",
   "metadata": {},
   "source": [
    "Let's take the two following vectors: \n",
    "$$\n",
    "vu =\n",
    "\\begin{bmatrix}\n",
    "1 \\\\\\\\\n",
    "2\n",
    "\\end{bmatrix}\n",
    "$$\n",
    "and\n",
    "\n",
    "$$\n",
    "vv =\n",
    "\\begin{bmatrix}\n",
    "2 \\\\\\\\\n",
    "2\n",
    "\\end{bmatrix}\n",
    "$$"
   ]
  },
  {
   "cell_type": "markdown",
   "metadata": {},
   "source": [
    "First, let's calculate the dot product of $vu$ and $vv$: \n",
    "$$\n",
    "vu \\cdot vv = \\begin{bmatrix}\n",
    "1 \\\\\\\\\n",
    "2\n",
    "\\end{bmatrix}\n",
    "\\cdot\n",
    "\\begin{bmatrix}\n",
    "2 \\\\\\\\\n",
    "2\n",
    "\\end{bmatrix}\n",
    "= 2 \\cdot 1 + 2 \\cdot 2 = 6\n",
    "$$"
   ]
  },
  {
   "cell_type": "markdown",
   "metadata": {},
   "source": [
    "What is the meaning of this scalar? Well, it is related to the idea of projecting $vu$ onto $vv$."
   ]
  },
  {
   "cell_type": "markdown",
   "metadata": {},
   "source": [
    "The projection of $vu$ on the line with the direction of $vv$ is like the shadow of the vector $vu$ on this line. The value of the dot product corresponds to the multiplication of the length of $vv$ (the $L^2$ norm $norm{vv}$) and the length of the projection of $vu$ on $vv$ (the $L^2$ norm $norm{vu_{\\text{proj}}}$). You want to calculate:\n",
    "\n",
    "$$\n",
    "norm{vu_{\\text{proj}}}_2 \\cdot norm{vv}_2 \\phantom{s}\n",
    "$$\n"
   ]
  },
  {
   "cell_type": "markdown",
   "metadata": {},
   "source": [
    "Note that the elements are scalars, so the dot symbol refers to a multiplication of these values. And you have: \n",
    "$$\n",
    "norm{vv}_2 = \\sqrt{2^2 + 2^2} = \\sqrt{8}\n",
    "$$"
   ]
  },
  {
   "cell_type": "markdown",
   "metadata": {},
   "source": [
    "The projection of $vu$ onto $vv$ is defined as follows:"
   ]
  },
  {
   "cell_type": "markdown",
   "metadata": {},
   "source": [
    "$$\n",
    "vu_{\\text{proj}} = \\frac{vu^{\\text{T}}vv}{vv^{\\text{T}}vv}vv = \\frac{6}{8}vv = 0.75vv\n",
    "$$"
   ]
  },
  {
   "cell_type": "markdown",
   "metadata": {},
   "source": [
    "So the  $L^2$ norm of $vu_{\\text{proj}}$ is the $L^2$ norm of 0.75 times $vv$:\n",
    "\n",
    "$$\n",
    "norm{vu_{\\text{proj}}}_2 = 0.75 norm{vv}_2 = 0.75 \\cdot \\sqrt{8}\n",
    "$$"
   ]
  },
  {
   "cell_type": "markdown",
   "metadata": {},
   "source": [
    "Finally, the multiplication of the length of $vv$ and the length of the projection is:\n",
    "\n",
    "$$\n",
    "norm{vv}_2 \\cdot norm{vu_{\\text{proj}}}_2 = 0.75 \\cdot \\sqrt{8} \\cdot \\sqrt{8} = 0.75 \\cdot 8 = 6\n",
    "$$\n",
    "This shows that you can think of the dot product on geometric vectors as a projection. Using the projection gives you the same result as with the dot product formula.\n",
    "\n",
    "Furthermore, the value that you obtain with the dot product tells you the relationship between the two vectors. If this value is positive, the angle between the vectors is less than 90 degrees, if it is negative, the angle is greater than 90 degrees, if it is zero, the vectors are orthogonal and the angle is 90 degrees."
   ]
  },
  {
   "cell_type": "markdown",
   "metadata": {},
   "source": [
    "#### 1.4.3 Properties"
   ]
  },
  {
   "cell_type": "markdown",
   "metadata": {},
   "source": [
    "Let's review some properties of the dot product."
   ]
  },
  {
   "cell_type": "markdown",
   "metadata": {},
   "source": [
    "##### Distributive"
   ]
  },
  {
   "cell_type": "markdown",
   "metadata": {},
   "source": [
    "The dot product is distributive. This means that, for instance, with the three vectors $vu$, $vv$, $vw$, you have: \n",
    "$$\n",
    "vu \\cdot (vv + vw) = vu \\cdot vv + vu \\cdot vw\n",
    "$$"
   ]
  },
  {
   "cell_type": "markdown",
   "metadata": {},
   "source": [
    "##### Associative"
   ]
  },
  {
   "cell_type": "markdown",
   "metadata": {},
   "source": [
    "The dot product is not associative, meaning that the order of the operations matters. For instance: \n",
    "$$\n",
    "vu \\cdot (vv \\cdot vw) \\neq (vu \\cdot vv) \\cdot vw\n",
    "$$\n",
    "The dot product is not a binary operator: the result of the dot product between two vectors is not another vector (but a scalar)."
   ]
  },
  {
   "cell_type": "markdown",
   "metadata": {},
   "source": [
    "##### Commutative\n",
    "The dot product between vectors is said to be commutative. This means that the order of the vectors around the dot product doesn’t matter. You have:\n",
    "\n",
    "$$\n",
    "vu \\cdot vv = vv \\cdot vu\n",
    "$$\n",
    "However, be careful, because this is not necessarily true for matrices."
   ]
  },
  {
   "cell_type": "markdown",
   "metadata": {},
   "source": [
    "### 1.5 Hands-on Project: Regularization"
   ]
  },
  {
   "cell_type": "markdown",
   "metadata": {},
   "source": [
    "#### 1.5.1 Introduction"
   ]
  },
  {
   "cell_type": "markdown",
   "metadata": {},
   "source": [
    "In machine learning and deep learning, it happens that your model performs well on your training data but fails to generalize to new data. It can be that the training data are very well described by the model and that even the noise or the specificities of the dataset are considered.\n",
    "\n",
    "This is called overfitting. Models that overfit have large parameter values. You want to avoid that because large parameter values means high sensitivity of the model, which leads to overfitting and unstable networks. \n",
    "\n",
    "One way to reduce overfitting is to increase the size of the training dataset to compensate this sentivity. Another way is to constraint the parameters to be small to avoid too sensitive models. It gives machine learning algorithm a preference for a solution that may be suboptimal on the training set but that generalizes better. \n",
    "\n",
    "The various strategies used to constraint model's parameters in order to improve the generalization of the performances (even if this means decrease the performance in the training set) are called regularization. \n",
    "\n",
    "How does it work? The model learns the best parameter values according to the loss function. With regularization, you punish large parameter values by adding an extra term to loss function. You construct this term to consider the values of the parameters. Large parameters values will increases the loss, and thus the model will try to fit the data while keeping the parameters small. \n",
    "\n",
    "This extra term is constructed as the norm of the vector containing all the parameter values. You'll compare here two regularization methods using the $L^1$ norm and the $L^2$ norm.\n",
    "\n",
    "Note that there is no one best regularization strategy but it depends on the problem your trying to solve. This is called no free lunch theorem. "
   ]
  },
  {
   "cell_type": "markdown",
   "metadata": {},
   "source": [
    "##### Loss Functions and Regularization"
   ]
  },
  {
   "cell_type": "markdown",
   "metadata": {},
   "source": [
    "Let's first clarify the difference between the norms used in loss functions and in regularization. It can be confusing at first to see norms like $L^1$ or $L^2$ used in these two contexts. \n",
    "\n",
    "For cost functions, you calculate the norm of an 'error vector'. What we loosely call an error vector here is a vector containing the errors of a model (the differences between the values estimated by the model and the true values). The length of this vector tells you the overall quality of the fit. \n",
    "\n",
    "With regularization, you calculate the norm of the 'parameter vector' (the vector that contains all parameter values). The norm of this vector tells you how large the overall parameter values are. \n",
    "\n",
    "Each norm for lost function is associated with pros and cons. For instance, a model using the $L^1$ norm as a loss function has the advantage to be more robust to outliers in comparison to $L^2$, where the extreme values are weighted more than the low values (because of the squaring). "
   ]
  },
  {
   "cell_type": "markdown",
   "metadata": {},
   "source": [
    "##### Regularization rate"
   ]
  },
  {
   "cell_type": "markdown",
   "metadata": {},
   "source": [
    "You can modulate the importance of the regularization by an hyperparameter ( a parameter not optimized during the training ) which is multiplied by the regularization term. It is usually referred to as $alpha$ (a Greek letter pronounced “alpha”) and sometimes called regularization parameter or regularization rate.\n",
    "\n",
    "A large value of $alpha$ implies that the solution found by the algorithm will be largely influenced by the regularization term, while a value of $alpha$ equals to zero means that there is no regularization at all.\n",
    "\n",
    "This hands-on project assume that you have some understanding of cost functions, more specifically to the MSE cost function for linear regression. "
   ]
  },
  {
   "cell_type": "markdown",
   "metadata": {},
   "source": [
    "##### Regularization Using the  $L^1$ Norm"
   ]
  },
  {
   "cell_type": "markdown",
   "metadata": {},
   "source": [
    "In the case of regularization, the $L^1$ norm tends to produce sparse weights (with a small number of non-zero values), meaning that some parameters will be weighted to zero. This can be considered as feature selection, as you can discard the corresponding parameters. Let’s see how to create the regularized cost function using the MSE cost function. \n",
    "\n",
    "The $L^1$ norm of a vector $vx$ is defined as the sum of the absolute values of the vector components:\n",
    "\n",
    "$$\n",
    "norm{vx}_1 = \\sum_{i=1}^m \\left| evx_i \\right|\n",
    "$$\n",
    "with $vx$ the vector, $m$ the number of entries in this vector, and $i$ the current index.\n",
    "\n",
    "In the case of linear regression, you optimize two parameters (here called $theta_0$ and $theta_1$). You saw in Section 1.3.1 that the cost function is defined as:\n",
    "\n",
    "$$\n",
    "J(\\theta_0, \\theta_1) = \\frac{1}{2m}\\sum_{i=1} ^m (\\theta_0 + \\theta_1 x^{(i)} - y^{(i)})^2\n",
    "$$\n",
    "This is for the case of a single feature $x$, leading to a model with two parameters (intercept and slope). The scalar $m$ is the number of data samples. The errors are the differences between the prediction of the model ($\\theta_0 + \\theta_1 x^{(i)}$) and the true values $y^{(i)}$.\n",
    "\n",
    "To apply a $L^1$ regularization to your model, you add the sum of the absolute values of the parameter vector to the cost function:\n",
    "\n",
    "$$\n",
    "J(\\theta_0, \\theta_1) = \\frac{1}{2m}\\sum_{i=1} ^m (\\theta_0 + \\theta_1 x^{(i)} - y^{(i)})^2 + \\alpha \\sum_{i=1}^n \\left| \\theta_i \\right|\n",
    "$$\n",
    "With $n$ being the number of parameters (here, two: $\\theta_0$ and $\\theta_1$). You can see that the extra term $\\sum_{i=1}^n \\left| \\theta_i \\right|$ is multiplied by the regularization parameter $alpha$."
   ]
  },
  {
   "cell_type": "markdown",
   "metadata": {},
   "source": [
    "##### Regularization Using the $L^2$ Norm"
   ]
  },
  {
   "cell_type": "markdown",
   "metadata": {},
   "source": [
    "Similarly, you can regularize the MSE cost function using the squared $L^2$ norm. We denote this regularization as the $L^2$ regularization:\n",
    "\n",
    "$$\n",
    "J(\\theta_0, \\theta_1) = \\frac{1}{2m}\\sum_{i=1} ^m (\\theta_0 + \\theta_1 x^{(i)} - y^{(i)})^2 + \\alpha \\sum_{i=1}^n\\theta_i^2\n",
    "$$\n",
    "The principle is the same as with the $L^1$ norm: you add a regularization term that will constraint the parameter values to be small. You’ll see next the differences between $L^1$ and $L^2$ regularization."
   ]
  },
  {
   "cell_type": "markdown",
   "metadata": {},
   "source": [
    "#### 1.5.2 Effect of Regularization on Polynomial Regression"
   ]
  },
  {
   "cell_type": "markdown",
   "metadata": {},
   "source": [
    "To see the effect of regularization, let's see the case of polynomial regression, which is a form of regression combining the powers of the features to create new features. For instance, if my only feature is  $x$, the degree-3 polynomials features are $x^2$ and $x^3$. Instead of having the linear equation $y=ax + b$, You’ll have $y=ax + b + cx^2 + dx^3$, meaning that you now have four parameters to optimize."
   ]
  },
  {
   "cell_type": "markdown",
   "metadata": {},
   "source": [
    "##### Data"
   ]
  },
  {
   "cell_type": "markdown",
   "metadata": {},
   "source": [
    "In this hands-on, You’ll use polynomial regression to model the total number of cases of COVID-19 in France (Ile-de-France area) in March 2020 (the data comes from https://www.data.gouv.fr/en/datasets/cas-confirmes-dinfection-au-covid-19-par-region/) . Since the growth of the number of cases is (unfortunately) not linear, you’ll use polynomials features to model the data."
   ]
  },
  {
   "cell_type": "markdown",
   "metadata": {},
   "source": [
    "Let's first load and plot the data: "
   ]
  },
  {
   "cell_type": "code",
   "execution_count": 65,
   "metadata": {},
   "outputs": [
    {
     "data": {
      "image/png": "[encoded data removed]",
      "text/plain": [
       "<Figure size 432x288 with 1 Axes>"
      ]
     },
     "metadata": {
      "needs_background": "dark"
     },
     "output_type": "display_data"
    }
   ],
   "source": [
    "data_covid = pd.read_csv(\"https://raw.githubusercontent.com/hadrienj/\" \\\n",
    "                        \"essential_math_for_data_science/master/data/covid19.csv\")\n",
    "data_covid['days'] = data_covid['Date'].str.split(\"/\").apply(lambda x: x[2]).astype(int)\n",
    "\n",
    "plt.scatter(data_covid['days'], data_covid[\"Ile-de-France\"])\n",
    "\n",
    "plt.xlabel(\"Days from the 04th of March 2020\")\n",
    "plt.ylabel(\"Number of cases of COVID-19\")\n",
    "plt.show()"
   ]
  },
  {
   "cell_type": "markdown",
   "metadata": {},
   "source": [
    "Figure 1: Number of cases of COVID19 in France (Ile-de-France area) in March 2020."
   ]
  },
  {
   "cell_type": "markdown",
   "metadata": {},
   "source": [
    "You can see in Figure 1 that the number of cases increases in a non-linear way. Few days are missing at the beginning but it is not important here."
   ]
  },
  {
   "cell_type": "markdown",
   "metadata": {},
   "source": [
    "Let's create the variables I need to do polynomial regression. The only feature is the number of day since the first day (the 04th of March), represented as integers. The number of cases is the dependent variable. I can use the function $reshape(-1, 1)$ to have the features in the right shape for Sklearn (it doesn't want one-dimensional arrays):"
   ]
  },
  {
   "cell_type": "code",
   "execution_count": 66,
   "metadata": {},
   "outputs": [],
   "source": [
    "X = data_covid['days'].to_numpy().reshape(-1, 1)\n",
    "y = data_covid['Ile-de-France'].to_numpy()"
   ]
  },
  {
   "cell_type": "markdown",
   "metadata": {},
   "source": [
    "When you train a model that fits your training data very well, it can be the case that it is overfitting, meaning that the noise of the dataset is taken into consideration, leading to lack of generalization to unseen data."
   ]
  },
  {
   "cell_type": "markdown",
   "metadata": {},
   "source": [
    "To observe this effect, and how regularization can fix it, let's add some random noise to the data. It simulates noisy measurements, and will allow you to see how overfitting can be encountered and handled. You can use np.random.normal to add a normally distributed noise to the data, however, you'll also weight the noise we add to have more noise associated with the large value of X."
   ]
  },
  {
   "cell_type": "code",
   "execution_count": 68,
   "metadata": {},
   "outputs": [],
   "source": [
    "np.random.seed(1)\n",
    "y_noise = y + (np.random.normal(0, 100, X.shape[0]) * X.flatten()).flatten()"
   ]
  },
  {
   "cell_type": "code",
   "execution_count": 69,
   "metadata": {},
   "outputs": [
    {
     "data": {
      "image/png": "[encoded data removed]",
      "text/plain": [
       "<Figure size 432x288 with 1 Axes>"
      ]
     },
     "metadata": {
      "needs_background": "dark"
     },
     "output_type": "display_data"
    }
   ],
   "source": [
    "plt.scatter(X, y_noise)\n",
    "\n",
    "plt.xlabel('Days from the 04th of March 2020')\n",
    "plt.ylabel('Number of cases of COVID-19')\n",
    "plt.show()"
   ]
  },
  {
   "cell_type": "markdown",
   "metadata": {},
   "source": [
    "Figure 2: Noisy data will allow you to see the effect of overfitting and regularization."
   ]
  },
  {
   "cell_type": "markdown",
   "metadata": {},
   "source": [
    "Figure 2 shows the data after the addition of noise. It will allow you to visualize regularization effects. "
   ]
  },
  {
   "cell_type": "markdown",
   "metadata": {},
   "source": [
    "Regularized models are often sensitive to differences in scale in the data, so you need to normalize the data. You can use standardization (it transforms the data such as the mean is euqlas to 0 and the standard deviation is equals to 1) using the StandardScaler from Sklearn: "
   ]
  },
  {
   "cell_type": "code",
   "execution_count": 70,
   "metadata": {},
   "outputs": [],
   "source": [
    "from sklearn.preprocessing import StandardScaler\n",
    "scaler = StandardScaler()\n",
    "\n",
    "scaler.fit(X)\n",
    "X_transformed = scaler.transform(X)\n",
    "y_noise_transformed = scaler.transform(y_noise.reshape(-1, 1)).flatten()\n",
    "y_transformed = scaler.transform(y.reshape(-1, 1)).flatten()"
   ]
  },
  {
   "cell_type": "markdown",
   "metadata": {},
   "source": [
    "You now need to create the powers of the feature $x$. An easy way to do it is to use Sklearn PolynomialFeatures that adds all polynomial combinations. In this example, you have a single feature, and thus, there is no combination: it will add the additional features $x^2$, $x^3$ etc."
   ]
  },
  {
   "cell_type": "markdown",
   "metadata": {},
   "source": [
    "To observe overfitting, you’ll use a degree-10 of polynomial features (high degree polynomials create complex models that can easily overfit):"
   ]
  },
  {
   "cell_type": "code",
   "execution_count": 71,
   "metadata": {},
   "outputs": [],
   "source": [
    "import numpy as np\n",
    "from sklearn.preprocessing import PolynomialFeatures\n",
    "\n",
    "poly = PolynomialFeatures(10, include_bias=False)\n",
    "X_poly = poly.fit_transform(X_transformed)"
   ]
  },
  {
   "cell_type": "markdown",
   "metadata": {},
   "source": [
    "The option include_bias=False avoids the column of 1 created by Polynomialfeatures corresponding to the feature $x^0$. The variable X_poly contains now your new features. Here are, for instance, the two first rows:"
   ]
  },
  {
   "cell_type": "code",
   "execution_count": 72,
   "metadata": {},
   "outputs": [
    {
     "data": {
      "text/plain": [
       "array([[  -1.74873638,    3.05807893,   -5.34777387,    9.35184673,\n",
       "         -16.3539146 ,   28.59868542,  -50.01156162,   87.45703723,\n",
       "        -152.93930272,  267.45052265],\n",
       "       [  -1.59119256,    2.53189377,   -4.02873054,    6.41048606,\n",
       "         -10.20031774,   16.23066973,  -25.82612095,   41.09433157,\n",
       "         -65.38899474,  104.04648209]])"
      ]
     },
     "execution_count": 72,
     "metadata": {},
     "output_type": "execute_result"
    }
   ],
   "source": [
    "X_poly[:2]"
   ]
  },
  {
   "cell_type": "markdown",
   "metadata": {},
   "source": [
    "The ten columns correspond respectively to the following features:\n",
    "$x^0, x^1, x^2 \\cdots x^{10}$. The first column $x^0$ is thus a column filled with 1 (which is not included with include_bias=False) and the second column contains the values of $x^1$ which is just $x$.\n",
    "\n",
    "You’ll now do a linear regression using the polynomial features as input. It will optimize the weight of each feature ($x$, $x^2$, $x^3$ etc).\n",
    "\n",
    "To see the effect of the regularization you’ll use a linear model using a MSE cost function with $L^2$ regularization, which is called ridge regression.\n",
    "\n",
    "Let’s use the class Ridge from Sklearn and iterate over different values of the regularization parameter $\\alpha$. At each iteration, you’ll fit a new model with the corresponding value of $\\alpha$, do the prediction on a range of values, and finally use these predictions to plot the regression curve."
   ]
  },
  {
   "cell_type": "code",
   "execution_count": 75,
   "metadata": {},
   "outputs": [
    {
     "data": {
      "image/png": "[encoded data removed]",
      "text/plain": [
       "<Figure size 1152x288 with 5 Axes>"
      ]
     },
     "metadata": {
      "needs_background": "dark"
     },
     "output_type": "display_data"
    }
   ],
   "source": [
    "from sklearn.linear_model import Ridge\n",
    "\n",
    "X_axis = np.arange(-1.7, 1.65, 0.01)\n",
    "X_axis_poly = poly.fit_transform(X_axis.reshape(-1, 1))\n",
    "\n",
    "f, axes = plt.subplots(1, 5, figsize=(16, 4), sharey=True)\n",
    "\n",
    "\n",
    "count = 0\n",
    "\n",
    "for alpha, ax in zip([0.00001, 0.001, 0.01, 1, 1e5], axes.flatten()):\n",
    "    ridge = Ridge(alpha=alpha)\n",
    "    ridge.fit(X_poly, y_noise_transformed)\n",
    "    y_axis_ridge = ridge.predict(X_axis_poly)\n",
    "\n",
    "    ax.plot(X_axis_poly[:, 0], y_axis_ridge, c=\"#F57F53\")\n",
    "    ax.scatter(X_transformed, y_transformed,\n",
    "                alpha=0.6, s=60, label=\"Data\")\n",
    "    ax.scatter(X_transformed, y_noise_transformed,\n",
    "                alpha=0.6, s=60, label=\"Data with noise\")\n",
    "    ax.set_title(r\"$\\alpha$\" + f\" = {alpha}\")\n",
    "    # [...] Figure titles, legend...\n",
    "    \n",
    "    if count ==  0:\n",
    "        ax.legend()\n",
    "    count += 1"
   ]
  },
  {
   "cell_type": "markdown",
   "metadata": {},
   "source": [
    "Figure 3: Effect of the regularization rate α."
   ]
  },
  {
   "cell_type": "markdown",
   "metadata": {},
   "source": [
    "You can see the effect of regularization in Figure 3. Raw data is shown in blue and data with noise in green. The red curve is the regression curve."
   ]
  },
  {
   "cell_type": "markdown",
   "metadata": {},
   "source": [
    "In the first plot, the hyperparameter $\\alpha$ is very small, leading to almost no regularization. You can see that the model is overfitting because the oscillations fit also the noise. When you increase $\\alpha$, the regularization is more important and the curve is smoother. Finally, with $\\alpha=1$, the fit is simpler and ignore a good part of the noise. However, if the value of $\\alpha$ is too large, the model becomes too simple and the regression curve is almost an horizontal line."
   ]
  },
  {
   "cell_type": "markdown",
   "metadata": {},
   "source": [
    "You can see how the mathematical concept of norm explains how regularization works. As you see in Figure 3, adding the term with the norm of the parameter vector has the effect to constrain the model to be simpler, which often leads to reducing overfitting. "
   ]
  },
  {
   "cell_type": "markdown",
   "metadata": {},
   "source": [
    "#### 1.5.3 Differences between $L^1$ and $L^2$ Regularization"
   ]
  },
  {
   "cell_type": "markdown",
   "metadata": {},
   "source": [
    "In this last part, you’ll visualize how the parameters are optimized and how they are changing during the training (using gradient descent), and what are the differences between the $L^1$ and the $L^2$ norms.\n",
    "\n",
    "In the previous section, you used the class Ridge from Sklearn, which uses the closed-form solution of the ridge regression expression. The other way to find the best parameters is to use gradient descent. You’ll use this method to visualize how the parameters change from their initial value (0 because of zero-initialization) to the best combination during the training, and look at how the parameters update epoch by epoch."
   ]
  },
  {
   "cell_type": "markdown",
   "metadata": {},
   "source": [
    "##### Creating the Polynomial Features"
   ]
  },
  {
   "cell_type": "markdown",
   "metadata": {},
   "source": [
    "To visualize the parameters, you'll use degree-2 polynomials to be able to visualize the parameter space in two dimensions (one parameter in each axis). (the intercept of the model is also learned, but it is not influenced by regularization so we can't use it for the purpose of this hands-on project). "
   ]
  },
  {
   "cell_type": "markdown",
   "metadata": {},
   "source": [
    "Let's create the features, as you did before:"
   ]
  },
  {
   "cell_type": "code",
   "execution_count": 77,
   "metadata": {},
   "outputs": [],
   "source": [
    "poly = PolynomialFeatures(2, include_bias=False)\n",
    "X_poly = poly.fit_transform(X_transformed)"
   ]
  },
  {
   "cell_type": "markdown",
   "metadata": {},
   "source": [
    "Here are the first three rows of your features (the first column is $x$ and the second $x^2$):"
   ]
  },
  {
   "cell_type": "code",
   "execution_count": 78,
   "metadata": {},
   "outputs": [
    {
     "data": {
      "text/plain": [
       "array([[-1.74873638,  3.05807893],\n",
       "       [-1.59119256,  2.53189377],\n",
       "       [-1.43364874,  2.05534872]])"
      ]
     },
     "execution_count": 78,
     "metadata": {},
     "output_type": "execute_result"
    }
   ],
   "source": [
    "X_poly[:3]"
   ]
  },
  {
   "cell_type": "markdown",
   "metadata": {},
   "source": [
    "Let's start by finding the best parameters for an unregularized model using the class LinearRegression:"
   ]
  },
  {
   "cell_type": "code",
   "execution_count": 79,
   "metadata": {},
   "outputs": [
    {
     "data": {
      "text/plain": [
       "LinearRegression()"
      ]
     },
     "execution_count": 79,
     "metadata": {},
     "output_type": "execute_result"
    }
   ],
   "source": [
    "from sklearn.linear_model import LinearRegression\n",
    "\n",
    "reg_poly = LinearRegression()\n",
    "reg_poly.fit(X_poly, y_transformed)"
   ]
  },
  {
   "cell_type": "markdown",
   "metadata": {},
   "source": [
    "Note that we used the raw data and not the data with added noise. The parameters are stored in the attribute named .coef_ and the intercept in .intercept_:"
   ]
  },
  {
   "cell_type": "code",
   "execution_count": 80,
   "metadata": {},
   "outputs": [
    {
     "data": {
      "text/plain": [
       "array([382.47220015, 157.18454754])"
      ]
     },
     "execution_count": 80,
     "metadata": {},
     "output_type": "execute_result"
    }
   ],
   "source": [
    "reg_poly.coef_"
   ]
  },
  {
   "cell_type": "code",
   "execution_count": 81,
   "metadata": {},
   "outputs": [
    {
     "data": {
      "text/plain": [
       "228.1597542097519"
      ]
     },
     "execution_count": 81,
     "metadata": {},
     "output_type": "execute_result"
    }
   ],
   "source": [
    "reg_poly.intercept_"
   ]
  },
  {
   "cell_type": "markdown",
   "metadata": {},
   "source": [
    "Keep in mind the mathematical meaning of this. It means that the model is mathematically defined as the following equation:\n",
    "$$\n",
    "y = 382.47220015 x + 157.18454754 x^2 + 228.15975420975187\n",
    "$$"
   ]
  },
  {
   "cell_type": "markdown",
   "metadata": {},
   "source": [
    "#### Using Gradient Descent"
   ]
  },
  {
   "cell_type": "markdown",
   "metadata": {},
   "source": [
    "##### Progression of Parameter Values Without Regularization"
   ]
  },
  {
   "cell_type": "markdown",
   "metadata": {},
   "source": [
    "Now that you know the best parameters, let's use gradient descent to see how the parameters are learned. Let's start by initializing the class SGDRegressor (the Sklearn implementation of gradient descent) without regularization. This will allow you to visualize the progression of the parameters from the initial values to the best combination."
   ]
  },
  {
   "cell_type": "code",
   "execution_count": 84,
   "metadata": {},
   "outputs": [],
   "source": [
    "from sklearn.linear_model import SGDRegressor\n",
    "\n",
    "sgd_reg = SGDRegressor(max_iter=10000, random_state=123, \n",
    "                       learning_rate='constant', eta0=0.01, \n",
    "                       penalty=None)"
   ]
  },
  {
   "cell_type": "markdown",
   "metadata": {},
   "source": [
    "By default, SGDRegressor uses a  $L^2$ regularization so you need to use penalty=None to have no regularization. The parameter learning_rate tells how the weights are updated and eta0 corresponds to the initial value of the learning rate (with learning_rate='constant', it will be the only value)."
   ]
  },
  {
   "cell_type": "markdown",
   "metadata": {},
   "source": [
    "Now, you'll run epochs using partial_fit, which updates parameters only once. You can store parameter values at each epoch to be able to visualize the process of the training:"
   ]
  },
  {
   "cell_type": "code",
   "execution_count": 85,
   "metadata": {},
   "outputs": [],
   "source": [
    "history_theta_0 = [0]\n",
    "history_theta_1 = [0]\n",
    "for i in range(30):\n",
    "    sgd_reg.partial_fit(X_poly, y_transformed)\n",
    "    \n",
    "    history_theta_0.append(sgd_reg.coef_[0].copy())\n",
    "    history_theta_1.append(sgd_reg.coef_[1].copy())"
   ]
  },
  {
   "cell_type": "markdown",
   "metadata": {},
   "source": [
    "##### Best Parameters with $L^1$ and $L^2$ and Various $\\alpha$"
   ]
  },
  {
   "cell_type": "markdown",
   "metadata": {},
   "source": [
    "Let’s use $L^1$ and $L^2$ regularization with different values of the regularization rate $\\alpha$ to see its influence.\n",
    "\n",
    "Let’s start with $L^1$ regularization:"
   ]
  },
  {
   "cell_type": "code",
   "execution_count": 88,
   "metadata": {},
   "outputs": [],
   "source": [
    "alpha_theta_0_l1 = []\n",
    "alpha_theta_1_l1 = []\n",
    "\n",
    "\n",
    "all_alpha_l1 = np.arange(0, 500, 20)\n",
    "for alpha in all_alpha_l1:\n",
    "    sgd_reg_l1 = SGDRegressor(max_iter=10000, verbose=0, random_state=123,\n",
    "                       learning_rate='constant', eta0=0.0001, penalty='l1', alpha=alpha)\n",
    "    sgd_reg_l1.fit(X_poly, y_transformed)\n",
    "    \n",
    "    alpha_theta_0_l1.append(sgd_reg_l1.coef_[0].copy())\n",
    "    alpha_theta_1_l1.append(sgd_reg_l1.coef_[1].copy())"
   ]
  },
  {
   "cell_type": "markdown",
   "metadata": {},
   "source": [
    "The array all_alpha_l1 contains various values of the regularization rate $\\alpha$ used in SGDRegressor. For each value of $\\alpha$, a new model is created, fitted to the data, and the model coefficients are stored."
   ]
  },
  {
   "cell_type": "markdown",
   "metadata": {},
   "source": [
    "Let’s do the same for $L^2$ regularization:"
   ]
  },
  {
   "cell_type": "code",
   "execution_count": 90,
   "metadata": {},
   "outputs": [],
   "source": [
    "alpha_theta_0_l2 = []\n",
    "alpha_theta_1_l2 = []\n",
    "\n",
    "all_alpha_l2 = np.arange(0, 50, 0.2)\n",
    "for alpha in all_alpha_l2:\n",
    "    sgd_reg_l2 = SGDRegressor(max_iter=10000, verbose=0, random_state=123,\n",
    "                             learning_rate='constant', eta0=0.0001, penalty='l2', alpha=alpha)\n",
    "    sgd_reg_l2.fit(X_poly, y_transformed)\n",
    "    \n",
    "    alpha_theta_0_l2.append(sgd_reg_l2.coef_[0].copy())\n",
    "    alpha_theta_1_l2.append(sgd_reg_l2.coef_[1].copy())"
   ]
  },
  {
   "cell_type": "code",
   "execution_count": 92,
   "metadata": {},
   "outputs": [],
   "source": [
    "x_space = np.linspace(-400, 400, 100)\n",
    "y_space = np.linspace(-400, 400, 100)\n",
    "\n",
    "X_space, Y_space = np.meshgrid(x_space, y_space)\n",
    "\n",
    "def cost_function_l1(X, Y):\n",
    "    Z = np.abs(X) + np.abs(Y)\n",
    "    return Z\n",
    "\n",
    "def cost_function_l2(X, Y):\n",
    "    Z = np.sqrt(np.square(X) + np.square(Y))\n",
    "    return Z\n",
    "\n",
    "def cost_function_max(X, Y):\n",
    "    Z = np.maximum(np.abs(X), np.abs(Y))\n",
    "    return Z \n",
    "\n",
    "Z_1 = cost_function_l1(X_space, Y_space)\n",
    "Z_2 = cost_function_l2(X_space, Y_space)\n",
    "Z_3 = cost_function_max(X_space, Y_space)"
   ]
  },
  {
   "cell_type": "markdown",
   "metadata": {},
   "source": [
    "That's good, you can now plot all of how the parameters change for $L^1$ and $L^2$ regularization."
   ]
  },
  {
   "cell_type": "code",
   "execution_count": 94,
   "metadata": {},
   "outputs": [
    {
     "data": {
      "image/png": "[encoded data removed]",
      "text/plain": [
       "<Figure size 432x648 with 4 Axes>"
      ]
     },
     "metadata": {
      "needs_background": "dark"
     },
     "output_type": "display_data"
    }
   ],
   "source": [
    "from mpl_toolkits.axes_grid1 import make_axes_locatable\n",
    "import matplotlib.colors\n",
    "\n",
    "custom_cmap = matplotlib.colors.LinearSegmentedColormap.from_list(\"\", [\"#2EBCE7\",\"#F57F53\"])\n",
    "\n",
    "f, axes = plt.subplots(nrows=2, ncols=1, figsize=(6, 9))\n",
    "axes = axes.flatten()\n",
    "\n",
    "for i in range(axes.shape[0]):\n",
    "    axes[i].quiver(np.array(history_theta_0)[:-1],\n",
    "                   np.array(history_theta_1)[:-1],\n",
    "                   np.array(history_theta_0)[1:] - np.array(history_theta_0)[:-1],\n",
    "                   np.array(history_theta_1)[1:] - np.array(history_theta_1)[:-1], \n",
    "                   angles='xy', scale_units='xy', scale=1, color=\"gray\")\n",
    "    axes[i].scatter(history_theta_0[0], history_theta_1[0], c=\"gray\", s=200, marker=\"+\", linewidth=2)\n",
    "    axes[i].scatter(reg_poly.coef_[0], reg_poly.coef_[1], c=\"gray\", marker=\"+\", s=400, zorder=0)\n",
    "    axes[i].text(history_theta_0[0] - 20,\n",
    "                 history_theta_1[0] + 20,\n",
    "                 r'Start', color=\"gray\", size=16)\n",
    "    axes[i].text(history_theta_0[-1] + (history_theta_0[-1] / 20),\n",
    "                 history_theta_1[-1] + (history_theta_1[-1] / 7),\n",
    "                 'Unregularized\\nsolution', color=\"gray\", size=16, horizontalalignment=\"right\")\n",
    "    \n",
    "    # draw axes\n",
    "    axes[i].axhline(0, c='#d6d6d6', zorder=-1)\n",
    "    axes[i].axvline(0, c='#d6d6d6', zorder=-1)\n",
    "\n",
    "    axes[i].set_xlabel(r\"$\\theta_0$\")\n",
    "    axes[i].set_ylabel(r\"$\\theta_1$\")\n",
    "    \n",
    "    axes[i].set_xlim(-20, 415)\n",
    "    axes[i].set_ylim(-20, 270)\n",
    "\n",
    "\n",
    "scatter0 = axes[0].scatter(alpha_theta_0_l1, alpha_theta_1_l1, c=np.arange(len(alpha_theta_1_l1)),\n",
    "                cmap=custom_cmap, s=80, marker=\"x\", linewidth=2)\n",
    "\n",
    "divider = make_axes_locatable(axes[0])\n",
    "cax = divider.append_axes('right', size='5%', pad=0.05)\n",
    "cbar = f.colorbar(scatter0, cax=cax, orientation='vertical')\n",
    "cbar.ax.get_yaxis().labelpad = 15\n",
    "cbar.ax.set_ylabel(r'$\\alpha$', rotation=270)\n",
    "axes[0].set_title(\"$L^1$ regularization\")\n",
    "\n",
    "\n",
    "scatter1 = axes[1].scatter(alpha_theta_0_l2, alpha_theta_1_l2, c=np.arange(len(alpha_theta_1_l2)),\n",
    "                cmap=custom_cmap, s=80, marker=\"x\", linewidth=2)\n",
    "\n",
    "divider = make_axes_locatable(axes[1])\n",
    "cax = divider.append_axes('right', size='5%', pad=0.05)\n",
    "cbar = f.colorbar(scatter1, cax=cax, orientation='vertical')\n",
    "cbar.ax.get_yaxis().labelpad = 15\n",
    "cbar.ax.set_ylabel(r'$\\alpha$', rotation=270)\n",
    "axes[1].set_title(\"$L^2$ regularization\")\n",
    "\n",
    "\n",
    "\n",
    "plt.tight_layout(pad=0.4, w_pad=0.5, h_pad=1.0)\n",
    "plt.show()\n"
   ]
  },
  {
   "cell_type": "markdown",
   "metadata": {},
   "source": [
    "Figure 4: Visualization of the effect of L1 (left) and L2 regularization in the parameter space (θ1 as a function of θ0). The gray arrows shows the path in the case of no regularization. The crosses correspond to solutions with regularization, and the color shows the amount of regularization (values of α)."
   ]
  },
  {
   "cell_type": "markdown",
   "metadata": {},
   "source": [
    "Figure 4 shows the parameters $\\theta_1$ ($y$-axis) as a function of $\\theta_0$ ($x$-axis) in the context of gradient descent. The learning path without regularization is shown as the gray arrows (each arrow corresponds to one epoch). They go from the initial point (zero for both parameters) to the best solution when there is no regularization.\n",
    "\n",
    "The solution found with gradient descent is different if you use regularization. The cross symbols correspond to the solutions found with a specific value of $\\alpha$ (this value is given by the color of the symbol). When $\\alpha$ equals zero (blue cross symbols), the regularization term equals zero, so you’re in the case of no regularization and the point is close to the unregularized solution. When $\\alpha$ is larger, the regularization is stronger, until the solution approaches zero (red cross symbols) because the model wants only minimize the norm of the parameter vector.\n",
    "\n",
    "You can then compare the positions of the cross symbols with $L^1$ (left) and $L^2$ (right). With $L^1$ regularization, one of the two parameters ($\\theta_0$) is pulled toward zero when regularization gets stronger, and only then, the other parameter ($\\theta_1$) goes to zero. This shows a major characteristic of the $L^1$ regularization: it enforces the sparsity of the parameters. This means that the parameters are constraints to be small with the strategy to set some of the parameters to zero instead of reducing all of them. This can be use as feature selection.\n",
    "\n",
    "With $L^2$ regularization, both $\\theta_0$ and $\\theta_1$ are similarly pulled toward zero when $\\alpha$ increases: it prefers parameters near but different than zero "
   ]
  },
  {
   "cell_type": "markdown",
   "metadata": {},
   "source": [
    "#### Visualizing Regularized Cost Functions"
   ]
  },
  {
   "cell_type": "markdown",
   "metadata": {},
   "source": [
    "To finish the hands-on project, you’ll create contour plots of cost functions regularized with $L^1$ and $L^2$. You’ll see that the cost function depends heavily on the regularization parameter $\\alpha$.\n",
    "\n",
    "To create these plots, you need to calculate the cost for any combinations of parameters in the range you want to visualize. This is a job for the Numpy function np.meshgrid: you input one-dimensional arrays (vectors) corresponding to the ranges of $\\theta_0$ and $\\theta_1$ and it returns two two-dimensional arrays organized such that if you take pairs of values from them, you get all possible combinations."
   ]
  },
  {
   "cell_type": "code",
   "execution_count": 96,
   "metadata": {},
   "outputs": [],
   "source": [
    "theta_0_space = np.linspace(-300, 550, 100)\n",
    "theta_1_space = np.linspace(-300, 550, 100)\n",
    "\n",
    "theta_0_mesh, theta_1_mesh = np.meshgrid(theta_0_space, theta_1_space)"
   ]
  },
  {
   "cell_type": "markdown",
   "metadata": {},
   "source": [
    "Next, you'll create the MSE cost function that takes the data (X and y), the weights (theta_0, theta_1 and intercept), and the regularization parameter $\\alpha$. Note that the computation is not fully vectorized to be easier to understand."
   ]
  },
  {
   "cell_type": "markdown",
   "metadata": {},
   "source": [
    "You'll also implement the $L^1$ and $L^2$ norms:"
   ]
  },
  {
   "cell_type": "code",
   "execution_count": 97,
   "metadata": {},
   "outputs": [],
   "source": [
    "def J(X, y, theta_0, theta_1, intercept):\n",
    "    m = X.shape[0]\n",
    "    sum_cost = 0\n",
    "    for i in range(m):\n",
    "        sum_cost += (((intercept + theta_0 * X[i, 0] + theta_1 * X[i, 1])) - y[i]) ** 2\n",
    "            \n",
    "    return (1 / (2 * m)) * sum_cost\n",
    "\n",
    "def l1(theta_0, theta_1, alpha):\n",
    "    return alpha * (np.abs(theta_0) + np.abs(theta_1))\n",
    "    \n",
    "def l2(theta_0, theta_1, alpha):\n",
    "    return alpha * (theta_0 ** 2 + theta_1 ** 2)"
   ]
  },
  {
   "cell_type": "markdown",
   "metadata": {},
   "source": [
    "Finally, let’s use the function contourf from Matplotlib to visualize the cost function associated with various values of $\\alpha$ for the $L^1$ and $L^2$ regularizations:"
   ]
  },
  {
   "cell_type": "code",
   "execution_count": 99,
   "metadata": {},
   "outputs": [
    {
     "data": {
      "image/png": "[encoded data removed]",
      "text/plain": [
       "<Figure size 1224x288 with 5 Axes>"
      ]
     },
     "metadata": {
      "needs_background": "dark"
     },
     "output_type": "display_data"
    }
   ],
   "source": [
    "f, axes = plt.subplots(nrows=1, ncols=4, figsize=(17, 4), sharey=True)\n",
    "\n",
    "alpha_values = [20, 150, 230, 500]\n",
    "\n",
    "for alpha, ax in zip(alpha_values, axes.flatten()):\n",
    "    cost_contour = J(X=X_poly, y=y_transformed, theta_0=theta_0_mesh, theta_1=theta_1_mesh,\n",
    "                 intercept=reg_poly.intercept_) + l1(theta_0_mesh, theta_1_mesh, alpha=alpha)\n",
    "\n",
    "    contour_plot = ax.contourf(theta_0_mesh, theta_1_mesh, cost_contour, levels=10, zorder=0, cmap=\"inferno\")\n",
    "    ax.scatter(reg_poly.coef_[0], reg_poly.coef_[1], c=\"gray\", marker=\"+\", s=200, zorder=0)\n",
    "    \n",
    "    # [...] Add axes, limits, titles, etc.\n",
    "    \n",
    "    ax.set_xlim(-200, 450)\n",
    "    ax.set_ylim(-200, 450)\n",
    "    \n",
    "    ax.set_title(r\"$\\alpha$ = \" + f\"{alpha}\")\n",
    "    \n",
    "    ax.set_xlabel(r\"$\\theta_0$\")\n",
    "    ax.set_ylabel(r\"$\\theta_1$\")\n",
    "    \n",
    "    ax.axhline(0, c='#a9a9a9', zorder=1, linewidth=1)\n",
    "    ax.axvline(0, c='#a9a9a9', zorder=1, linewidth=1)\n",
    "    \n",
    "\n",
    "\n",
    "divider = make_axes_locatable(ax)\n",
    "cax = divider.append_axes('right', size='5%', pad=0.05)\n",
    "cbar = f.colorbar(contour_plot, cax=cax, orientation='vertical', format='%.0e')\n",
    "cbar.ax.get_yaxis().labelpad = 15\n",
    "cbar.ax.set_ylabel(r'Cost', rotation=270)\n",
    "plt.show()"
   ]
  },
  {
   "cell_type": "markdown",
   "metadata": {},
   "source": [
    "Figure 5: The MSE cost function with L1 regularization. The cost (dark colors corresponds to small costs) is represented for each pair of parameters θ0 and θ1, and for different value of α."
   ]
  },
  {
   "cell_type": "markdown",
   "metadata": {},
   "source": [
    "You can see in Figure 5 that the cost function changes when the regularization parameter increases. It tends to have the shape of the $L^1$ regularization term (you can look in Figure 91 at the $L^1$ and $L^2$ regularization terms alone)."
   ]
  },
  {
   "cell_type": "code",
   "execution_count": 100,
   "metadata": {},
   "outputs": [
    {
     "data": {
      "image/png": "[encoded data removed]",
      "text/plain": [
       "<Figure size 648x288 with 3 Axes>"
      ]
     },
     "metadata": {
      "needs_background": "dark"
     },
     "output_type": "display_data"
    }
   ],
   "source": [
    "theta_0_space_reg = np.linspace(-200, 200, 100)\n",
    "theta_1_space_reg = np.linspace(-200, 200, 100)\n",
    "\n",
    "theta_0_mesh_reg, theta_1_mesh_reg = np.meshgrid(theta_0_space_reg, theta_1_space_reg)\n",
    "\n",
    "f, axes = plt.subplots(nrows=1, ncols=2, figsize=(9, 4), sharey=True)\n",
    "\n",
    "contour_plot = axes[0].contourf(theta_0_mesh_reg, theta_1_mesh_reg, l1(theta_0_mesh_reg, theta_1_mesh_reg, alpha=1),\n",
    "                           levels=10, zorder=0, cmap=\"inferno\")\n",
    "\n",
    "contour_plot = axes[1].contourf(theta_0_mesh_reg, theta_1_mesh_reg, l2(theta_0_mesh_reg, theta_1_mesh_reg, alpha=1),\n",
    "                           levels=10, zorder=0, cmap=\"inferno\")\n",
    "\n",
    "for ax in axes.flatten():\n",
    "    ax.set_xlim(-200, 200)\n",
    "    ax.set_ylim(-200, 200)\n",
    "    \n",
    "    \n",
    "    ax.axhline(0, c='#a9a9a9', zorder=1, linewidth=1)\n",
    "    ax.axvline(0, c='#a9a9a9', zorder=1, linewidth=1)\n",
    "    \n",
    "\n",
    "\n",
    "divider = make_axes_locatable(ax)\n",
    "cax = divider.append_axes('right', size='5%', pad=0.05)\n",
    "cbar = f.colorbar(contour_plot, cax=cax, orientation='vertical', format='%.0e')\n",
    "cbar.ax.get_yaxis().labelpad = 15\n",
    "cbar.ax.set_ylabel(r'Cost', rotation=270)\n",
    "plt.show()"
   ]
  },
  {
   "cell_type": "markdown",
   "metadata": {},
   "source": [
    "Figure 6: Regularization terms: L1 in the left plot and L2 in the right plot. Dark colors correspond to a smaller cost.\n",
    "\n",
    "Figure 6 shows the contour plot of the regularization term alone, without cost function.\n",
    "\n",
    "Let’s now have a look at the $L^2$ regularized MSE cost function:"
   ]
  },
  {
   "cell_type": "code",
   "execution_count": 101,
   "metadata": {},
   "outputs": [
    {
     "data": {
      "image/png": "[encoded data removed]",
      "text/plain": [
       "<Figure size 1224x288 with 5 Axes>"
      ]
     },
     "metadata": {
      "needs_background": "dark"
     },
     "output_type": "display_data"
    }
   ],
   "source": [
    "f, axes = plt.subplots(nrows=1, ncols=4, figsize=(17, 4), sharey=True)\n",
    "    \n",
    "for alpha, ax in zip([0.01, 0.3, 1, 10.0], axes.flatten()):\n",
    "    cost_contour = J(X=X_poly, y=y_transformed, theta_0=theta_0_mesh, theta_1=theta_1_mesh,\n",
    "                 intercept=reg_poly.intercept_) + l2(theta_0_mesh, theta_1_mesh, alpha=alpha)\n",
    "\n",
    "    ax.contourf(theta_0_mesh, theta_1_mesh, cost_contour, levels=10, zorder=0, cmap=\"inferno\")\n",
    "    ax.scatter(reg_poly.coef_[0], reg_poly.coef_[1], c=\"gray\", marker=\"+\", s=200, zorder=0)\n",
    "    # [...] Add axes, limits, titles, etc.\n",
    "    \n",
    "    ax.set_title(r\"$\\alpha$ = \" + f\"{alpha}\")\n",
    "    \n",
    "    ax.set_xlim(-200, 450)\n",
    "    ax.set_ylim(-200, 450)\n",
    "    \n",
    "    ax.axhline(0, c='#a9a9a9', zorder=1, linewidth=1)\n",
    "    ax.axvline(0, c='#a9a9a9', zorder=1, linewidth=1)\n",
    "    \n",
    "\n",
    "\n",
    "divider = make_axes_locatable(ax)\n",
    "cax = divider.append_axes('right', size='5%', pad=0.05)\n",
    "cbar = f.colorbar(contour_plot, cax=cax, orientation='vertical', format='%.0e')\n",
    "cbar.ax.get_yaxis().labelpad = 15\n",
    "cbar.ax.set_ylabel(r'Cost', rotation=270)\n",
    "plt.show()"
   ]
  },
  {
   "cell_type": "markdown",
   "metadata": {},
   "source": [
    "Figure 7: The MSE cost function with L2 regularization. The cost (dark colors corresponds to small costs) is represented for each pair of parameters θ0 and θ1, and for different value of the regularization parameter α.\n",
    "\n",
    "Figure 7 shows again that regularized cost functions tends to the $L^2$ term alone when the regularization parameter increases. However, unlike with $L^1$, the region where some parameters are equal to zero are not easily reached, leading to a decrease of all the parameter values."
   ]
  }
 ],
 "metadata": {
  "kernelspec": {
   "display_name": "Python 3",
   "language": "python",
   "name": "python3"
  },
  "language_info": {
   "codemirror_mode": {
    "name": "ipython",
    "version": 3
   },
   "file_extension": ".py",
   "mimetype": "text/x-python",
   "name": "python",
   "nbconvert_exporter": "python",
   "pygments_lexer": "ipython3",
   "version": "3.8.3"
  }
 },
 "nbformat": 4,
 "nbformat_minor": 4
}
